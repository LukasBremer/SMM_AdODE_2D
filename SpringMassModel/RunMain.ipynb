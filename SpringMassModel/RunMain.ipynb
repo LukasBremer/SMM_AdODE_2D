{
 "cells": [
  {
   "cell_type": "code",
   "execution_count": 4,
   "metadata": {},
   "outputs": [],
   "source": [
    "import jax.numpy as jnp\n",
    "from jax import jit \n",
    "from jax.flatten_util import ravel_pytree\n",
    "\n",
    "import numpy as np\n",
    "import scipy\n",
    "import matplotlib.pyplot as plt\n",
    "import interpax \n",
    "\n",
    "from scipy.signal import find_peaks\n",
    "from adoptODE import train_adoptODE, simple_simulation, dataset_adoptODE\n",
    "from HelperAndMechanics import *\n",
    "import progressbar\n",
    "import argparse\n",
    "import subprocess"
   ]
  },
  {
   "cell_type": "markdown",
   "metadata": {},
   "source": []
  },
  {
   "cell_type": "markdown",
   "metadata": {},
   "source": [
    "### fit whole grid "
   ]
  },
  {
   "cell_type": "code",
   "execution_count": null,
   "metadata": {},
   "outputs": [
    {
     "name": "stdout",
     "output_type": "stream",
     "text": [
      "0 0 3.3972116852964973e-07 2\n",
      "0 0 3.3972116852964973e-07\n",
      "0 1 7.10266760961531e-08 1\n",
      "0 1 7.10266760961531e-08\n",
      "0 2 1.7972311638914107e-08 3\n",
      "0 2 1.7972311638914107e-08\n",
      "0 3 8.294649944673438e-08 1\n",
      "0 3 8.294649944673438e-08\n",
      "0 4 1.2283994976769463e-07 1\n",
      "0 4 1.2283994976769463e-07\n",
      "0 5 1.0509735659525177e-07 2\n",
      "0 5 1.0509735659525177e-07\n",
      "0 5 0 2.4527297526333314e-08 1\n",
      "0 5 0 error\n",
      "0 6 4.99403860487746e-08 1\n",
      "0 6 4.99403860487746e-08\n",
      "0 7 1.230704356203205e-07 1\n",
      "0 7 1.230704356203205e-07\n",
      "0 8 1.510080949174153e-07 1\n",
      "0 8 1.510080949174153e-07\n",
      "0 9 nan\n",
      "1 0 6.041209310581053e-09 1\n",
      "1 0 6.041209310581053e-09\n",
      "1 1 1.6110756462239806e-07 1\n",
      "1 1 1.6110756462239806e-07\n",
      "1 2 1.796492510308667e-09 1\n",
      "1 2 1.796492510308667e-09\n",
      "1 3 2.779717345191557e-09 1\n",
      "1 3 2.779717345191557e-09\n",
      "1 4 3.6549451465361926e-07 1\n",
      "1 4 3.6549451465361926e-07\n",
      "1 5 6.410034103510043e-08 1\n",
      "1 5 6.410034103510043e-08\n",
      "1 6 2.1860525833972133e-08 1\n",
      "1 6 2.1860525833972133e-08\n",
      "1 7 6.431609733681398e-08 1\n",
      "1 7 6.431609733681398e-08\n",
      "1 8 5.267995817348492e-08 1\n",
      "1 8 5.267995817348492e-08\n",
      "1 9 1.4937225500943896e-07 1\n",
      "1 9 1.4937225500943896e-07\n",
      "2 0 1.1511850139811486e-08 1\n",
      "2 0 1.1511850139811486e-08\n",
      "2 1 6.553814557719306e-08 1\n",
      "2 1 6.553814557719306e-08\n",
      "2 2 1.4027624395396288e-08 1\n",
      "2 2 1.4027624395396288e-08\n",
      "2 3 1.9869301581820764e-07 1\n",
      "2 3 1.9869301581820764e-07\n",
      "2 4 nan\n",
      "2 5 4.1517246529565455e-08 1\n",
      "2 5 4.1517246529565455e-08\n",
      "2 6 1.6365754973435287e-08 1\n",
      "2 6 1.6365754973435287e-08\n",
      "2 7 1.3775812712779612e-09 1\n",
      "2 7 1.3775812712779612e-09\n",
      "2 8 6.403735852700265e-08 2\n",
      "2 8 6.403735852700265e-08\n",
      "2 9 1.6135741987000074e-07 1\n",
      "2 9 1.6135741987000074e-07\n",
      "3 0 nan\n",
      "3 1 6.958447897886799e-07\n",
      "3 2 1.0715294429530786e-08 2\n",
      "3 2 1.0715294429530786e-08\n",
      "3 3 1.3657255237831123e-07 1\n",
      "3 3 1.3657255237831123e-07\n",
      "3 4 2.9138925938809734e-08 1\n",
      "3 4 2.9138925938809734e-08\n",
      "3 5 9.848913862242625e-08 1\n",
      "3 5 9.848913862242625e-08\n",
      "3 6 5.328802998860738e-08 1\n",
      "3 6 5.328802998860738e-08\n",
      "3 7 3.180155090376502e-07 1\n",
      "3 7 3.180155090376502e-07\n",
      "3 8 5.575759409737202e-09 1\n",
      "3 8 5.575759409737202e-09\n",
      "3 9 7.046274390631879e-07\n",
      "4 0 2.562786249882265e-08 1\n",
      "4 0 2.562786249882265e-08\n",
      "4 1 5.957070925433072e-08 1\n",
      "4 1 5.957070925433072e-08\n",
      "4 2 1.902464497050005e-08 1\n",
      "4 2 1.902464497050005e-08\n",
      "4 3 1.0343339340579405e-07 1\n",
      "4 3 1.0343339340579405e-07\n",
      "4 4 1.6556580817450595e-07 1\n",
      "4 4 1.6556580817450595e-07\n",
      "4 5 2.741541607065301e-07 1\n",
      "4 5 2.741541607065301e-07\n",
      "4 6 1.401653406674086e-07 1\n",
      "4 6 1.401653406674086e-07\n",
      "4 7 7.175720497798466e-07\n",
      "4 8 1.1494162777125894e-07 3\n",
      "4 8 1.1494162777125894e-07\n",
      "4 9 6.794562068535015e-08 1\n",
      "4 9 6.794562068535015e-08\n",
      "5 0 5.441094685920689e-09 1\n",
      "5 0 5.441094685920689e-09\n",
      "5 1 1.1924172760302554e-08 2\n",
      "5 1 1.1924172760302554e-08\n",
      "5 2 2.2030967272712587e-08 1\n",
      "5 2 2.2030967272712587e-08\n",
      "5 3 2.3055235942592844e-07 1\n",
      "5 3 2.3055235942592844e-07\n",
      "5 4 9.97467664021201e-10 1\n",
      "5 4 9.97467664021201e-10\n",
      "5 4 0 9.97467664021201e-10 1\n",
      "5 4 0 error\n",
      "5 4 0 3.568866802083903e-08 2\n",
      "5 4 0 error\n",
      "5 5 2.027533696491446e-07 1\n",
      "5 5 2.027533696491446e-07\n",
      "5 6 2.4005391452419644e-08 1\n",
      "5 6 2.4005391452419644e-08\n",
      "5 7 4.861582851845014e-07 1\n",
      "5 7 4.861582851845014e-07\n",
      "5 8 1.3079625205136836e-07 1\n",
      "5 8 1.3079625205136836e-07\n",
      "5 9 8.916755689369893e-08 1\n",
      "5 9 8.916755689369893e-08\n",
      "6 0 1.8411976387966433e-09 1\n",
      "6 0 1.8411976387966433e-09\n",
      "6 1 7.151022174411992e-08 1\n",
      "6 1 7.151022174411992e-08\n",
      "6 2 6.902930493879467e-08 1\n",
      "6 2 6.902930493879467e-08\n",
      "6 3 1.9872227596806624e-07 1\n",
      "6 3 1.9872227596806624e-07\n",
      "6 4 3.5618224814015775e-08 1\n",
      "6 4 3.5618224814015775e-08\n",
      "6 5 1.8766118614621519e-07 4\n",
      "6 5 1.8766118614621519e-07\n",
      "6 6 2.854154388387542e-07 2\n",
      "6 6 2.854154388387542e-07\n",
      "6 7 2.5318905727544916e-07 1\n",
      "6 7 2.5318905727544916e-07\n",
      "6 8 5.003087011345997e-08 1\n",
      "6 8 5.003087011345997e-08\n",
      "6 9 7.23120336942884e-08 3\n",
      "6 9 7.23120336942884e-08\n",
      "7 0 5.499927624441625e-09 1\n",
      "7 0 5.499927624441625e-09\n",
      "7 1 2.432241217320552e-07 1\n",
      "7 1 2.432241217320552e-07\n",
      "7 2 3.4894817417807644e-06\n",
      "7 3 4.974746161678922e-07 4\n",
      "7 3 4.974746161678922e-07\n",
      "7 4 1.4269169845704255e-08 1\n",
      "7 4 1.4269169845704255e-08\n",
      "7 5 1.0607199563139602e-08 1\n",
      "7 5 1.0607199563139602e-08\n",
      "7 6 3.036854101523545e-09 4\n",
      "7 6 3.036854101523545e-09\n",
      "7 7 2.004058217153215e-07 1\n",
      "7 7 2.004058217153215e-07\n",
      "7 8 9.248558541230523e-08 1\n",
      "7 8 9.248558541230523e-08\n",
      "7 9 nan\n",
      "8 0 8.187723921082579e-08 1\n",
      "8 0 8.187723921082579e-08\n",
      "8 1 3.637877554751867e-08 1\n",
      "8 1 3.637877554751867e-08\n",
      "8 2 2.3641725022116589e-07 1\n",
      "8 2 2.3641725022116589e-07\n",
      "8 3 1.567765117727049e-08 1\n",
      "8 3 1.567765117727049e-08\n",
      "8 4 4.312118306870616e-08 1\n",
      "8 4 4.312118306870616e-08\n",
      "8 5 3.5380239182813966e-08 3\n",
      "8 5 3.5380239182813966e-08\n",
      "8 6 nan\n",
      "8 7 2.0134960365680854e-08 1\n",
      "8 7 2.0134960365680854e-08\n",
      "8 7 0 1.207707356343235e-08 1\n",
      "8 7 0 error\n",
      "8 8 2.457152561419207e-07 1\n",
      "8 8 2.457152561419207e-07\n",
      "8 9 8.476170876292599e-08 1\n",
      "8 9 8.476170876292599e-08\n",
      "9 0 2.3500161816514265e-08 1\n",
      "9 0 2.3500161816514265e-08\n",
      "9 1 2.7731599061553425e-07 1\n",
      "9 1 2.7731599061553425e-07\n",
      "9 2 3.495344813586598e-08 1\n",
      "9 2 3.495344813586598e-08\n",
      "9 3 6.080880865511062e-08 1\n",
      "9 3 6.080880865511062e-08\n",
      "9 4 3.4650128100111033e-07 1\n",
      "9 4 3.4650128100111033e-07\n",
      "9 5 1.115511096827504e-07 1\n",
      "9 5 1.115511096827504e-07\n",
      "9 6 1.4940624737391772e-08 1\n",
      "9 6 1.4940624737391772e-08\n",
      "9 7 1.0700675900920942e-08 1\n",
      "9 7 1.0700675900920942e-08\n",
      "9 8 1.7602333457489294e-07 1\n",
      "9 8 1.7602333457489294e-07\n",
      "9 9 4.3046694031545485e-07 1\n",
      "9 9 4.3046694031545485e-07\n"
     ]
    }
   ],
   "source": [
    "T_standard = [1,2,3,4,5]\n",
    "# Define the input numbers\n",
    "for i in range(10):\n",
    "    for j in range(10):\n",
    "        max_shift = 0\n",
    "        for k in range(5):\n",
    "            result = subprocess.run(['python3', 'SinglePeakModelMain.py', str(i), str(j), str(k), str(T_standard[k]),str(max_shift)], capture_output=True, text=True)\n",
    "            loss = np.load('../data/SpringMassModel/EtaSweep/eta_sweep3.npy')[i,j,k,1]\n",
    "            if loss < 5e-7:\n",
    "                print(i,j,loss,T_standard[k])\n",
    "                break\n",
    "\n",
    "        if loss > 5e-7:\n",
    "            for k in range(5):\n",
    "                result = subprocess.run(['python3', 'SinglePeakModelMain.py', str(i), str(j), str(k), str(T_standard[k]),str(max_shift)], capture_output=True, text=True)\n",
    "                loss = np.load('../data/SpringMassModel/EtaSweep/eta_sweep3.npy')[i,j,k,1]\n",
    "                if loss < 1e-6:\n",
    "                    break\n",
    "\n",
    "        if loss > 1e-6:\n",
    "            for k in range(5):\n",
    "                result = subprocess.run(['python3', 'SinglePeakModelMain.py', str(i), str(j), str(k), str(T_standard[k]),str(max_shift)], capture_output=True, text=True)\n",
    "                loss = np.load('../data/SpringMassModel/EtaSweep/eta_sweep3.npy')[i,j,k,1]\n",
    "                if loss < 1e-6:data/fiber_orientation.txt\n",
    "                    break\n",
    "            \n",
    "            print(i, j, k,'error')\n",
    "            eta_temp = np.load('../data/SpringMassModel/EtaSweep/eta_sweep3.npy')[i, j, :, 0]\n",
    "            eta_temp[np.isnan(eta_temp)] = 0\n",
    "            is_all_zero = np.all(eta_temp == np.array([0, 0, 0, 0, 0]))"
   ]
  },
  {
   "cell_type": "code",
   "execution_count": null,
   "metadata": {},
   "outputs": [
    {
     "data": {
      "text/plain": [
       "False"
      ]
     },
     "execution_count": 40,
     "metadata": {},
     "output_type": "execute_result"
    }
   ],
   "source": [
    "np.nan < 1e-6"
   ]
  },
  {
   "cell_type": "code",
   "execution_count": 15,
   "metadata": {},
   "outputs": [],
   "source": [
    "# eta_arr = np.full((10,10,5,2), np.nan)\n",
    "# np.save('../data/SpringMassModel/EtaSweep/eta_sweep3.npy', eta_arr)\n",
    "eta_arr = np.load('../data_cluster/EtaSweep/eta_sweep0.npy')[:,:,:,0]\n",
    "eta_arr[np.isnan(eta_arr)] = 0\n",
    "\n",
    "eta_best = np.full((10,10), np.nan)\n",
    "rel_err = np.full((10,10), np.nan)\n",
    "\n",
    "index = np.abs(eta_arr - 0.5).argmin(axis=2)\n",
    "for i in range(10):\n",
    "    for j in range(10):\n",
    "        eta_best[i,j] = eta_arr[i,j,index[i,j]]\n",
    "        rel_err[i,j] = np.abs(eta_best[i,j] - 0.5)/.5"
   ]
  },
  {
   "cell_type": "code",
   "execution_count": 16,
   "metadata": {},
   "outputs": [
    {
     "data": {
      "text/plain": [
       "<matplotlib.colorbar.Colorbar at 0x7c01cd785b80>"
      ]
     },
     "execution_count": 16,
     "metadata": {},
     "output_type": "execute_result"
    },
    {
     "data": {
      "image/png": "[encoded data removed]",
      "text/plain": [
       "<Figure size 640x480 with 2 Axes>"
      ]
     },
     "metadata": {},
     "output_type": "display_data"
    }
   ],
   "source": [
    "import matplotlib.pyplot as plt\n",
    "\n",
    "plt.imshow(rel_err, cmap='viridis', interpolation='nearest')\n",
    "plt.title('Relative error of eta')\n",
    "plt.colorbar()\n",
    "#plt.savefig('../figures/eta_sweep1.png')"
   ]
  },
  {
   "cell_type": "code",
   "execution_count": 45,
   "metadata": {},
   "outputs": [],
   "source": [
    "arr = np.load('../data_cluster/OverfitParams/sweep0.npy')\n",
    "list = [[0,0],[0,0]]\n",
    "list[0][0] = dictb"
   ]
  },
  {
   "cell_type": "code",
   "execution_count": 53,
   "metadata": {},
   "outputs": [
    {
     "name": "stdout",
     "output_type": "stream",
     "text": [
      "yes\n",
      "test_end\n"
     ]
    }
   ],
   "source": [
    "a = 1e-8\n",
    "b = .5\n",
    "if a < 1e-7 and (b) >.15:\n",
    "    print('yes')\n",
    "\n",
    "print('test_end')"
   ]
  },
  {
   "cell_type": "code",
   "execution_count": 46,
   "metadata": {},
   "outputs": [
    {
     "data": {
      "text/plain": [
       "array([[0, 0],\n",
       "       [0, 0],\n",
       "       [0, 0],\n",
       "       [0, 0],\n",
       "       [0, 0],\n",
       "       [0, 0],\n",
       "       [0, 0],\n",
       "       [0, 0],\n",
       "       [0, 0],\n",
       "       [0, 0],\n",
       "       [0, 0],\n",
       "       [0, 0],\n",
       "       [0, 0],\n",
       "       [0, 0],\n",
       "       [0, 0],\n",
       "       [0, 0],\n",
       "       [0, 0],\n",
       "       [0, 0],\n",
       "       [0, 0],\n",
       "       [0, 0],\n",
       "       [0, 0],\n",
       "       [0, 0],\n",
       "       [0, 0],\n",
       "       [0, 0],\n",
       "       [0, 0],\n",
       "       [0, 0],\n",
       "       [0, 0],\n",
       "       [0, 0],\n",
       "       [0, 0],\n",
       "       [0, 0],\n",
       "       [0, 0],\n",
       "       [0, 0],\n",
       "       [0, 0],\n",
       "       [0, 0],\n",
       "       [0, 0],\n",
       "       [0, 0],\n",
       "       [0, 0],\n",
       "       [0, 0],\n",
       "       [0, 0],\n",
       "       [0, 0],\n",
       "       [0, 0],\n",
       "       [0, 0],\n",
       "       [0, 0],\n",
       "       [0, 0],\n",
       "       [0, 0],\n",
       "       [0, 0],\n",
       "       [0, 0],\n",
       "       [0, 0],\n",
       "       [0, 0],\n",
       "       [0, 0],\n",
       "       [0, 0],\n",
       "       [0, 0],\n",
       "       [0, 0],\n",
       "       [0, 0],\n",
       "       [0, 0],\n",
       "       [0, 0],\n",
       "       [0, 0],\n",
       "       [0, 0],\n",
       "       [0, 0],\n",
       "       [0, 0],\n",
       "       [0, 0],\n",
       "       [0, 0],\n",
       "       [0, 0],\n",
       "       [0, 0],\n",
       "       [0, 0],\n",
       "       [0, 0],\n",
       "       [0, 0],\n",
       "       [0, 0],\n",
       "       [0, 0],\n",
       "       [0, 0],\n",
       "       [0, 0],\n",
       "       [0, 0],\n",
       "       [0, 0],\n",
       "       [0, 0],\n",
       "       [0, 0],\n",
       "       [0, 0],\n",
       "       [0, 0],\n",
       "       [0, 0],\n",
       "       [0, 0],\n",
       "       [0, 0],\n",
       "       [0, 0],\n",
       "       [0, 0],\n",
       "       [0, 0],\n",
       "       [0, 0],\n",
       "       [0, 0],\n",
       "       [0, 0],\n",
       "       [0, 0],\n",
       "       [0, 0],\n",
       "       [0, 0],\n",
       "       [0, 0],\n",
       "       [0, 0],\n",
       "       [0, 0],\n",
       "       [0, 0],\n",
       "       [0, 0],\n",
       "       [0, 0],\n",
       "       [0, 0],\n",
       "       [0, 0],\n",
       "       [0, 0],\n",
       "       [0, 0],\n",
       "       [0, 0]])"
      ]
     },
     "execution_count": 46,
     "metadata": {},
     "output_type": "execute_result"
    }
   ],
   "source": [
    "arr"
   ]
  },
  {
   "cell_type": "markdown",
   "metadata": {},
   "source": [
    "### Loss dependence on time shift\n"
   ]
  },
  {
   "cell_type": "code",
   "execution_count": 53,
   "metadata": {},
   "outputs": [],
   "source": [
    "# eta_arr = np.full((100), np.nan)\n",
    "# np.save('../data/SpringMassModel/dt_error1.npy', eta_arr)"
   ]
  },
  {
   "cell_type": "code",
   "execution_count": 54,
   "metadata": {},
   "outputs": [],
   "source": [
    "dt = np.linspace(-1,1,100)\n",
    "\n",
    "# for i in range(100):\n",
    "#     result = subprocess.run(['python3', 'PeakShiftMain.py', str(i),str(dt[i])], capture_output=True, text=True)\n",
    "#     print(i)    "
   ]
  },
  {
   "cell_type": "code",
   "execution_count": 55,
   "metadata": {},
   "outputs": [
    {
     "data": {
      "image/png": "[encoded data removed]",
      "text/plain": [
       "<Figure size 640x480 with 1 Axes>"
      ]
     },
     "metadata": {},
     "output_type": "display_data"
    }
   ],
   "source": [
    "dt_error = np.load('../data/SpringMassModel/dtError/dt_error1.npy')\n",
    "dt_error\n",
    "plt.plot(dt, np.log(dt_error))   \n",
    "plt.xlabel('dt')\n",
    "plt.ylabel('log(loss)')\n",
    "plt.title('dependence of loss on time shift of acitve stress')\n",
    "plt.savefig('../data/SpringMassModel/dt_error1.png')"
   ]
  },
  {
   "cell_type": "code",
   "execution_count": null,
   "metadata": {},
   "outputs": [],
   "source": []
  }
 ],
 "metadata": {
  "kernelspec": {
   "display_name": ".myvenv",
   "language": "python",
   "name": "python3"
  },
  "language_info": {
   "codemirror_mode": {
    "name": "ipython",
    "version": 3
   },
   "file_extension": ".py",
   "mimetype": "text/x-python",
   "name": "python",
   "nbconvert_exporter": "python",
   "pygments_lexer": "ipython3",
   "version": "3.9.13"
  }
 },
 "nbformat": 4,
 "nbformat_minor": 2
}
