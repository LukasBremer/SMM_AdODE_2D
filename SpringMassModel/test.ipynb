{
 "cells": [
  {
   "cell_type": "code",
   "execution_count": 3,
   "metadata": {},
   "outputs": [],
   "source": [
    "import jax.numpy as jnp\n",
    "from jax import jit \n",
    "from jax.flatten_util import ravel_pytree\n",
    "\n",
    "import numpy as np\n",
    "import scipy\n",
    "import matplotlib.pyplot as plt\n",
    "import interpax\n",
    "\n",
    "from scipy.signal import find_peaks\n",
    "from adoptODE import train_adoptODE, simple_simulation, dataset_adoptODE\n",
    "from HelperAndMechanics import *\n",
    "import progressbar\n",
    "import argparse\n",
    "import subprocess\n",
    "import sys"
   ]
  },
  {
   "cell_type": "code",
   "execution_count": 4,
   "metadata": {},
   "outputs": [
    {
     "name": "stdout",
     "output_type": "stream",
     "text": [
      "Start\n",
      "test\n",
      "Epoch 000:  Loss: 2.0e-05,  Params Err.: 1.4e+01, y0 error: nan, Params Norm: 3.2e+01, iParams Err.: 0.0e+00, iParams Norm: 0.0e+00, \n",
      "Epoch 300:  Loss: 3.2e-06,  Params Err.: 1.5e+01, y0 error: nan, Params Norm: 3.2e+01, iParams Err.: 0.0e+00, iParams Norm: 0.0e+00, \n",
      "Epoch 600:  Loss: 2.6e-06,  Params Err.: 1.6e+01, y0 error: nan, Params Norm: 3.2e+01, iParams Err.: 0.0e+00, iParams Norm: 0.0e+00, \n",
      "Epoch 900:  Loss: 2.2e-06,  Params Err.: 1.6e+01, y0 error: nan, Params Norm: 3.0e+01, iParams Err.: 0.0e+00, iParams Norm: 0.0e+00, \n",
      "Epoch 1200:  Loss: 1.8e-06,  Params Err.: 1.6e+01, y0 error: nan, Params Norm: 2.9e+01, iParams Err.: 0.0e+00, iParams Norm: 0.0e+00, \n",
      " nan\n",
      "test\n",
      "Epoch 000:  Loss: 1.2e-02,  Params Err.: 1.5e+01, y0 error: nan, Params Norm: 3.0e+01, iParams Err.: 0.0e+00, iParams Norm: 0.0e+00, \n",
      " nan\n",
      "test\n",
      "Epoch 000:  Loss: 7.4e-03,  Params Err.: 9.4e+00, y0 error: nan, Params Norm: 1.5e+01, iParams Err.: 0.0e+00, iParams Norm: 0.0e+00, \n",
      "Epoch 300:  Loss: 1.6e-06,  Params Err.: 1.3e+01, y0 error: nan, Params Norm: 1.6e+01, iParams Err.: 0.0e+00, iParams Norm: 0.0e+00, \n",
      "Epoch 600:  Loss: 6.7e-07,  Params Err.: 1.5e+01, y0 error: nan, Params Norm: 1.8e+01, iParams Err.: 0.0e+00, iParams Norm: 0.0e+00, \n",
      "Epoch 900:  Loss: 2.0e-07,  Params Err.: 1.8e+01, y0 error: nan, Params Norm: 1.9e+01, iParams Err.: 0.0e+00, iParams Norm: 0.0e+00, \n",
      "Epoch 1200:  Loss: 1.9e-07,  Params Err.: 1.8e+01, y0 error: nan, Params Norm: 1.9e+01, iParams Err.: 0.0e+00, iParams Norm: 0.0e+00, \n",
      "Epoch 1500:  Loss: 1.9e-07,  Params Err.: 1.8e+01, y0 error: nan, Params Norm: 1.9e+01, iParams Err.: 0.0e+00, iParams Norm: 0.0e+00, \n",
      "Epoch 1800:  Loss: 2.0e-07,  Params Err.: 1.8e+01, y0 error: nan, Params Norm: 1.9e+01, iParams Err.: 0.0e+00, iParams Norm: 0.0e+00, \n",
      "Epoch 2100:  Loss: 1.9e-07,  Params Err.: 1.8e+01, y0 error: nan, Params Norm: 1.9e+01, iParams Err.: 0.0e+00, iParams Norm: 0.0e+00, \n",
      "Epoch 2400:  Loss: 2.0e-07,  Params Err.: 1.8e+01, y0 error: nan, Params Norm: 1.9e+01, iParams Err.: 0.0e+00, iParams Norm: 0.0e+00, \n",
      "Epoch 2700:  Loss: 1.9e-07,  Params Err.: 1.8e+01, y0 error: nan, Params Norm: 1.9e+01, iParams Err.: 0.0e+00, iParams Norm: 0.0e+00, \n",
      "Epoch 2999:  Loss: 2.0e-07,  Params Err.: 1.8e+01, y0 error: nan, Params Norm: 1.9e+01, iParams Err.: 0.0e+00, iParams Norm: 0.0e+00, \n",
      "test2\n",
      "test3 0.5107089281082153\n",
      "test4\n",
      "1.9775507098529488e-07\n",
      " 1.9775507098529488e-07\n",
      "0 0 1.9775507098529488e-07 3\n",
      "Done\n"
     ]
    }
   ],
   "source": [
    "#nr = int(sys.argv[3])\n",
    "np.save('../data/SpringMassModel/EtaSweep/eta_sweeptest.npy',np.full((10,10,5,2),np.nan))\n",
    "\n",
    "T_standard = [1,2,3,4,5]\n",
    "# Define the input numbers\n",
    "print('Start')\n",
    "for i in range(10):\n",
    "    for j in range(10):\n",
    "        max_shift = 0\n",
    "        for k in range(5):\n",
    "            result = subprocess.run(['python3', 'SinglePeakModelMain.py', str(i), str(j), str(k), str(T_standard[k]),str(max_shift),'test'], capture_output=True, text=True)\n",
    "            loss = np.load('../data/SpringMassModel/EtaSweep/eta_sweeptest.npy')[i,j,k,1]\n",
    "            print(result.stdout,loss)\n",
    "            if loss < 5e-7:\n",
    "                print(i,j,loss,T_standard[k])\n",
    "                break\n",
    "        break\n",
    "    break\n",
    "print('Done')"
   ]
  }
 ],
 "metadata": {
  "kernelspec": {
   "display_name": ".ad_ode_venv3",
   "language": "python",
   "name": "python3"
  },
  "language_info": {
   "codemirror_mode": {
    "name": "ipython",
    "version": 3
   },
   "file_extension": ".py",
   "mimetype": "text/x-python",
   "name": "python",
   "nbconvert_exporter": "python",
   "pygments_lexer": "ipython3",
   "version": "3.9.13"
  }
 },
 "nbformat": 4,
 "nbformat_minor": 2
}
