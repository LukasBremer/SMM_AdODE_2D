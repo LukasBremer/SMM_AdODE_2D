{
 "cells": [
  {
   "cell_type": "code",
   "execution_count": 1,
   "metadata": {},
   "outputs": [],
   "source": [
    "#import jax and other libraries for computation\n",
    "import jax.numpy as jnp\n",
    "from jax import jit\n",
    "from jax.scipy.signal import convolve2d\n",
    "from jax.flatten_util import ravel_pytree\n",
    "from jax.experimental.ode import odeint\n",
    "from jax import tree_util\n",
    "import jax.random as random\n",
    "import numpy as np\n",
    "#for visulization\n",
    "import os\n",
    "import matplotlib.pyplot as plt\n",
    "import ipywidgets as widgets\n",
    "from IPython.display import display\n",
    "# Set Palatino as the default font\n",
    "font = {'family': 'serif', 'serif': ['Palatino'], 'size': 20}\n",
    "plt.rc('font', **font)\n",
    "plt.rc('text', usetex=True)\n",
    "# import AdoptODE\n",
    "from adoptODE import train_adoptODE, simple_simulation, dataset_adoptODE\n",
    "#import the MSD mechanics\n",
    "from HelperAndMechanics import *\n",
    "import h5py"
   ]
  },
  {
   "cell_type": "code",
   "execution_count": null,
   "metadata": {},
   "outputs": [
    {
     "name": "stdout",
     "output_type": "stream",
     "text": [
      "max_v =  2.14554 \n",
      "max_u = 0.988905  \n",
      "max_T =  2.71647\n"
     ]
    }
   ],
   "source": [
    "# Load from HDF5\n",
    "with h5py.File('../data/SpringMassModel/MechanicalData/data_eta_05_uvx.h5', 'r') as f:\n",
    "    v = f['v'][:1000]\n",
    "    u = f['u'][:1000]\n",
    "    T = f['T'][:1000]\n",
    "    x = f['x'][:1000]\n",
    "    f.close()\n",
    "print('max_v = ',np.max(v),'\\nmax_u =',np.max(u),' \\nmax_T = ',np.max(T))\n",
    "N = T.shape[0]\n"
   ]
  },
  {
   "cell_type": "code",
   "execution_count": 119,
   "metadata": {},
   "outputs": [],
   "source": [
    "def define_NavierCauchy(**kwargs_sys):\n",
    "    N_sys = kwargs_sys['N_sys']\n",
    "\n",
    "    def gen_params():\n",
    "        return {key:value + kwargs_sys['par_tol']*value*np.random.uniform(-1.0, 1.0) for key,value in kwargs_sys['params_true'].items()}, {}, {}\n",
    "    \n",
    "    def gen_y0():\n",
    "        return {'u':kwargs_sys['u0'],'v':kwargs_sys['v0'],'T':kwargs_sys['T0'],'U':kwargs_sys['U0'],'V':kwargs_sys['V0']}\n",
    "    \n",
    "    # electric model\n",
    "    @jit\n",
    "    def kernel(spacing):\n",
    "        kernel = np.array([[1, 4, 1], [4, -20.0, 4], [1, 4, 1]]) / (spacing* spacing * 6)\n",
    "        return kernel\n",
    "    @jit\n",
    "    def laplace(f,spacing):  #laplace of scalar\n",
    "        f_ext = jnp.concatenate((f[0:1], f, f[-1:]), axis=0)\n",
    "        f_ext = jnp.concatenate((f_ext[:, 0:1], f_ext, f_ext[:, -1:]), axis=1)\n",
    "        return convolve2d(f_ext, kernel(spacing), mode='valid')\n",
    "    @jit\n",
    "    def epsilon(u,v,params):\n",
    "        return params['epsilon_0']+params['mu_1']*v/(u+params['mu_2'])\n",
    "    @jit\n",
    "    def epsilon_T(u):\n",
    "        return 1 - 0.9*jnp.exp(-jnp.exp(-30*(jnp.abs(u) - 0.1)))\n",
    "    \n",
    "    # # mechanic model\n",
    "    # @jit\n",
    "    # def stress_tensor(U,params):\n",
    "    #     print('test')\n",
    "    #     div_U = divergence(U)\n",
    "    #     stress = params['lmbda'] * jnp.expand_dims(div_U, -1) * jnp.eye(2) + 2 * params['mu'] * laplace(U,params['dx'])\n",
    "    #     print('test')\n",
    "    #     return stress\n",
    "    \n",
    "    # # Define Laplacian operator\n",
    "    # @jit\n",
    "    # def gradient(T, dx):\n",
    "    #     \"\"\"Compute the gradient of a scalar field T(x, y) in 2D.\"\"\"\n",
    "    #     grad_x = jnp.gradient(T, axis=0) / dx  \n",
    "    #     grad_y = jnp.gradient(T, axis=1) / dx  \n",
    "    #     return jnp.stack([grad_x, grad_y], axis=0)  # Shape: (N, N, 2)\n",
    "    # @jit\n",
    "    # def divergence(U):\n",
    "    #     return jnp.gradient(U[0], axis=0) + jnp.gradient(U[1], axis=1)\n",
    "    \n",
    "    # @jit\n",
    "    # def laplacian(U,dx):\n",
    "    #     return (\n",
    "    #         -4 * U\n",
    "    #         + jnp.roll(U, shift=1, axis=0) + jnp.roll(U, shift=-1, axis=0)\n",
    "    #         + jnp.roll(U, shift=1, axis=1) + jnp.roll(U, shift=-1, axis=1)\n",
    "    #     ) / dx**2\n",
    "    # @jit\n",
    "    # def stress_tensor(U, params):\n",
    "    #     lmbda, mu, dx = params[\"lmbda\"], params[\"mu\"], params[\"dx\"]\n",
    "    #     div_U = divergence(U)\n",
    "    #     lap_U = laplacian(U, dx)\n",
    "    #     stress = jnp.zeros((2, 2, U.shape[1], U.shape[2]))\n",
    "    #     stress = stress.at[jnp.diag_indices(2)].set(lmbda * div_U)\n",
    "    #     stress += 2 * mu * jnp.expand_dims(lap_U, axis=1)\n",
    "    #     return stress\n",
    "    \n",
    "\n",
    "    @jit\n",
    "    def gradient(T, dx):\n",
    "        \"\"\"Compute the gradient of a scalar field T(x, y) in 2D.\"\"\"\n",
    "        grad_x = jnp.gradient(T, axis=0) / dx  \n",
    "        grad_y = jnp.gradient(T, axis=1) / dx  \n",
    "        return jnp.stack([grad_x, grad_y], axis=-1)  # Shape: (N, N, 2)\n",
    "    # Define Laplacian operator\n",
    "    def laplacian(U,dx):\n",
    "        return (\n",
    "            -4 * U\n",
    "            + jnp.roll(U, shift=1, axis=0) + jnp.roll(U, shift=-1, axis=0)\n",
    "            + jnp.roll(U, shift=1, axis=1) + jnp.roll(U, shift=-1, axis=1)\n",
    "        ) / dx**2\n",
    "\n",
    "    # Compute divergence\n",
    "    def divergence(U,dx):\n",
    "        return jnp.gradient(U[..., 0], axis=0)/dx + jnp.gradient(U[..., 1], axis=1)/dx\n",
    "\n",
    "    # Compute stress tensor\n",
    "    def stress(U, params):\n",
    "\n",
    "        div_U = divergence(U,params['dx'])\n",
    "        print(jnp.reshape(div_U, (100,100,1,1))*jnp.reshape(jnp.eye(2),(1,1,2,2)).shape )\n",
    "        stress_temp = params['lmbda'] * jnp.expand_dims(div_U, -1) * jnp.eye(2) + 2 * params['mu'] * laplacian(U)\n",
    "        print('teststress')\n",
    "        return stress_temp\n",
    "    #Full Model\n",
    "    @jit\n",
    "    def eom(y, t, params, iparams, exparams):\n",
    "        par=params\n",
    "        u=y['u']\n",
    "        v=y['v']\n",
    "        T=y['T']\n",
    "        U=y['U']\n",
    "        V=y['V']\n",
    "\n",
    "        dudt = par['D']*laplace(u,par['spacing'])-(par['k'])*u*(u-par['a'])*(u-1) - u*v\n",
    "        dvdt = epsilon(u,v,par)*(-v-(par['k'])*u*(u-par['a']-1))\n",
    "        dTdt = epsilon_T(u)*(par['k_T']*jnp.abs(u)-T)\n",
    "        dU = V # Update displacement\n",
    "        print('test')\n",
    "        dV = (1 / par['rho']) * (stress(U,par) + gradient(T,par['dx']))  # Update velocity\n",
    "        print('test')\n",
    "        return {'u':dudt, 'v':dvdt, 'T':dTdt, 'U':zero_out_edges(dU), 'V':zero_out_edges(dV)}\n",
    "    @jit\n",
    "    def loss(ys, params, iparams, exparams, targets):\n",
    "        # u = ys['u']\n",
    "        # u_target = targets['u']\n",
    "        U = ys['U']\n",
    "        U_target = targets['U']\n",
    "        V = ys['V']\n",
    "        V_target = targets['V']\n",
    "        \n",
    "        return  jnp.nanmean((U - U_target)**2 + (V-V_target)**2) #jnp.nanmean((u - u_target)**2) +\n",
    "            \n",
    "    return eom, loss, gen_params, gen_y0, {}\n"
   ]
  },
  {
   "cell_type": "code",
   "execution_count": 120,
   "metadata": {},
   "outputs": [
    {
     "data": {
      "text/plain": [
       "Array([[1., 0.],\n",
       "       [0., 1.]], dtype=float32)"
      ]
     },
     "execution_count": 120,
     "metadata": {},
     "output_type": "execute_result"
    }
   ],
   "source": [
    "jnp.eye(2)"
   ]
  },
  {
   "cell_type": "code",
   "execution_count": 121,
   "metadata": {},
   "outputs": [],
   "source": [
    "\n",
    "\"\"\"\n",
    "    Reads in necessary parameters from config.ini\n",
    "\"\"\"\n",
    "\n",
    "N,size,params_electric = read_config(['D','a','k','epsilon_0','mu_1','mu_2','k_T','delta_t_e','spacing'],mode = 'chaos')\n",
    "keys_electric =['D','a','k','epsilon_0','mu_1','mu_2','k_T','delta_t_e','spacing']\n",
    "\n",
    "params_true_mechanic = {'lmbda': 1.0, 'mu': 1.0, 'rho': 1.0, 'dx': 1.0}\n",
    "\n",
    "tol = 0\n",
    "params_true = dict(zip(keys_electric,params_electric))|params_true_mechanic\n",
    "\n",
    "params_low = {key: value - value*tol for key, value in params_true.items()}\n",
    "params_high = {key: value + value*tol for key, value in params_true.items()}\n",
    "\n",
    "length,sampling_rate = 5,20\n",
    "\n",
    "u0,v0,T0,U0,V0,t_evals = u[0],v[0],T[0],jnp.zeros((100,100,2)),jnp.zeros((100,100,2)),np.linspace(0, params_true['delta_t_e']*sampling_rate*length, length)\n",
    "\n",
    "kwargs_sys = {'size': 100,\n",
    "              'spacing': 1,\n",
    "              'N_sys': 1,\n",
    "              'par_tol': 0,\n",
    "              'params_true': params_true,\n",
    "              'u0': u0,'v0': v0,'T0': T0,'U0': U0,'V0': V0}\n",
    "kwargs_adoptODE = {'epochs': 10,'N_backups': 1,'lr': 1e-3}"
   ]
  },
  {
   "cell_type": "code",
   "execution_count": 122,
   "metadata": {},
   "outputs": [
    {
     "name": "stdout",
     "output_type": "stream",
     "text": [
      "test\n"
     ]
    },
    {
     "ename": "TypeError",
     "evalue": "unsupported operand type(s) for *: 'DynamicJaxprTracer' and 'tuple'",
     "output_type": "error",
     "traceback": [
      "\u001b[0;31m---------------------------------------------------------------------------\u001b[0m",
      "\u001b[0;31mTypeError\u001b[0m                                 Traceback (most recent call last)",
      "Cell \u001b[0;32mIn[122], line 2\u001b[0m\n\u001b[1;32m      1\u001b[0m \u001b[38;5;66;03m# Setting up a dataset via simulation\u001b[39;00m\n\u001b[0;32m----> 2\u001b[0m Simulation_MSD \u001b[38;5;241m=\u001b[39m \u001b[43msimple_simulation\u001b[49m\u001b[43m(\u001b[49m\u001b[43mdefine_NavierCauchy\u001b[49m\u001b[43m,\u001b[49m\n\u001b[1;32m      3\u001b[0m \u001b[43m                            \u001b[49m\u001b[43mt_evals\u001b[49m\u001b[43m,\u001b[49m\n\u001b[1;32m      4\u001b[0m \u001b[43m                            \u001b[49m\u001b[43mkwargs_sys\u001b[49m\u001b[43m,\u001b[49m\n\u001b[1;32m      5\u001b[0m \u001b[43m                            \u001b[49m\u001b[43mkwargs_adoptODE\u001b[49m\u001b[43m)\u001b[49m\n",
      "File \u001b[0;32m/data.bmp/lbremer/Master_thesis/Projectfolder/adoptODE_smmodell/.myvenv/lib/python3.9/site-packages/adoptODE/Framework.py:1738\u001b[0m, in \u001b[0;36msimple_simulation\u001b[0;34m(def_sys_func, t_evals, kwargs_sys, kwargs_adoptODE, rel_noise, abs_noise, params, iparams, exparams, y0, params_train, iparams_train, y0_train)\u001b[0m\n\u001b[1;32m   1735\u001b[0m \u001b[38;5;28;01melse\u001b[39;00m:\n\u001b[1;32m   1736\u001b[0m     ly0 \u001b[38;5;241m=\u001b[39m tree_util\u001b[38;5;241m.\u001b[39mtree_map(np\u001b[38;5;241m.\u001b[39marray, y0)\n\u001b[1;32m   1737\u001b[0m lys \u001b[38;5;241m=\u001b[39m tree_util\u001b[38;5;241m.\u001b[39mtree_map(np\u001b[38;5;241m.\u001b[39marray,\n\u001b[0;32m-> 1738\u001b[0m                          \u001b[43mforward\u001b[49m\u001b[43m(\u001b[49m\u001b[43mly0\u001b[49m\u001b[43m,\u001b[49m\u001b[43m \u001b[49m\u001b[43mt_evals\u001b[49m\u001b[43m,\u001b[49m\u001b[43m \u001b[49m\u001b[43mlparams\u001b[49m\u001b[43m,\u001b[49m\u001b[43m \u001b[49m\u001b[43mliparams\u001b[49m\u001b[43m,\u001b[49m\u001b[43m \u001b[49m\u001b[43mlexparams\u001b[49m\u001b[43m)\u001b[49m)\n\u001b[1;32m   1739\u001b[0m \u001b[38;5;28;01mif\u001b[39;00m \u001b[38;5;129;01mnot\u001b[39;00m kwargs_adoptODE[\u001b[38;5;124m'\u001b[39m\u001b[38;5;124mt_reset_idcs\u001b[39m\u001b[38;5;124m'\u001b[39m] \u001b[38;5;129;01mis\u001b[39;00m \u001b[38;5;28;01mNone\u001b[39;00m:\n\u001b[1;32m   1740\u001b[0m     ly0 \u001b[38;5;241m=\u001b[39m tree_util\u001b[38;5;241m.\u001b[39mtree_map(\n\u001b[1;32m   1741\u001b[0m         \u001b[38;5;28;01mlambda\u001b[39;00m x: np\u001b[38;5;241m.\u001b[39mcopy(x)[:, np\u001b[38;5;241m.\u001b[39marray(kwargs_adoptODE[\u001b[38;5;124m'\u001b[39m\u001b[38;5;124mt_reset_idcs\u001b[39m\u001b[38;5;124m'\u001b[39m])], lys)\n",
      "File \u001b[0;32m/data.bmp/lbremer/Master_thesis/Projectfolder/adoptODE_smmodell/.myvenv/lib/python3.9/site-packages/adoptODE/Framework.py:766\u001b[0m, in \u001b[0;36mEquationsNODE.forward\u001b[0;34m(self, y0_batch, t_evals, params, iparams_batch, exparams_batch)\u001b[0m\n\u001b[1;32m    765\u001b[0m \u001b[38;5;28;01mdef\u001b[39;00m \u001b[38;5;21mforward\u001b[39m(\u001b[38;5;28mself\u001b[39m, y0_batch, t_evals, params, iparams_batch, exparams_batch):\n\u001b[0;32m--> 766\u001b[0m     \u001b[38;5;28;01mreturn\u001b[39;00m \u001b[38;5;28;43mself\u001b[39;49m\u001b[38;5;241;43m.\u001b[39;49m\u001b[43m_v_forward\u001b[49m\u001b[43m(\u001b[49m\u001b[43my0_batch\u001b[49m\u001b[43m,\u001b[49m\u001b[43m \u001b[49m\u001b[43mt_evals\u001b[49m\u001b[43m,\u001b[49m\u001b[43m \u001b[49m\u001b[43mparams\u001b[49m\u001b[43m,\u001b[49m\u001b[43m \u001b[49m\u001b[43miparams_batch\u001b[49m\u001b[43m,\u001b[49m\n\u001b[1;32m    767\u001b[0m \u001b[43m                           \u001b[49m\u001b[43mexparams_batch\u001b[49m\u001b[43m)\u001b[49m\n",
      "    \u001b[0;31m[... skipping hidden 11 frame]\u001b[0m\n",
      "File \u001b[0;32m/data.bmp/lbremer/Master_thesis/Projectfolder/adoptODE_smmodell/.myvenv/lib/python3.9/site-packages/adoptODE/Framework.py:354\u001b[0m, in \u001b[0;36mEquationsNODE.__init__.<locals>.v_forward\u001b[0;34m(y0_batch, t_evals, params, iparams_batch, exparams_batch)\u001b[0m\n\u001b[1;32m    351\u001b[0m \u001b[38;5;129m@jax\u001b[39m\u001b[38;5;241m.\u001b[39mjit\n\u001b[1;32m    352\u001b[0m \u001b[38;5;28;01mdef\u001b[39;00m \u001b[38;5;21mv_forward\u001b[39m(y0_batch, t_evals, params, iparams_batch, exparams_batch):\n\u001b[1;32m    353\u001b[0m \u001b[38;5;250m    \u001b[39m\u001b[38;5;124;03m\"\"\"Vectorized forward function, dealing with a batch of systems.\"\"\"\u001b[39;00m\n\u001b[0;32m--> 354\u001b[0m     \u001b[38;5;28;01mreturn\u001b[39;00m \u001b[43mjax\u001b[49m\u001b[38;5;241;43m.\u001b[39;49m\u001b[43mvmap\u001b[49m\u001b[43m(\u001b[49m\u001b[43mforward\u001b[49m\u001b[43m,\u001b[49m\u001b[43m \u001b[49m\u001b[43min_axes\u001b[49m\u001b[38;5;241;43m=\u001b[39;49m\u001b[43m(\u001b[49m\u001b[38;5;241;43m0\u001b[39;49m\u001b[43m,\u001b[49m\u001b[43m \u001b[49m\u001b[43mt_evals_vec_axis\u001b[49m\u001b[43m,\u001b[49m\u001b[43m \u001b[49m\u001b[38;5;28;43;01mNone\u001b[39;49;00m\u001b[43m,\u001b[49m\u001b[43m \u001b[49m\u001b[38;5;241;43m0\u001b[39;49m\u001b[43m,\u001b[49m\n\u001b[1;32m    355\u001b[0m \u001b[43m                                      \u001b[49m\u001b[38;5;241;43m0\u001b[39;49m\u001b[43m)\u001b[49m\u001b[43m)\u001b[49m\u001b[43m(\u001b[49m\u001b[43my0_batch\u001b[49m\u001b[43m,\u001b[49m\u001b[43m \u001b[49m\u001b[43mt_evals\u001b[49m\u001b[43m,\u001b[49m\u001b[43m \u001b[49m\u001b[43mparams\u001b[49m\u001b[43m,\u001b[49m\n\u001b[1;32m    356\u001b[0m \u001b[43m                                          \u001b[49m\u001b[43miparams_batch\u001b[49m\u001b[43m,\u001b[49m\u001b[43m \u001b[49m\u001b[43mexparams_batch\u001b[49m\u001b[43m)\u001b[49m\n",
      "    \u001b[0;31m[... skipping hidden 14 frame]\u001b[0m\n",
      "File \u001b[0;32m/data.bmp/lbremer/Master_thesis/Projectfolder/adoptODE_smmodell/.myvenv/lib/python3.9/site-packages/adoptODE/Framework.py:278\u001b[0m, in \u001b[0;36mEquationsNODE.__init__.<locals>.forward\u001b[0;34m(y0, t_evals, params, iparams, exparams)\u001b[0m\n\u001b[1;32m    275\u001b[0m \u001b[38;5;129m@jax\u001b[39m\u001b[38;5;241m.\u001b[39mjit\n\u001b[1;32m    276\u001b[0m \u001b[38;5;28;01mdef\u001b[39;00m \u001b[38;5;21mforward\u001b[39m(y0, t_evals, params, iparams, exparams):\n\u001b[1;32m    277\u001b[0m \u001b[38;5;250m    \u001b[39m\u001b[38;5;124;03m\"\"\"Defines the standard forward pass for a single system, returning ys.\"\"\"\u001b[39;00m\n\u001b[0;32m--> 278\u001b[0m     ys \u001b[38;5;241m=\u001b[39m \u001b[43modeint\u001b[49m\u001b[43m(\u001b[49m\u001b[43meom\u001b[49m\u001b[43m,\u001b[49m\n\u001b[1;32m    279\u001b[0m \u001b[43m                \u001b[49m\u001b[43my0\u001b[49m\u001b[43m,\u001b[49m\n\u001b[1;32m    280\u001b[0m \u001b[43m                \u001b[49m\u001b[43mt_evals\u001b[49m\u001b[43m,\u001b[49m\n\u001b[1;32m    281\u001b[0m \u001b[43m                \u001b[49m\u001b[43mparams\u001b[49m\u001b[43m,\u001b[49m\n\u001b[1;32m    282\u001b[0m \u001b[43m                \u001b[49m\u001b[43miparams\u001b[49m\u001b[43m,\u001b[49m\n\u001b[1;32m    283\u001b[0m \u001b[43m                \u001b[49m\u001b[43mexparams\u001b[49m\u001b[43m,\u001b[49m\n\u001b[1;32m    284\u001b[0m \u001b[43m                \u001b[49m\u001b[43mrtol\u001b[49m\u001b[38;5;241;43m=\u001b[39;49m\u001b[43mkwargs_adoptODE\u001b[49m\u001b[43m[\u001b[49m\u001b[38;5;124;43m'\u001b[39;49m\u001b[38;5;124;43mrtol\u001b[39;49m\u001b[38;5;124;43m'\u001b[39;49m\u001b[43m]\u001b[49m\u001b[43m,\u001b[49m\n\u001b[1;32m    285\u001b[0m \u001b[43m                \u001b[49m\u001b[43matol\u001b[49m\u001b[38;5;241;43m=\u001b[39;49m\u001b[43mkwargs_adoptODE\u001b[49m\u001b[43m[\u001b[49m\u001b[38;5;124;43m'\u001b[39;49m\u001b[38;5;124;43matol\u001b[39;49m\u001b[38;5;124;43m'\u001b[39;49m\u001b[43m]\u001b[49m\u001b[43m)\u001b[49m\n\u001b[1;32m    286\u001b[0m     \u001b[38;5;28;01mreturn\u001b[39;00m ys\n",
      "File \u001b[0;32m/data.bmp/lbremer/Master_thesis/Projectfolder/adoptODE_smmodell/.myvenv/lib/python3.9/site-packages/adoptODE/Framework.py:217\u001b[0m, in \u001b[0;36m_select_ode_solver.<locals>.odeint\u001b[0;34m(f, y, ts, rtol, atol, *args)\u001b[0m\n\u001b[1;32m    216\u001b[0m \u001b[38;5;28;01mdef\u001b[39;00m \u001b[38;5;21modeint\u001b[39m(f, y, ts, \u001b[38;5;241m*\u001b[39margs, rtol\u001b[38;5;241m=\u001b[39m\u001b[38;5;241m1e-5\u001b[39m, atol\u001b[38;5;241m=\u001b[39m\u001b[38;5;241m1e-5\u001b[39m):\n\u001b[0;32m--> 217\u001b[0m     \u001b[38;5;28;01mreturn\u001b[39;00m \u001b[43mode\u001b[49m\u001b[38;5;241;43m.\u001b[39;49m\u001b[43modeint\u001b[49m\u001b[43m(\u001b[49m\u001b[43mf\u001b[49m\u001b[43m,\u001b[49m\u001b[43m \u001b[49m\u001b[43my\u001b[49m\u001b[43m,\u001b[49m\u001b[43m \u001b[49m\u001b[43mts\u001b[49m\u001b[43m,\u001b[49m\u001b[43m \u001b[49m\u001b[38;5;241;43m*\u001b[39;49m\u001b[43margs\u001b[49m\u001b[43m,\u001b[49m\u001b[43m \u001b[49m\u001b[43mrtol\u001b[49m\u001b[38;5;241;43m=\u001b[39;49m\u001b[43mrtol\u001b[49m\u001b[43m,\u001b[49m\u001b[43m \u001b[49m\u001b[43matol\u001b[49m\u001b[38;5;241;43m=\u001b[39;49m\u001b[43matol\u001b[49m\u001b[43m)\u001b[49m\n",
      "File \u001b[0;32m/data.bmp/lbremer/Master_thesis/Projectfolder/adoptODE_smmodell/.myvenv/lib/python3.9/site-packages/jax/experimental/ode.py:178\u001b[0m, in \u001b[0;36modeint\u001b[0;34m(func, y0, t, rtol, atol, mxstep, hmax, *args)\u001b[0m\n\u001b[1;32m    175\u001b[0m \u001b[38;5;28;01mif\u001b[39;00m \u001b[38;5;129;01mnot\u001b[39;00m jnp\u001b[38;5;241m.\u001b[39missubdtype(t\u001b[38;5;241m.\u001b[39mdtype, jnp\u001b[38;5;241m.\u001b[39mfloating):\n\u001b[1;32m    176\u001b[0m   \u001b[38;5;28;01mraise\u001b[39;00m \u001b[38;5;167;01mTypeError\u001b[39;00m(\u001b[38;5;124mf\u001b[39m\u001b[38;5;124m\"\u001b[39m\u001b[38;5;124mt must be an array of floats, but got \u001b[39m\u001b[38;5;132;01m{\u001b[39;00mt\u001b[38;5;132;01m}\u001b[39;00m\u001b[38;5;124m.\u001b[39m\u001b[38;5;124m\"\u001b[39m)\n\u001b[0;32m--> 178\u001b[0m converted, consts \u001b[38;5;241m=\u001b[39m \u001b[43mcustom_derivatives\u001b[49m\u001b[38;5;241;43m.\u001b[39;49m\u001b[43mclosure_convert\u001b[49m\u001b[43m(\u001b[49m\u001b[43mfunc\u001b[49m\u001b[43m,\u001b[49m\u001b[43m \u001b[49m\u001b[43my0\u001b[49m\u001b[43m,\u001b[49m\u001b[43m \u001b[49m\u001b[43mt\u001b[49m\u001b[43m[\u001b[49m\u001b[38;5;241;43m0\u001b[39;49m\u001b[43m]\u001b[49m\u001b[43m,\u001b[49m\u001b[43m \u001b[49m\u001b[38;5;241;43m*\u001b[39;49m\u001b[43margs\u001b[49m\u001b[43m)\u001b[49m\n\u001b[1;32m    179\u001b[0m \u001b[38;5;28;01mreturn\u001b[39;00m _odeint_wrapper(converted, rtol, atol, mxstep, hmax, y0, t, \u001b[38;5;241m*\u001b[39margs, \u001b[38;5;241m*\u001b[39mconsts)\n",
      "    \u001b[0;31m[... skipping hidden 19 frame]\u001b[0m\n",
      "Cell \u001b[0;32mIn[119], line 106\u001b[0m, in \u001b[0;36mdefine_NavierCauchy.<locals>.eom\u001b[0;34m(y, t, params, iparams, exparams)\u001b[0m\n\u001b[1;32m    104\u001b[0m dU \u001b[38;5;241m=\u001b[39m V \u001b[38;5;66;03m# Update displacement\u001b[39;00m\n\u001b[1;32m    105\u001b[0m \u001b[38;5;28mprint\u001b[39m(\u001b[38;5;124m'\u001b[39m\u001b[38;5;124mtest\u001b[39m\u001b[38;5;124m'\u001b[39m)\n\u001b[0;32m--> 106\u001b[0m dV \u001b[38;5;241m=\u001b[39m (\u001b[38;5;241m1\u001b[39m \u001b[38;5;241m/\u001b[39m par[\u001b[38;5;124m'\u001b[39m\u001b[38;5;124mrho\u001b[39m\u001b[38;5;124m'\u001b[39m]) \u001b[38;5;241m*\u001b[39m (\u001b[43mstress\u001b[49m\u001b[43m(\u001b[49m\u001b[43mU\u001b[49m\u001b[43m,\u001b[49m\u001b[43mpar\u001b[49m\u001b[43m)\u001b[49m \u001b[38;5;241m+\u001b[39m gradient(T,par[\u001b[38;5;124m'\u001b[39m\u001b[38;5;124mdx\u001b[39m\u001b[38;5;124m'\u001b[39m]))  \u001b[38;5;66;03m# Update velocity\u001b[39;00m\n\u001b[1;32m    107\u001b[0m \u001b[38;5;28mprint\u001b[39m(\u001b[38;5;124m'\u001b[39m\u001b[38;5;124mtest\u001b[39m\u001b[38;5;124m'\u001b[39m)\n\u001b[1;32m    108\u001b[0m \u001b[38;5;28;01mreturn\u001b[39;00m {\u001b[38;5;124m'\u001b[39m\u001b[38;5;124mu\u001b[39m\u001b[38;5;124m'\u001b[39m:dudt, \u001b[38;5;124m'\u001b[39m\u001b[38;5;124mv\u001b[39m\u001b[38;5;124m'\u001b[39m:dvdt, \u001b[38;5;124m'\u001b[39m\u001b[38;5;124mT\u001b[39m\u001b[38;5;124m'\u001b[39m:dTdt, \u001b[38;5;124m'\u001b[39m\u001b[38;5;124mU\u001b[39m\u001b[38;5;124m'\u001b[39m:zero_out_edges(dU), \u001b[38;5;124m'\u001b[39m\u001b[38;5;124mV\u001b[39m\u001b[38;5;124m'\u001b[39m:zero_out_edges(dV)}\n",
      "Cell \u001b[0;32mIn[119], line 87\u001b[0m, in \u001b[0;36mdefine_NavierCauchy.<locals>.stress\u001b[0;34m(U, params)\u001b[0m\n\u001b[1;32m     84\u001b[0m \u001b[38;5;28;01mdef\u001b[39;00m \u001b[38;5;21mstress\u001b[39m(U, params):\n\u001b[1;32m     86\u001b[0m     div_U \u001b[38;5;241m=\u001b[39m divergence(U,params[\u001b[38;5;124m'\u001b[39m\u001b[38;5;124mdx\u001b[39m\u001b[38;5;124m'\u001b[39m])\n\u001b[0;32m---> 87\u001b[0m     \u001b[38;5;28mprint\u001b[39m(\u001b[43mjnp\u001b[49m\u001b[38;5;241;43m.\u001b[39;49m\u001b[43mreshape\u001b[49m\u001b[43m(\u001b[49m\u001b[43mdiv_U\u001b[49m\u001b[43m,\u001b[49m\u001b[43m \u001b[49m\u001b[43m(\u001b[49m\u001b[38;5;241;43m100\u001b[39;49m\u001b[43m,\u001b[49m\u001b[38;5;241;43m100\u001b[39;49m\u001b[43m,\u001b[49m\u001b[38;5;241;43m1\u001b[39;49m\u001b[43m,\u001b[49m\u001b[38;5;241;43m1\u001b[39;49m\u001b[43m)\u001b[49m\u001b[43m)\u001b[49m\u001b[38;5;241;43m*\u001b[39;49m\u001b[43mjnp\u001b[49m\u001b[38;5;241;43m.\u001b[39;49m\u001b[43mreshape\u001b[49m\u001b[43m(\u001b[49m\u001b[43mjnp\u001b[49m\u001b[38;5;241;43m.\u001b[39;49m\u001b[43meye\u001b[49m\u001b[43m(\u001b[49m\u001b[38;5;241;43m2\u001b[39;49m\u001b[43m)\u001b[49m\u001b[43m,\u001b[49m\u001b[43m(\u001b[49m\u001b[38;5;241;43m1\u001b[39;49m\u001b[43m,\u001b[49m\u001b[38;5;241;43m1\u001b[39;49m\u001b[43m,\u001b[49m\u001b[38;5;241;43m2\u001b[39;49m\u001b[43m,\u001b[49m\u001b[38;5;241;43m2\u001b[39;49m\u001b[43m)\u001b[49m\u001b[43m)\u001b[49m\u001b[38;5;241;43m.\u001b[39;49m\u001b[43mshape\u001b[49m )\n\u001b[1;32m     88\u001b[0m     stress_temp \u001b[38;5;241m=\u001b[39m params[\u001b[38;5;124m'\u001b[39m\u001b[38;5;124mlmbda\u001b[39m\u001b[38;5;124m'\u001b[39m] \u001b[38;5;241m*\u001b[39m jnp\u001b[38;5;241m.\u001b[39mexpand_dims(div_U, \u001b[38;5;241m-\u001b[39m\u001b[38;5;241m1\u001b[39m) \u001b[38;5;241m*\u001b[39m jnp\u001b[38;5;241m.\u001b[39meye(\u001b[38;5;241m2\u001b[39m) \u001b[38;5;241m+\u001b[39m \u001b[38;5;241m2\u001b[39m \u001b[38;5;241m*\u001b[39m params[\u001b[38;5;124m'\u001b[39m\u001b[38;5;124mmu\u001b[39m\u001b[38;5;124m'\u001b[39m] \u001b[38;5;241m*\u001b[39m laplacian(U)\n\u001b[1;32m     89\u001b[0m     \u001b[38;5;28mprint\u001b[39m(\u001b[38;5;124m'\u001b[39m\u001b[38;5;124mteststress\u001b[39m\u001b[38;5;124m'\u001b[39m)\n",
      "File \u001b[0;32m/data.bmp/lbremer/Master_thesis/Projectfolder/adoptODE_smmodell/.myvenv/lib/python3.9/site-packages/jax/_src/numpy/array_methods.py:739\u001b[0m, in \u001b[0;36m_forward_operator_to_aval.<locals>.op\u001b[0;34m(self, *args)\u001b[0m\n\u001b[1;32m    738\u001b[0m \u001b[38;5;28;01mdef\u001b[39;00m \u001b[38;5;21mop\u001b[39m(\u001b[38;5;28mself\u001b[39m, \u001b[38;5;241m*\u001b[39margs):\n\u001b[0;32m--> 739\u001b[0m   \u001b[38;5;28;01mreturn\u001b[39;00m \u001b[38;5;28;43mgetattr\u001b[39;49m\u001b[43m(\u001b[49m\u001b[38;5;28;43mself\u001b[39;49m\u001b[38;5;241;43m.\u001b[39;49m\u001b[43maval\u001b[49m\u001b[43m,\u001b[49m\u001b[43m \u001b[49m\u001b[38;5;124;43mf\u001b[39;49m\u001b[38;5;124;43m\"\u001b[39;49m\u001b[38;5;124;43m_\u001b[39;49m\u001b[38;5;132;43;01m{\u001b[39;49;00m\u001b[43mname\u001b[49m\u001b[38;5;132;43;01m}\u001b[39;49;00m\u001b[38;5;124;43m\"\u001b[39;49m\u001b[43m)\u001b[49m\u001b[43m(\u001b[49m\u001b[38;5;28;43mself\u001b[39;49m\u001b[43m,\u001b[49m\u001b[43m \u001b[49m\u001b[38;5;241;43m*\u001b[39;49m\u001b[43margs\u001b[49m\u001b[43m)\u001b[49m\n",
      "File \u001b[0;32m/data.bmp/lbremer/Master_thesis/Projectfolder/adoptODE_smmodell/.myvenv/lib/python3.9/site-packages/jax/_src/numpy/array_methods.py:269\u001b[0m, in \u001b[0;36m_defer_to_unrecognized_arg.<locals>.deferring_binary_op\u001b[0;34m(self, other)\u001b[0m\n\u001b[1;32m    266\u001b[0m \u001b[38;5;66;03m# Note: don't use isinstance here, because we don't want to raise for\u001b[39;00m\n\u001b[1;32m    267\u001b[0m \u001b[38;5;66;03m# subclasses, e.g. NamedTuple objects that may override operators.\u001b[39;00m\n\u001b[1;32m    268\u001b[0m \u001b[38;5;28;01mif\u001b[39;00m \u001b[38;5;28mtype\u001b[39m(other) \u001b[38;5;129;01min\u001b[39;00m _rejected_binop_types:\n\u001b[0;32m--> 269\u001b[0m   \u001b[38;5;28;01mraise\u001b[39;00m \u001b[38;5;167;01mTypeError\u001b[39;00m(\u001b[38;5;124mf\u001b[39m\u001b[38;5;124m\"\u001b[39m\u001b[38;5;124munsupported operand type(s) for \u001b[39m\u001b[38;5;132;01m{\u001b[39;00mopchar\u001b[38;5;132;01m}\u001b[39;00m\u001b[38;5;124m: \u001b[39m\u001b[38;5;124m\"\u001b[39m\n\u001b[1;32m    270\u001b[0m                   \u001b[38;5;124mf\u001b[39m\u001b[38;5;124m\"\u001b[39m\u001b[38;5;132;01m{\u001b[39;00m\u001b[38;5;28mtype\u001b[39m(args[\u001b[38;5;241m0\u001b[39m])\u001b[38;5;241m.\u001b[39m\u001b[38;5;18m__name__\u001b[39m\u001b[38;5;132;01m!r}\u001b[39;00m\u001b[38;5;124m and \u001b[39m\u001b[38;5;132;01m{\u001b[39;00m\u001b[38;5;28mtype\u001b[39m(args[\u001b[38;5;241m1\u001b[39m])\u001b[38;5;241m.\u001b[39m\u001b[38;5;18m__name__\u001b[39m\u001b[38;5;132;01m!r}\u001b[39;00m\u001b[38;5;124m\"\u001b[39m)\n\u001b[1;32m    271\u001b[0m \u001b[38;5;28;01mreturn\u001b[39;00m \u001b[38;5;28mNotImplemented\u001b[39m\n",
      "\u001b[0;31mTypeError\u001b[0m: unsupported operand type(s) for *: 'DynamicJaxprTracer' and 'tuple'"
     ]
    }
   ],
   "source": [
    "# Setting up a dataset via simulation\n",
    "Simulation_MSD = simple_simulation(define_NavierCauchy,\n",
    "                            t_evals,\n",
    "                            kwargs_sys,\n",
    "                            kwargs_adoptODE)"
   ]
  },
  {
   "cell_type": "code",
   "execution_count": null,
   "metadata": {},
   "outputs": [],
   "source": []
  }
 ],
 "metadata": {
  "kernelspec": {
   "display_name": ".myvenv",
   "language": "python",
   "name": "python3"
  },
  "language_info": {
   "codemirror_mode": {
    "name": "ipython",
    "version": 3
   },
   "file_extension": ".py",
   "mimetype": "text/x-python",
   "name": "python",
   "nbconvert_exporter": "python",
   "pygments_lexer": "ipython3",
   "version": "3.9.13"
  }
 },
 "nbformat": 4,
 "nbformat_minor": 2
}
