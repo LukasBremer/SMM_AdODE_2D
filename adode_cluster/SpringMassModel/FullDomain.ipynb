{
 "cells": [
  {
   "cell_type": "code",
   "execution_count": 21,
   "metadata": {},
   "outputs": [],
   "source": [
    "#import jax and other libraries for computation\n",
    "import jax.numpy as jnp\n",
    "from jax import jit\n",
    "from jax.scipy.signal import convolve2d\n",
    "from jax.flatten_util import ravel_pytree\n",
    "from jax.experimental.ode import odeint\n",
    "from jax import tree_util\n",
    "import jax.random as random\n",
    "import numpy as np\n",
    "#for visulization\n",
    "import os\n",
    "import matplotlib.pyplot as plt\n",
    "import ipywidgets as widgets\n",
    "from IPython.display import display\n",
    "# Set Palatino as the default font\n",
    "font = {'family': 'serif', 'serif': ['Palatino'], 'size': 20}\n",
    "plt.rc('font', **font)\n",
    "plt.rc('text', usetex=True)\n",
    "# import AdoptODE\n",
    "from adoptODE import train_adoptODE, simple_simulation, dataset_adoptODE\n",
    "#import the MSD mechanics\n",
    "from HelperAndMechanics import *\n",
    "import h5py"
   ]
  },
  {
   "cell_type": "code",
   "execution_count": 22,
   "metadata": {},
   "outputs": [],
   "source": [
    "# Load from HDF5\n",
    "with h5py.File('../data/SpringMassModel/MechanicalData/data_eta_05_uvx.h5', 'r') as f:\n",
    "    v = f['v'][:]\n",
    "    u = f['u'][:]\n",
    "    T = f['T'][:]\n",
    "    x = f['x'][:]\n",
    "    f.close()\n",
    "N = T.shape[0]\n"
   ]
  },
  {
   "cell_type": "code",
   "execution_count": 23,
   "metadata": {},
   "outputs": [],
   "source": [
    "def define_MSD(**kwargs_sys):\n",
    "    N_sys = kwargs_sys['N_sys']\n",
    "\n",
    "    def gen_params():\n",
    "        return {key:value + kwargs_sys['par_tol']*value*np.random.uniform(-1.0, 1.0) for key,value in kwargs_sys['params_true'].items()}, {}, {}\n",
    "    \n",
    "    def gen_y0():\n",
    "        return {'u':kwargs_sys['u0'],'v':kwargs_sys['v0'],'T':kwargs_sys['T0'],'x':kwargs_sys['x0'],'x_dot':kwargs_sys['x_dot0']}\n",
    "    @jit\n",
    "    def kernel(spacing):\n",
    "        kernel = np.array([[1, 4, 1], [4, -20.0, 4], [1, 4, 1]]) / (spacing* spacing * 6)\n",
    "        return kernel\n",
    "    @jit\n",
    "    def laplace(f,params):  #laplace of scalar\n",
    "        f_ext = jnp.concatenate((f[0:1], f, f[-1:]), axis=0)\n",
    "        f_ext = jnp.concatenate((f_ext[:, 0:1], f_ext, f_ext[:, -1:]), axis=1)\n",
    "        return convolve2d(f_ext, kernel(params['spacing']), mode='valid')\n",
    "    @jit\n",
    "    def epsilon(u,v,rp):\n",
    "        return rp['epsilon_0']+rp['mu_1']*v/(u+rp['mu_2'])\n",
    "    @jit\n",
    "    def epsilon_T(u):\n",
    "        return 1 - 0.9*jnp.exp(-jnp.exp(-30*(jnp.abs(u) - 0.1)))\n",
    "    @jit\n",
    "    def eom(y, t, params, iparams, exparams):\n",
    "            \n",
    "            par=params\n",
    "            u=y['u']\n",
    "            v=y['v']\n",
    "            T=y['T']\n",
    "            x=y['x']\n",
    "            x_dot=y['x_dot']\n",
    "\n",
    "            dudt = par['D']*laplace(u,par)-(par['k'])*u*(u-par['a'])*(u-1) - u*v\n",
    "            dvdt = epsilon(u,v,par)*(-v-(par['k'])*u*(u-par['a']-1))\n",
    "            dTdt = epsilon_T(u)*(par['k_T']*jnp.abs(u)-T)\n",
    "            dx_dotdt = 1/par['m'] *  (force_field_active(x,T,par) + force_field_passive(x,par) + force_field_struct(x,T,par) - x_dot * par['c_damp'])\n",
    "            dxdt = x_dot\n",
    "\n",
    "            return {'u':dudt, 'v':dvdt, 'T':dTdt, 'x':zero_out_edges(dxdt), 'x_dot':zero_out_edges(dx_dotdt)}\n",
    "    @jit\n",
    "    def loss(ys, params, iparams, exparams, targets):\n",
    "        # u = ys['u']\n",
    "        # u_target = targets['u']\n",
    "        pad = 10\n",
    "        x = ys['x'][:,:,pad:-pad,pad:-pad]\n",
    "        x_target = targets['x'][:,:,pad:-pad,pad:-pad]\n",
    "        x_dot = ys['x_dot'][:,:,pad:-pad,pad:-pad]\n",
    "        x_dot_target = targets['x_dot'][:,:,pad:-pad,pad:-pad]\n",
    "        \n",
    "        return  jnp.nanmean((x - x_target)**2 + (x_dot-x_dot_target)**2)#jnp.nanmean((u - u_target)**2) +\n",
    "            \n",
    "    return eom, loss, gen_params, gen_y0, {}"
   ]
  },
  {
   "cell_type": "code",
   "execution_count": 24,
   "metadata": {},
   "outputs": [],
   "source": [
    "def get_ini_simulation(u,v,T,x,x_dot,sim_indx,size = 100,pad = 10,delta_t_e = 0.08,sampling_rate = 10,length = 30):\n",
    "    '''gets the initial conditions for the simulation\n",
    "    if sim_indx=0 then the initial conditions are taken from raw data\n",
    "    if sim_indx=1 then the initial conditions are taken from the last state of the recent simulation'''\n",
    "    t_evals = np.linspace(0, delta_t_e*sampling_rate*length, length)\n",
    "    if sim_indx == 0:\n",
    "        #define grid and initial conditions\n",
    "        u_fit = u[:length*sampling_rate][::sampling_rate,:,:]\n",
    "        T_fit = T[:length*sampling_rate][::sampling_rate,:,:]\n",
    "        v_fit = v[:length*sampling_rate][::sampling_rate,:,:]\n",
    "        x_fit = x[:length*sampling_rate][::sampling_rate,:,:,:]\n",
    "        x_dot = np.gradient(x,axis = 0)/delta_t_e\n",
    "        x_dot_fit = x_dot[:length*sampling_rate][::sampling_rate,:,:,:]\n",
    "        #select input state\n",
    "        u0 = u_fit[0]\n",
    "        v0 = v_fit[0]\n",
    "        T0 = T_fit[0]\n",
    "        x0 = x_fit[0]\n",
    "        x_dot0 = x_dot_fit[0]\n",
    "    else:\n",
    "        u0 = u[-1]\n",
    "        v0 = v[-1]\n",
    "        T0 = T[-1]\n",
    "        x0 = x[-1]\n",
    "        x_dot0 = x_dot[-1]\n",
    "        \n",
    "    return u0, v0, T0, x0, x_dot0, t_evals\n",
    "\n",
    "def get_ini_fit(u_sol,v_sol,T_sol,x,x_dot,sim_indx,size = 100,pad = 10,delta_t_e = 0.08,sampling_rate = 10,length=30):\n",
    "    '''gets the initial conditions for the simulation\n",
    "    if sim_indx=0 then u,v,T are initialized as resting stante (0)\n",
    "    if sim_indx=1 then the u,v,T are taken from the last state of the recent fit'''\n",
    "    t_evals = np.linspace(0, delta_t_e*sampling_rate*length, length)\n",
    "    if sim_indx == 0:\n",
    "        #select input state\n",
    "        u0 = jnp.zeros((size,size))\n",
    "        v0 = jnp.zeros((size,size))\n",
    "        T0 = jnp.zeros((size,size))\n",
    "        x0 = x[0]\n",
    "        x_dot0 = x_dot[0]\n",
    "    else:\n",
    "        u0 = u_sol[-1]\n",
    "        v0 = v_sol[-1]\n",
    "        T0 = T_sol[-1]\n",
    "        x0 = x[-1]\n",
    "        x_dot0 = x_dot[-1]\n",
    "    return u0, v0, T0, x0, x_dot0, t_evals"
   ]
  },
  {
   "cell_type": "code",
   "execution_count": 25,
   "metadata": {},
   "outputs": [],
   "source": [
    "\"\"\"\n",
    "    Reads in necessary parameters from config.ini\n",
    "\"\"\"\n",
    "N,size,params = read_config(['D','a','k','epsilon_0','mu_1','mu_2','k_T','delta_t_e'\n",
    "                             ,'k_T','k_ij','k_ij_pad','k_j','k_a','k_a_pad','c_a','m','c_damp',\n",
    "                             'n_0','l_0','spacing'],mode = 'chaos')\n",
    "\n",
    "keys =['D','a','k','epsilon_0','mu_1','mu_2','k_T','delta_t_e'\n",
    "        ,'k_T','k_ij','k_ij_pad','k_j','k_a','k_a_pad','c_a','m','c_damp',\n",
    "        'n_0','l_0','spacing']\n",
    "tol = 0\n",
    "params_true = dict(zip(keys,params))\n",
    "params_low = {key: value - value*tol for key, value in params_true.items()}\n",
    "params_high = {key: value + value*tol for key, value in params_true.items()}\n",
    "x_dot = np.gradient(x, axis=1) / params_true['delta_t_e']\n",
    "\n",
    "u0,v0,T0,x0,x_dot0,t_evals = get_ini_simulation(u,v,T,x,x_dot,0)\n",
    "\n",
    "kwargs_sys = {'size': 100,\n",
    "              'spacing': 1,\n",
    "              'N_sys': 1,\n",
    "              'par_tol': 0,\n",
    "              'params_true': params_true,\n",
    "              'u0': u0,'v0': v0,'T0': T0,'x0': x0,'x_dot0': x_dot0}\n",
    "kwargs_adoptODE = {'epochs': 10,'N_backups': 1,'lr': 1e-3,'lower_b': params_low,'upper_b': params_high,\n",
    "                   'lower_b_y0':{'u':u0,'v':v0,'T':T0,'x':x0,'x_dot':x_dot0},\n",
    "                    'upper_b_y0':{'u':u0,'v':v0,'T':T0,'x':x0,'x_dot':x_dot0}}"
   ]
  },
  {
   "cell_type": "code",
   "execution_count": 26,
   "metadata": {},
   "outputs": [
    {
     "name": "stdout",
     "output_type": "stream",
     "text": [
      "Parameters:  1.0\n"
     ]
    }
   ],
   "source": [
    "print('Parameters: ',params_true['spacing'])"
   ]
  },
  {
   "cell_type": "code",
   "execution_count": 27,
   "metadata": {},
   "outputs": [],
   "source": [
    "# Setting up a dataset via simulation\n",
    "Simulation_MSD = simple_simulation(define_MSD,\n",
    "                            t_evals,\n",
    "                            kwargs_sys,\n",
    "                            kwargs_adoptODE)\n"
   ]
  },
  {
   "cell_type": "markdown",
   "metadata": {},
   "source": [
    "## Use Simulation data as ground trouth"
   ]
  },
  {
   "cell_type": "code",
   "execution_count": 28,
   "metadata": {},
   "outputs": [],
   "source": [
    "x_sim = Simulation_MSD.ys['x'][0]\n",
    "x_dot_sim = Simulation_MSD.ys['x_dot'][0]\n",
    "T_sim = Simulation_MSD.ys['T'][0]\n",
    "u_sim = Simulation_MSD.ys['u'][0]\n",
    "v_sim = Simulation_MSD.ys['v'][0]\n",
    "params_true = Simulation_MSD.params_train\n",
    "fit_indx = 0\n",
    "pad = 10\n",
    "\n",
    "u0,v0,T0,x0,x_dot0,t_evals = get_ini_fit(u_sim,v_sim,T_sim,x_sim,x_dot_sim,fit_indx)"
   ]
  },
  {
   "cell_type": "code",
   "execution_count": 29,
   "metadata": {},
   "outputs": [],
   "source": [
    "tol = 0.5\n",
    "params_low = {key: value - value*tol for key, value in params_true.items()}\n",
    "params_high = {key: value + value*tol for key, value in params_true.items()}\n",
    "params_high['k_ij_pad'],params_low['k_ij_pad'] = params_true['k_ij_pad']  ,params_true['k_ij_pad']\n",
    "params_high['k_a_pad'],params_low['k_a_pad'] = params_true['k_a_pad']  ,params_true['k_a_pad']"
   ]
  },
  {
   "cell_type": "code",
   "execution_count": null,
   "metadata": {},
   "outputs": [],
   "source": [
    "length = 30\n",
    "targets = {'u':u_sim.reshape(1,length,100,100),'v':v_sim.reshape(1,length,100,100),'T':T_sim.reshape(1,length,100,100),'x':x_sim.reshape(1,length,2,size+2*pad+1,size+2*pad+1),'x_dot':x_dot_sim.reshape(1,length,2,size+2*pad+1,size+2*pad+1)}\n",
    "kwargs_sys = {'size': 100,\n",
    "              'spacing': 1,\n",
    "              'N_sys': 1,\n",
    "              'par_tol': 0.5,\n",
    "              'params_true': params_true,\n",
    "              'u0': u0,'v0': v0,'T0': T0,'x0': x0,'x_dot0': x_dot0}\n",
    "kwargs_adoptODE = {'epochs': 200,'N_backups': 1,'lr': 1e-2,'lower_b': params_low,'upper_b': params_high,\n",
    "                   'lower_b_y0':{'u':u0,'v':v0,'T':T0,'x':x0,'x_dot':x_dot0},\n",
    "                    'upper_b_y0':{'u':jnp.full_like(u0,1),'v':jnp.full_like(v0,2.5),'T':jnp.full_like(T0,3),'x':x0,'x_dot':x_dot0}}"
   ]
  },
  {
   "cell_type": "code",
   "execution_count": 31,
   "metadata": {},
   "outputs": [
    {
     "name": "stdout",
     "output_type": "stream",
     "text": [
      "Epoch 000:  Loss: 2.3e-02,  Params Err.: 1.0e+01, y0 error: nan, Params Norm: 3.8e+01, iParams Err.: 0.0e+00, iParams Norm: 0.0e+00, \n",
      "Epoch 020:  Loss: 7.5e-04,  Params Err.: 7.4e+00, y0 error: nan, Params Norm: 3.8e+01, iParams Err.: 0.0e+00, iParams Norm: 0.0e+00, \n",
      "Epoch 040:  Loss: 5.0e-04,  Params Err.: 6.9e+00, y0 error: nan, Params Norm: 3.8e+01, iParams Err.: 0.0e+00, iParams Norm: 0.0e+00, \n",
      "Epoch 060:  Loss: 4.8e-04,  Params Err.: 6.4e+00, y0 error: nan, Params Norm: 3.8e+01, iParams Err.: 0.0e+00, iParams Norm: 0.0e+00, \n",
      "Epoch 080:  Loss: 4.2e-04,  Params Err.: 5.9e+00, y0 error: nan, Params Norm: 3.8e+01, iParams Err.: 0.0e+00, iParams Norm: 0.0e+00, \n",
      "Epoch 100:  Loss: 6.2e-05,  Params Err.: 5.4e+00, y0 error: nan, Params Norm: 3.9e+01, iParams Err.: 0.0e+00, iParams Norm: 0.0e+00, \n",
      "Epoch 120:  Loss: 4.6e-04,  Params Err.: 5.0e+00, y0 error: nan, Params Norm: 3.9e+01, iParams Err.: 0.0e+00, iParams Norm: 0.0e+00, \n",
      "Epoch 140:  Loss: 2.6e-04,  Params Err.: 4.6e+00, y0 error: nan, Params Norm: 3.9e+01, iParams Err.: 0.0e+00, iParams Norm: 0.0e+00, \n",
      "Epoch 160:  Loss: 4.1e-04,  Params Err.: 4.2e+00, y0 error: nan, Params Norm: 3.9e+01, iParams Err.: 0.0e+00, iParams Norm: 0.0e+00, \n",
      "Epoch 180:  Loss: 1.7e-04,  Params Err.: 3.9e+00, y0 error: nan, Params Norm: 4.0e+01, iParams Err.: 0.0e+00, iParams Norm: 0.0e+00, \n",
      "Epoch 199:  Loss: 6.2e-05,  Params Err.: 3.6e+00, y0 error: nan, Params Norm: 4.0e+01, iParams Err.: 0.0e+00, iParams Norm: 0.0e+00, \n",
      "Found params:  {'D': Array(0.33, dtype=float32), 'a': Array(0.05073551, dtype=float32), 'c_a': Array(8.76454, dtype=float32), 'c_damp': Array(13.029249, dtype=float32), 'delta_t_e': Array(0.11883147, dtype=float32), 'epsilon_0': Array(0.001, dtype=float32), 'k': Array(8.126321, dtype=float32), 'k_T': Array(3.3772855, dtype=float32), 'k_a': Array(7.5345035, dtype=float32), 'k_a_pad': Array(23., dtype=float32), 'k_ij': Array(11.088952, dtype=float32), 'k_ij_pad': Array(23., dtype=float32), 'k_j': Array(2.9704945, dtype=float32), 'l_0': Array(1.0145444, dtype=float32), 'm': Array(1.5, dtype=float32), 'mu_1': Array(0.1958419, dtype=float32), 'mu_2': Array(0.43855944, dtype=float32), 'n_0': Array(0.5036362, dtype=float32), 'spacing': Array(1.1757063, dtype=float32)}\n"
     ]
    }
   ],
   "source": [
    "dataset_MSD = dataset_adoptODE(define_MSD,\n",
    "                                targets,\n",
    "                                t_evals, \n",
    "                                kwargs_sys,\n",
    "                                kwargs_adoptODE,\n",
    "                                true_params=params_true)\n",
    "_ = train_adoptODE(dataset_MSD)\n",
    "print('Found params: ', dataset_MSD.params_train)"
   ]
  },
  {
   "cell_type": "code",
   "execution_count": 32,
   "metadata": {},
   "outputs": [
    {
     "data": {
      "image/png": "[encoded data removed]",
      "text/plain": [
       "<Figure size 1600x500 with 1 Axes>"
      ]
     },
     "metadata": {},
     "output_type": "display_data"
    },
    {
     "name": "stdout",
     "output_type": "stream",
     "text": [
      "0.5036362\n"
     ]
    }
   ],
   "source": [
    "# Get the parameter names\n",
    "param_names = list(params_true.keys())\n",
    "# Calculate the relative error for each parameter\n",
    "relative_errors = []\n",
    "for param_name in param_names:\n",
    "    real_value = params_true.get(param_name, np.nan)\n",
    "    train_value = dataset_MSD.params_train.get(param_name, np.nan)\n",
    "    if np.isnan(real_value) or np.isnan(train_value):\n",
    "        relative_errors.append(np.nan)\n",
    "    else:\n",
    "        relative_error = np.abs((train_value - real_value) / real_value)\n",
    "        relative_errors.append(relative_error)\n",
    "# Plot the relative errors\n",
    "plt.figure(figsize=(16, 5))\n",
    "plt.bar(param_names, relative_errors)\n",
    "plt.xlabel('Parameter')\n",
    "plt.ylabel('Relative Error')\n",
    "plt.title('Relative Error of Parameters')\n",
    "plt.xticks(rotation=45)\n",
    "plt.show()\n",
    "print(dataset_MSD.params_train['n_0'])"
   ]
  },
  {
   "cell_type": "code",
   "execution_count": 38,
   "metadata": {},
   "outputs": [],
   "source": [
    "x_rec = dataset_MSD.ys_sol['x'][0]\n",
    "x_dot_rec = dataset_MSD.ys_sol['x_dot'][0]\n",
    "T_rec = dataset_MSD.ys_sol['T'][0]\n",
    "u_rec = dataset_MSD.ys_sol['u'][0]\n",
    "v_rec = dataset_MSD.ys_sol['v'][0]"
   ]
  },
  {
   "cell_type": "code",
   "execution_count": 42,
   "metadata": {},
   "outputs": [
    {
     "data": {
      "application/vnd.jupyter.widget-view+json": {
       "model_id": "5f704f40205f4bb0a79ca9ec0091df0e",
       "version_major": 2,
       "version_minor": 0
      },
      "text/plain": [
       "IntSlider(value=0, description='Frame', max=29)"
      ]
     },
     "metadata": {},
     "output_type": "display_data"
    },
    {
     "data": {
      "application/vnd.jupyter.widget-view+json": {
       "model_id": "026038e63c7143a0b46f0599975a13c2",
       "version_major": 2,
       "version_minor": 0
      },
      "text/plain": [
       "Output()"
      ]
     },
     "metadata": {},
     "output_type": "display_data"
    }
   ],
   "source": [
    "dA_rec = compute_dA(x_rec, 1)\n",
    "dA_sim = compute_dA(x_sim, 1)\n",
    "dA_err = dA_sim - dA_rec \n",
    "vmin,vmax =  -.2,.2\n",
    "pad = 10\n",
    "# Function to update the plot\n",
    "def update_plot(frame):\n",
    "    fig, axes = plt.subplots(1, 2, figsize=(16, 4))  # Create 2 side-by-side subplots\n",
    "    \n",
    "    # Plot dA_fit\n",
    "    im1 = axes[0].matshow(dA_rec[frame, pad:-pad, pad:-pad], cmap='coolwarm', vmin=vmin, vmax=vmax)\n",
    "    axes[0].set_title(f\"dA reconstruction\")\n",
    "    \n",
    "    # Plot dA_sim\n",
    "    im2 = axes[1].matshow(dA_sim[frame, pad:-pad, pad:-pad], cmap='coolwarm', vmin=vmin, vmax=vmax)\n",
    "    axes[1].set_title(f\"dA simulation\")\n",
    "    \n",
    "    # Add colorbars\n",
    "    fig.colorbar(im1, ax=axes[0])\n",
    "    fig.colorbar(im2, ax=axes[1])\n",
    "\n",
    "    plt.show()\n",
    "def update_single_plot(frame):\n",
    "    fig,axes = plt.subplots(1, 1, figsize=(10,8))\n",
    "\n",
    "    # Plot dA_fit\n",
    "    im1 = axes.matshow(dA_err[frame, pad:-pad, pad:-pad], cmap='coolwarm', vmin=vmin, vmax=vmax)\n",
    "    axes.set_title(f\"dA error\")\n",
    "\n",
    "    # Add colorbars\n",
    "    fig.colorbar(im1, ax=axes)\n",
    "\n",
    "    plt.show()\n",
    "\n",
    "\n",
    "# Create interactive slider\n",
    "frame_slider = widgets.IntSlider(min=0, max=x_sim.shape[0]-1, step=1, value=0, description=\"Frame\")\n",
    "\n",
    "# Use interactive_output instead of interactive\n",
    "out = widgets.interactive_output(update_single_plot, {'frame': frame_slider})\n",
    "\n",
    "# Display slider and output\n",
    "display(frame_slider, out)"
   ]
  },
  {
   "cell_type": "code",
   "execution_count": null,
   "metadata": {},
   "outputs": [],
   "source": []
  },
  {
   "cell_type": "code",
   "execution_count": null,
   "metadata": {},
   "outputs": [],
   "source": []
  },
  {
   "cell_type": "code",
   "execution_count": null,
   "metadata": {},
   "outputs": [],
   "source": []
  }
 ],
 "metadata": {
  "kernelspec": {
   "display_name": ".myvenv",
   "language": "python",
   "name": "python3"
  },
  "language_info": {
   "codemirror_mode": {
    "name": "ipython",
    "version": 3
   },
   "file_extension": ".py",
   "mimetype": "text/x-python",
   "name": "python",
   "nbconvert_exporter": "python",
   "pygments_lexer": "ipython3",
   "version": "3.9.13"
  }
 },
 "nbformat": 4,
 "nbformat_minor": 2
}
