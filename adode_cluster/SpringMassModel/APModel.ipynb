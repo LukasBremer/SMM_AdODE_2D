{
 "cells": [
  {
   "cell_type": "code",
   "execution_count": 13,
   "metadata": {},
   "outputs": [],
   "source": [
    "import matplotlib.pyplot as plt\n",
    "import numpy as np\n",
    "from HelperAndMechanics import *\n",
    "from matplotlib import cm\n",
    "\n",
    "# Set Palatino as the default font\n",
    "font = {'family': 'serif', 'serif': ['Palatino'], 'size': 20}\n",
    "plt.rc('font', **font)\n",
    "plt.rc('text', usetex=True)\n",
    "\n",
    "import jax.numpy as jnp\n",
    "from jax import jit\n",
    "from jax.scipy.signal import convolve2d\n",
    "from jax.flatten_util import ravel_pytree\n",
    "from jax.experimental.ode import odeint\n",
    "from jax import tree_util\n",
    "\n",
    "import numpy as np\n",
    "import os\n",
    "import matplotlib.pyplot as plt\n",
    "\n",
    "from adoptODE import train_adoptODE, simple_simulation, dataset_adoptODE"
   ]
  },
  {
   "cell_type": "code",
   "execution_count": 10,
   "metadata": {},
   "outputs": [],
   "source": [
    "\n",
    "\n",
    "def define_AP(**kwargs_sys):\n",
    "    disc_x, disc_y = kwargs_sys['size'], kwargs_sys['size']\n",
    "    dx, dy = kwargs_sys['spacing'], kwargs_sys['spacing']\n",
    "    # N_sys = kwargs_sys['N_sys']\n",
    "    # padding = kwargs_sys['padding']\n",
    "\n",
    "    def d_dx(f):\n",
    "        return jnp.concatenate((jnp.zeros(\n",
    "            (1, disc_x)), f[1:] - f[:-1], jnp.zeros((1, disc_x))),\n",
    "                            axis=0)\n",
    "\n",
    "    def d_dy(f):\n",
    "        return jnp.concatenate((jnp.zeros(\n",
    "            (disc_y, 1)), f[:, 1:] - f[:, :-1], jnp.zeros((disc_y, 1))),\n",
    "                            axis=1)\n",
    "\n",
    "    kernel = np.array([[1, 4, 1], [4, -20.0, 4], [1, 4, 1]]) / (\n",
    "      dx * dy * 6)  #np.array([[0,1,0],[1,-4,1.],[0,1,0]])/(dx*dy)\n",
    "\n",
    "    def laplace(f):  #laplace of scalar\n",
    "        f_ext = jnp.concatenate((f[0:1], f, f[-1:]), axis=0)\n",
    "        f_ext = jnp.concatenate((f_ext[:, 0:1], f_ext, f_ext[:, -1:]), axis=1)\n",
    "        return convolve2d(f_ext, kernel, mode='valid')\n",
    "\n",
    "    def epsilon(u,v,rp):\n",
    "        return rp['eps0']+rp['mu1']*v/(u+rp['mu2'])\n",
    "\n",
    "    def eom(y, t, params, iparams, exparams):\n",
    "            p=params\n",
    "            u=y['u']\n",
    "            v=y['v']\n",
    "            dudt = p['D']*laplace(u)-(10.0**p['logk'])*u*(u-p['a'])*(u-1) - u*v\n",
    "            dvdt = epsilon(u,v,p)*(-v-(10.0**p['logk'])*u*(u-p['a']-1))\n",
    "            return {'u':dudt, 'v':dvdt}\n",
    "        \n",
    "    def gen_params():\n",
    "        return {'D':1.5,'a':0.06,'logk':1.0,'eps0':0.001,'mu1':0.2,'mu2':0.3}, {}, {}\n",
    "\n",
    "    def loss(ys, params, iparams, exparams, targets):\n",
    "        flat_fit = ys['u']\n",
    "        flat_target = targets['u']\n",
    "        return jnp.nanmean((flat_fit - flat_target)**2)  \n",
    "            \n",
    "    return eom, loss, gen_params, None, {}"
   ]
  },
  {
   "cell_type": "code",
   "execution_count": 11,
   "metadata": {},
   "outputs": [
    {
     "ename": "NameError",
     "evalue": "name 'read_config' is not defined",
     "output_type": "error",
     "traceback": [
      "\u001b[0;31m---------------------------------------------------------------------------\u001b[0m",
      "\u001b[0;31mNameError\u001b[0m                                 Traceback (most recent call last)",
      "Cell \u001b[0;32mIn[11], line 4\u001b[0m\n\u001b[1;32m      1\u001b[0m \u001b[38;5;124;03m\"\"\"\u001b[39;00m\n\u001b[1;32m      2\u001b[0m \u001b[38;5;124;03m    Reads in necessary parameters from config.ini\u001b[39;00m\n\u001b[1;32m      3\u001b[0m \u001b[38;5;124;03m\"\"\"\u001b[39;00m\n\u001b[0;32m----> 4\u001b[0m N,size,[] \u001b[38;5;241m=\u001b[39m \u001b[43mread_config\u001b[49m([],mode \u001b[38;5;241m=\u001b[39m \u001b[38;5;124m'\u001b[39m\u001b[38;5;124mchaos\u001b[39m\u001b[38;5;124m'\u001b[39m)\n\u001b[1;32m      6\u001b[0m \u001b[38;5;66;03m# Load from HDF5\u001b[39;00m\n\u001b[1;32m      7\u001b[0m \u001b[38;5;28;01mwith\u001b[39;00m h5py\u001b[38;5;241m.\u001b[39mFile(\u001b[38;5;124m'\u001b[39m\u001b[38;5;124m../data/SpringMassModel/MechanicalData/data_eta_05_uv.h5\u001b[39m\u001b[38;5;124m'\u001b[39m, \u001b[38;5;124m'\u001b[39m\u001b[38;5;124mr\u001b[39m\u001b[38;5;124m'\u001b[39m) \u001b[38;5;28;01mas\u001b[39;00m f:\n",
      "\u001b[0;31mNameError\u001b[0m: name 'read_config' is not defined"
     ]
    }
   ],
   "source": [
    "\"\"\"\n",
    "    Reads in necessary parameters from config.ini\n",
    "\"\"\"\n",
    "N,size,[] = read_config([],mode = 'chaos')\n",
    "\n",
    "# Load from HDF5\n",
    "with h5py.File('../data/SpringMassModel/MechanicalData/data_eta_05_uv.h5', 'r') as f:\n",
    "    dA = f['dA'][:]\n",
    "    u = f['u'][:]\n",
    "    T = f['T'][:]\n",
    "    v = f['v'][:]\n",
    "    f.close()\n",
    "N = T.shape[0]"
   ]
  },
  {
   "cell_type": "code",
   "execution_count": null,
   "metadata": {},
   "outputs": [],
   "source": []
  }
 ],
 "metadata": {
  "kernelspec": {
   "display_name": ".myvenv",
   "language": "python",
   "name": "python3"
  },
  "language_info": {
   "codemirror_mode": {
    "name": "ipython",
    "version": 3
   },
   "file_extension": ".py",
   "mimetype": "text/x-python",
   "name": "python",
   "nbconvert_exporter": "python",
   "pygments_lexer": "ipython3",
   "version": "3.9.13"
  }
 },
 "nbformat": 4,
 "nbformat_minor": 2
}
