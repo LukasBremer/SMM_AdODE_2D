{
 "cells": [
  {
   "cell_type": "code",
   "execution_count": null,
   "metadata": {},
   "outputs": [],
   "source": [
    "import matplotlib.pyplot as plt\n",
    "import numpy as np\n",
    "import h5py\n",
    "from HelperAndMechanics import *\n",
    "from matplotlib import cm\n",
    "from ipywidgets import *\n",
    "import seaborn as sns\n",
    "import pandas as pd\n",
    "import math\n",
    "import os\n",
    "import numpy as np\n",
    "import h5py\n",
    "import pandas as pd\n",
    "import matplotlib.pyplot as plt\n",
    "import seaborn as sns\n",
    "from matplotlib.ticker import MaxNLocator\n",
    "\n",
    "plt.rcParams['text.usetex'] = True\n",
    "# Set Palatino as the default font\n",
    "font = {'family': 'serif', 'serif': ['Palatino'], 'size': 20}\n",
    "plt.rc('font', **font)\n",
    "plt.rc('text', usetex=True)"
   ]
  },
  {
   "cell_type": "code",
   "execution_count": null,
   "metadata": {},
   "outputs": [
    {
     "data": {
      "text/plain": [
       "(1, 1000, 100, 100)"
      ]
     },
     "execution_count": 206,
     "metadata": {},
     "output_type": "execute_result"
    }
   ],
   "source": [
    "jnp.broadcast_to(1.,(1,1000,100,100)).shape"
   ]
  },
  {
   "cell_type": "code",
   "execution_count": null,
   "metadata": {},
   "outputs": [],
   "source": [
    "def list_groups(file_path_in):\n",
    "    with h5py.File(file_path_in, 'r') as f:\n",
    "        return [name for name in f if isinstance(f[name], h5py.Group)]\n",
    "\n",
    "def load_run(file_path_in, run):\n",
    "    data = {}\n",
    "    params_dict = {}\n",
    "    param_trajectories = {}\n",
    "\n",
    "    with h5py.File(file_path_in, 'r') as f:\n",
    "        if run not in f:\n",
    "            raise ValueError(f\"Run '{run}' not found in file.\")\n",
    "        group = f[run]\n",
    "        dataset_keys = ['u_sol', 'u', 'v_sol', 'v', 'T_sol', 'T', 'x_sol', 'x',\n",
    "                        'u_BOCF', 'v_BOCF', 'T_BOCF', 'x_BOCF', 'losses']\n",
    "        for key in dataset_keys:\n",
    "            if key in group:\n",
    "                data[key] = np.array(group[key])\n",
    "\n",
    "        # Load recovered parameters\n",
    "        if \"params_train\" in group:\n",
    "            params_group = group[\"params_train\"]\n",
    "            params_dict = {key: params_group.attrs[key] for key in params_group.attrs}\n",
    "\n",
    "        # Load parameter trajectories\n",
    "        if \"params_history\" in group:\n",
    "            hist_group = group[\"params_history\"]\n",
    "            for key in hist_group:\n",
    "                param_trajectories[key] = np.array(hist_group[key])\n",
    "\n",
    "    return data, params_dict, param_trajectories\n",
    "\n",
    "def load_stat_data(file_path_in, mode='AP_AP'):\n",
    "    run_list = list_groups(file_path_in)\n",
    "    print(\"Available runs:\", len(run_list))\n",
    "\n",
    "    u_sol, u_sim = [], []\n",
    "    v_sol, v_sim = [], []\n",
    "    T_sol, T_sim = [], []\n",
    "    x_sol, x_sim = [], []\n",
    "    losses = []\n",
    "    params = {}\n",
    "    param_trajectories_all = {}\n",
    "\n",
    "    for run in run_list:\n",
    "        data, params_train, param_trajectories = load_run(file_path_in, run)\n",
    "\n",
    "        # Initialize parameter and trajectory structures on first run\n",
    "        if not params:\n",
    "            params = {key: [] for key in params_train}\n",
    "        if not param_trajectories_all and param_trajectories:\n",
    "            param_trajectories_all = {key: [] for key in param_trajectories}\n",
    "\n",
    "        # Append trajectory data\n",
    "        for key, traj in param_trajectories.items():\n",
    "            param_trajectories_all[key].append(traj)\n",
    "\n",
    "        # Append final trained parameters\n",
    "        for key in params_train:\n",
    "            params[key].append(params_train[key])\n",
    "\n",
    "        # Select data based on mode\n",
    "        if mode == 'AP_AP':\n",
    "            u_sol.append(data.get('u_sol', np.array([])))\n",
    "            u_sim.append(data.get('u', np.array([])))\n",
    "            v_sol.append(data.get('v_sol', np.array([])))\n",
    "            v_sim.append(data.get('v', np.array([])))\n",
    "            T_sol.append(data.get('T_sol', np.array([])))\n",
    "            T_sim.append(data.get('T', np.array([])))\n",
    "            x_sol.append(data.get('x_sol', np.array([])))\n",
    "            x_sim.append(data.get('x', np.array([])))\n",
    "        elif mode == 'BOCF':\n",
    "            u_sol.append(data.get('u_sol', np.array([])))\n",
    "            u_sim.append(data.get('u_BOCF', np.array([])))\n",
    "            v_sol.append(data.get('v_sol', np.array([])))\n",
    "            v_sim.append(data.get('v_BOCF', np.array([])))\n",
    "            T_sol.append(data.get('T_sol', np.array([])))\n",
    "            T_sim.append(data.get('T_BOCF', np.array([])))\n",
    "            x_sol.append(data.get('x_sol', np.array([])))\n",
    "            x_sim.append(data.get('x_BOCF', np.array([])))\n",
    "\n",
    "        if 'losses' in data:\n",
    "            losses.append(data['losses'])\n",
    "\n",
    "    return (\n",
    "        np.concatenate(u_sol) if u_sol else np.array([]),\n",
    "        np.concatenate(u_sim) if u_sim else np.array([]),\n",
    "        np.concatenate(v_sol) if v_sol else np.array([]),\n",
    "        np.concatenate(v_sim) if v_sim else np.array([]),\n",
    "        np.concatenate(T_sol) if T_sol else np.array([]),\n",
    "        np.concatenate(T_sim) if T_sim else np.array([]),\n",
    "        np.concatenate(x_sol) if x_sol else np.array([]),\n",
    "        np.concatenate(x_sim) if x_sim else np.array([]),\n",
    "        losses,\n",
    "        {key: np.array(val) for key, val in params.items()},\n",
    "        {key: np.stack(val) for key, val in param_trajectories_all.items()}\n",
    "    )\n",
    "\n",
    "def get_gaussian_dist_from_params(params, run, n_gaussians=3, sigma=1):\n",
    "    \"\"\"2D Gaussian function\"\"\"\n",
    "    n_dist = np.load('../data/SpringMassModel/FiberOrientation/fiber_orientation.npy')\n",
    "\n",
    "    centers = jnp.linspace(-1, 1, n_gaussians)\n",
    "    sum = 0 \n",
    "\n",
    "    for x0 in range(3):\n",
    "        for y0 in range(3):\n",
    "            sum += gaussian_2d(centers[x0], centers[y0], params['Amp'+str(x0)+str(y0)][run], sigma)\n",
    "\n",
    "    return sum,n_dist\n",
    "\n",
    "@jit\n",
    "def compute_dA_stats(x, A_undeformed):\n",
    "    \"\"\"\n",
    "    Computes the relative area change for a time series of quadrilateral meshes.\n",
    "\n",
    "    Parameters:\n",
    "    x : ndarray of shape (T, 2, H, M)\n",
    "        Time series of x and y coordinate grids.\n",
    "    A_undeformed : float\n",
    "        The reference (undeformed) area.\n",
    "\n",
    "    Returns:\n",
    "    dA : ndarray of shape (T, H-1, M-1)\n",
    "        The relative area change over time.\n",
    "    \"\"\"\n",
    "\n",
    "    # Compute edge lengths (vectorized over time T)\n",
    "    a = jnp.linalg.norm(x[:,:, :, 1:, 1:] - x[:,:, :, 1:, :-1], axis=2)  # Right edge\n",
    "    b = jnp.linalg.norm(x[:,:, :, 1:, 1:] - x[:,:, :, :-1, 1:], axis=2)  # Top edge\n",
    "    c = jnp.linalg.norm(x[:,:, :, :-1, 1:] - x[:,:, :, :-1, :-1], axis=2)  # Left edge\n",
    "    d = jnp.linalg.norm(x[:,:, :, 1:, :-1] - x[:,:, :, :-1, :-1], axis=2)  # Bottom edge\n",
    "\n",
    "    # Compute diagonal lengths\n",
    "    diagonal1 = jnp.linalg.norm(x[:,:, :, :-1, 1:] - x[:,:, :, 1:, :-1], axis=2)  # Top-left to bottom-right\n",
    "    diagonal2 = jnp.linalg.norm(x[:,:, :, 1:, 1:] - x[:,:, :, :-1, :-1], axis=2)  # Top-right to bottom-left\n",
    "\n",
    "    # Compute helper term\n",
    "    hlp = (b**2 + d**2 - a**2 - c**2)\n",
    "\n",
    "    # Compute deformed area using the determinant formula\n",
    "    A_deformed = jnp.sqrt(4 * diagonal1**2 * diagonal2**2 - hlp**2) / 4\n",
    "\n",
    "    # Compute relative area change\n",
    "    dA = A_deformed / A_undeformed - 1\n",
    "\n",
    "    return dA\n",
    "\n",
    "def plot_gaussian_dist(params, run, file_path_out, save_data=True):\n",
    "    n_dist_train,n_dist = get_gaussian_dist_from_params(params, run, n_gaussians=3, sigma=1)\n",
    "    n_dist_train, n_dist = (1-n_dist_train), (1-n_dist)\n",
    "    n_err = np.abs(n_dist - n_dist_train)\n",
    "\n",
    "    fig, axes = plt.subplots(1, 3, figsize=(12, 4))\n",
    "\n",
    "    im0 = axes[0].imshow(n_dist, cmap='viridis', origin='lower', vmin=np.min(n_dist), vmax=np.max(n_dist))\n",
    "    axes[0].set_title(r\"$\\eta$ ground truth\")\n",
    "    plt.colorbar(im0, ax=axes[0])\n",
    "\n",
    "    im1 = axes[1].imshow(n_dist_train, cmap='viridis', origin='lower', vmin=np.min(n_dist), vmax=np.max(n_dist))\n",
    "    axes[1].set_title(r\"$\\eta$ reconstruction\")\n",
    "    plt.colorbar(im1, ax=axes[1])\n",
    "\n",
    "    im2 = axes[2].imshow(n_err, cmap='viridis', origin='lower')\n",
    "    axes[2].set_title(\"Absolute Error\")\n",
    "    plt.colorbar(im2, ax=axes[2])\n",
    "\n",
    "    # plt.suptitle(r\"Gaussian Distribution Comparison\", fontsize=14)\n",
    "    plt.tight_layout(rect=[0, 0, 1, 0.95])\n",
    "\n",
    "    if save_data:\n",
    "        plt.savefig(file_path_out + 'gaussian_dist_comparison.png')\n",
    "        plt.close(fig)\n",
    "    else:\n",
    "        plt.show()\n",
    "\n",
    "def plot_loss_curves(losses, file_path_out, save_data=True):\n",
    "    fig, ax = plt.subplots(2, 1, figsize=(8, 8))\n",
    "    epochs = np.linspace(0, len(losses[0]) * 10, len(losses[0]))\n",
    "    max_run = 40\n",
    "    if len(losses) > max_run:\n",
    "        losses = losses[:max_run]\n",
    "\n",
    "    for run in range(len(losses)):\n",
    "        ax[0].plot(epochs, np.log(losses[run]))\n",
    "    ax[0].set_xlabel('Epoch')\n",
    "    ax[0].set_ylabel('log(Loss)')\n",
    "    ax[0].xaxis.set_major_locator(MaxNLocator(integer=True))  # Integer ticks\n",
    "\n",
    "    last_losses = [np.log(losses[run][-1, 0]) for run in range(len(losses))]\n",
    "    ax[1].plot(last_losses, marker='o')\n",
    "    ax[1].set_xlabel('Run')\n",
    "    ax[1].set_ylabel('Final log(Loss)')\n",
    "    ax[1].xaxis.set_major_locator(MaxNLocator(integer=True))  # Integer ticks\n",
    "\n",
    "    plt.tight_layout()\n",
    "    if save_data:\n",
    "        plt.savefig(file_path_out + 'loss_curves.png')\n",
    "        plt.close(fig)\n",
    "\n",
    "def violin_plot(file_path_in, mode, selected_keys, params_true, param_labels, file_path_out, title=\"Normalized Parameters\", save_data=True):\n",
    "    _, _, _, _, _, _, _, _, losses, params,param_history = load_stat_data(file_path_in, mode)\n",
    "    normalized_params = {key: params[key] / params_true[key] for key in selected_keys if key in params and key in params_true}\n",
    "    if 'D' in normalized_params:\n",
    "        normalized_params['D'] = params['D'] / params['spacing']**2 / (params_true['D'] / params_true['spacing']**2)\n",
    "    df = pd.DataFrame(normalized_params)\n",
    "    plt.figure(figsize=(12, 6))\n",
    "    ax = sns.violinplot(data=df, inner=\"quartile\", palette=\"coolwarm\")\n",
    "    sns.stripplot(data=df, color='black', jitter=True, alpha=0.5, zorder=3)\n",
    "    plt.grid(True, linestyle=\"--\", alpha=0.6, zorder=0)\n",
    "    plt.xticks(rotation=0)\n",
    "    if title == 'GaussianAmplitudes':\n",
    "        plt.ylabel('Parameter Value')\n",
    "    else:\n",
    "        plt.ylabel('Reconstructed Parameter/Ground Truth')\n",
    "    # plt.title(title)\n",
    "    xticks = ax.get_xticks()\n",
    "    xticklabels = [param_labels[tick.get_text()] for tick in ax.get_xticklabels()]\n",
    "    ax.set_xticklabels(xticklabels)\n",
    "    k_indices = [i for i, label in enumerate(xticklabels) if label == param_labels['k_ij']]\n",
    "    if k_indices:\n",
    "        y_min = ax.get_ylim()[0]\n",
    "        for x_start, x_end, text in [(-.1, 2.1, 'spring constants'), (4.9, 6.1, 'init active stress')]:\n",
    "            ax.plot([x_start, x_end], [y_min + 0.05, y_min + 0.05], color='black', linewidth=1.5)\n",
    "            ax.plot([x_start, x_start], [y_min + 0.05, y_min], color='black', linewidth=1.5)\n",
    "            ax.plot([x_end, x_end], [y_min + 0.05, y_min], color='black', linewidth=1.5)\n",
    "            ax.text((x_start + x_end)/2, y_min + 0.26, text, ha='center', va='top', fontsize=16)\n",
    "        ax.set_ylim(bottom=y_min - 0.2)\n",
    "    plt.tight_layout()\n",
    "    if save_data:\n",
    "        plt.savefig(f'{file_path_out}violin_plot{title}.png')\n",
    "        plt.close()\n",
    "\n",
    "def plot_T_error(file_path_in, run, params, params_true, file_path_out, mode='AP_AP', eta_var=False, save_data=True):\n",
    "    u_sol, _, _, _, T_sol, T_sim, _, _, _, _, _ = load_stat_data(file_path_in, mode)\n",
    "\n",
    "    l_a_sol = np.sqrt((params['n_0'][run] - params['l_0'][run]/2)**2 + (params['l_0'][run]/2)**2)\n",
    "    l_a_sim = np.sqrt((params_true['n_0'] - params_true['l_0']/2)**2 + (params_true['l_0']/2)**2)\n",
    "\n",
    "    if eta_var: \n",
    "        n_dist_train, n_dist = get_gaussian_dist_from_params(params, run, n_gaussians=3, sigma=1)\n",
    "        l_a_sol = np.sqrt((n_dist_train - params['l_0'][run]/2)**2 + (params['l_0'][run]/2)**2)\n",
    "        l_a_sim = np.sqrt((n_dist - params_true['l_0']/2)**2 + (params_true['l_0']/2)**2)\n",
    "\n",
    "    l_a_effective_sol = l_a_sol / (1 + params['c_a'][run] * T_sol)\n",
    "    l_a_effective_sim = l_a_sim / (1 + params_true['c_a'] * T_sim)\n",
    "    frame_indices = np.linspace(0, T_sol.shape[1] - 1, 3, dtype=int)\n",
    "    vmax = np.max([l_a_effective_sim[run], l_a_effective_sol[run]])\n",
    "    vmin = np.min([l_a_effective_sim[run], l_a_effective_sol[run]])\n",
    "    fig, axs = plt.subplots(3, 3, figsize=(12, 12))\n",
    "    sampling_rate = 15*0.08\n",
    "    print(f\"vmin: {vmin}, vmax: {vmax}\")\n",
    "    print(f\"l_a_sim: {l_a_sim}, l_a_sol: {l_a_sol}\")\n",
    "    for i, frame in enumerate(frame_indices):\n",
    "        im0 = axs[i, 0].imshow(l_a_effective_sim[run, frame], cmap='coolwarm_r', vmin=vmin, vmax=vmax)\n",
    "        im1 = axs[i, 1].imshow(l_a_effective_sol[run, frame], cmap='coolwarm_r', vmin=vmin, vmax=vmax)\n",
    "        im2 = axs[i, 2].imshow(np.abs(l_a_effective_sol[run, frame] - l_a_effective_sim[run, frame]), cmap='coolwarm', vmin=vmin, vmax=vmax)\n",
    "\n",
    "        axs[i, 0].set_ylabel(f\"t= {frame*sampling_rate}\")\n",
    "        for j in range(3):\n",
    "            axs[i, j].tick_params(left=False, bottom=False, labelleft=False, labelbottom=False)\n",
    "            axs[i, j].spines[:].set_visible(False)  # Hides spines instead of full axis\n",
    "\n",
    "    axs[0, 0].set_title(f\"$l_a$-eff ground truth\")\n",
    "    axs[0, 1].set_title(f\"$l_a$-eff reconstruction\")\n",
    "    axs[0, 2].set_title(\"Error\")\n",
    "    cbar_ax = fig.add_axes([0.2, 0.05, 0.6, 0.02])\n",
    "    fig.colorbar(im0, cax=cbar_ax, orientation='horizontal')\n",
    "    plt.tight_layout(rect=[0, 0.08, 1, 0.97])\n",
    "    if save_data:\n",
    "        plt.savefig(file_path_out + 'T_error_heatmap.png')\n",
    "        plt.close(fig)\n",
    "\n",
    "def plot_u_error(file_path_in, run, file_path_out, mode='AP_AP', save_data=True):\n",
    "    u_sol, u_sim, _, _, _, _, _, _, _, _, _ = load_stat_data(file_path_in, mode)\n",
    "    frame_indices = np.linspace(0, u_sol.shape[1] - 1, 3, dtype=int)\n",
    "    fig, axs = plt.subplots(3, 3, figsize=(12, 12))\n",
    "    sampling_rate = 15*0.08\n",
    "    for i, frame in enumerate(frame_indices):\n",
    "        im0 = axs[i, 0].imshow(u_sim[run, frame], cmap='coolwarm', vmin=0, vmax=1)\n",
    "        im1 = axs[i, 1].imshow(u_sol[run, frame], cmap='coolwarm', vmin=0, vmax=1)\n",
    "        im2 = axs[i, 2].imshow(np.abs(u_sol[run, frame] - u_sim[run, frame]), cmap='coolwarm', vmin=0, vmax=1)\n",
    "\n",
    "        axs[i, 0].set_ylabel(f\"t= {frame*sampling_rate}\")\n",
    "        for j in range(3):\n",
    "            axs[i, j].tick_params(left=False, bottom=False, labelleft=False, labelbottom=False)\n",
    "            axs[i, j].spines[:].set_visible(False)  # Hides spines instead of full axis\n",
    "\n",
    "    axs[0, 0].set_title(\"u ground truth\")\n",
    "    axs[0, 1].set_title(\"u reconstruction\")\n",
    "    axs[0, 2].set_title(\"Error\")\n",
    "    cbar_ax = fig.add_axes([0.2, 0.05, 0.6, 0.02])\n",
    "    fig.colorbar(im2, cax=cbar_ax, orientation='horizontal')\n",
    "    plt.tight_layout(rect=[0, 0.08, 1, 0.97])\n",
    "    if save_data:\n",
    "        plt.savefig(file_path_out + 'u_err_heatmap.png')\n",
    "        plt.close(fig)\n",
    "\n",
    "def plot_dA_error(file_path_in, run, file_path_out, mode='chaos', save_data=True):\n",
    "    _, _, _, _, _, _, x_sol, x_sim, _, _, _ = load_stat_data(file_path_in, mode='AP_AP')\n",
    "    pad = 10\n",
    "    dA_sol = compute_dA(x_sim[run], 1)[:, pad:-pad, pad:-pad]\n",
    "    dA_sim = compute_dA(x_sol[run], 1)[:, pad:-pad, pad:-pad]\n",
    "    frame_indices = np.linspace(0, dA_sol.shape[0] - 1, 3, dtype=int)\n",
    "    print(f\"frame_indices: {frame_indices}\")\n",
    "    vmin = -0.2\n",
    "    vmax = 0.2\n",
    "    sampling_rate = 15*0.08\n",
    "    if mode == 'scroll':\n",
    "        vmin,vmax= np.min(dA_sol), np.max(dA_sol)\n",
    "\n",
    "    fig, axs = plt.subplots(3, 3, figsize=(12, 12))\n",
    "    for i, frame in enumerate(frame_indices):\n",
    "        im0 = axs[i, 0].imshow(dA_sim[frame], cmap='coolwarm', vmin=vmin, vmax=vmax)\n",
    "        im1 = axs[i, 1].imshow(dA_sol[frame], cmap='coolwarm', vmin=vmin, vmax=vmax)\n",
    "        im2 = axs[i, 2].imshow((dA_sol[frame] - dA_sim[frame])*10, cmap='coolwarm', vmin=vmin, vmax=vmax)\n",
    "\n",
    "        axs[i, 0].set_ylabel(f\"t= {frame*sampling_rate}\")\n",
    "        for j in range(3):\n",
    "            axs[i, j].tick_params(left=False, bottom=False, labelleft=False, labelbottom=False)\n",
    "            axs[i, j].spines[:].set_visible(False)  # Hides spines instead of full axis\n",
    "\n",
    "    axs[0, 0].set_title(\"dA ground truth\")\n",
    "    axs[0, 1].set_title(\"dA reconstruction\")\n",
    "    axs[0, 2].set_title(\"Error *10\")\n",
    "    cbar_ax = fig.add_axes([0.2, 0.05, 0.6, 0.02])\n",
    "    fig.colorbar(im0, cax=cbar_ax, orientation='horizontal')\n",
    "    # plt.tight_layout(rect=[0, 0.08, 1, 0.97])\n",
    "    if save_data:\n",
    "        plt.savefig(file_path_out + 'dA_err_heatmap.png')\n",
    "        plt.close(fig)\n",
    "\n",
    "def plot_u_mse_over_time(file_path_in, file_path_out, save_data=True):\n",
    "    u_sol, u_sim, *_ = load_stat_data(file_path_in, mode='AP_AP')\n",
    "    mean_err_over_time = np.mean((u_sol - u_sim) ** 2, axis=(2, 3)) / np.mean(u_sol ** 2, axis=(2, 3))\n",
    "    time = np.linspace(0, mean_err_over_time.shape[1], mean_err_over_time.shape[1])\n",
    "    plt.figure(figsize=(8, 5))\n",
    "    max_run = 40\n",
    "    if mean_err_over_time.shape[0] > max_run:\n",
    "        mean_err_over_time = mean_err_over_time[:max_run]\n",
    "    for run in range(mean_err_over_time.shape[0]):\n",
    "        plt.plot(time, mean_err_over_time[run], alpha=0.7)\n",
    "    plt.xlabel('Time in a.u.')\n",
    "    plt.ylabel(r'MSE($u$)/Mean($u_{ground truth}$)')\n",
    "    # plt.title('MSE of u Variable')\n",
    "    plt.grid(True, linestyle='--', alpha=0.6)\n",
    "    plt.yscale('log')\n",
    "    plt.tight_layout()\n",
    "    if save_data:\n",
    "        plt.savefig(file_path_out + 'u_mse_over_time.png')\n",
    "        plt.close()\n",
    "\n",
    "def plot_loss_vs_param_error_multi_subplots(losses, params, params_true, selected_key_groups, param_labels, file_path_out, error_metric='rel', save_data=True):\n",
    "    n_runs = len(losses)\n",
    "    n_groups = len(selected_key_groups)\n",
    "    n_cols = min(n_groups, 3)\n",
    "    n_rows = math.ceil(n_groups / n_cols)\n",
    "\n",
    "    fig, axes = plt.subplots(n_rows, n_cols, figsize=(6 * n_cols, 6 * n_rows), sharey=True)\n",
    "    axes = np.array(axes).reshape(-1)\n",
    "\n",
    "    label_group_names = []\n",
    "    for idx, param_keys in enumerate(selected_key_groups):\n",
    "        ax = axes[idx]\n",
    "        loss_vals = [np.min(np.log(losses[run])) for run in range(n_runs)]\n",
    "\n",
    "        for key in param_keys:\n",
    "            param_errors = []\n",
    "            for run in range(n_runs):\n",
    "                if key == 'D':\n",
    "                    params[key][run] = params[key][run] / params['spacing'][run]**2\n",
    "                est, true = params[key][run], params_true[key]\n",
    "                err = ((est - true) / true) ** 2 if error_metric == 'rel' else (est - true) ** 2\n",
    "                param_errors.append(np.sqrt(err))\n",
    "            ax.scatter(loss_vals, param_errors, label=param_labels[key], alpha=0.8, edgecolor='k')\n",
    "\n",
    "        group_label = \"_\".join([key.replace(\" \", \"\") for key in param_keys])\n",
    "        label_group_names.append(group_label)\n",
    "\n",
    "        ax.set_xlabel(\"log(Min Loss)\")\n",
    "        if idx % n_cols == 0:\n",
    "            ax.set_ylabel(\"Parameter Error/True Value\")\n",
    "        ax.grid(True, linestyle='--', alpha=0.5)\n",
    "        ax.legend(loc='upper right')\n",
    "\n",
    "    for j in range(len(selected_key_groups), len(axes)):\n",
    "        axes[j].axis(\"off\")\n",
    "\n",
    "    plt.tight_layout(rect=[0, 0, 1, 0.95])\n",
    "\n",
    "    group_suffix = \"__\".join(label_group_names)\n",
    "    group_suffix = group_suffix[:150]\n",
    "    filename = f\"loss_vs_param_error_{error_metric}_{group_suffix}.png\"\n",
    "    full_path = os.path.join(file_path_out, filename)\n",
    "\n",
    "    if save_data:\n",
    "        plt.savefig(full_path)\n",
    "        plt.close()\n",
    "\n",
    "def plot_param_vs_param_multi_subplots(params, selected_key_groups, param_labels, file_path_out, params_true, save_data=True):\n",
    "    \"\"\"\n",
    "    Plots param vs. param across grouped parameters in subplots.\n",
    "\n",
    "    Parameters:\n",
    "    - params (dict): Dictionary mapping parameter keys to list of estimates (one per run).\n",
    "    - selected_key_groups (list of list of str): Each group is a list of keys for subplot grouping.\n",
    "    - param_labels (dict): Mapping from parameter key to label (for display).\n",
    "    - file_path_out (str): Output directory.=\n",
    "    - save_data (bool): Whether to save the figure as PNG.\n",
    "    \"\"\"\n",
    "    n_groups = len(selected_key_groups)\n",
    "    n_cols = min(n_groups, 3)\n",
    "    n_rows = math.ceil(n_groups / n_cols)\n",
    "\n",
    "    fig, axes = plt.subplots(n_rows, n_cols, figsize=(6 * n_cols, 6 * n_rows), sharex=True, sharey=True)\n",
    "    axes = np.array(axes).reshape(-1)\n",
    "\n",
    "    label_group_names = []\n",
    "\n",
    "    for idx, param_keys in enumerate(selected_key_groups):\n",
    "        ax = axes[idx]\n",
    "        x_key = param_keys[0]\n",
    "        y_key = param_keys[1]\n",
    "        if x_key == 'D':\n",
    "            params[x_key] = params[x_key] / params['spacing']**2\n",
    "        if y_key == 'D':\n",
    "            params[y_key] = params[y_key] / params['spacing']**2\n",
    "        x_vals = np.array(params[x_key]/params_true[x_key])\n",
    "        y_vals = np.array(params[y_key]/params_true[y_key])\n",
    "\n",
    "        group_label = \"_\".join([key.replace(\" \", \"\") for key in param_keys])\n",
    "        label_group_names.append(group_label)\n",
    "\n",
    "        ax.scatter(x_vals, y_vals, color='tab:blue', edgecolors='k', alpha=0.8)\n",
    "        # ax.set_title(\", \".join([param_labels.get(k, k) for k in param_keys]))\n",
    "        ax.set_xlabel(param_labels.get(x_key, x_key))\n",
    "        ax.set_ylabel(param_labels.get(y_key, y_key))\n",
    "        ax.grid(True, linestyle='--', alpha=0.5)\n",
    "\n",
    "    # Hide unused subplots\n",
    "    for j in range(len(selected_key_groups), len(axes)):\n",
    "        axes[j].axis(\"off\")\n",
    "\n",
    "    plt.tight_layout(rect=[0, 0, 1, 0.95])\n",
    "\n",
    "    group_suffix = \"__\".join(label_group_names)\n",
    "    group_suffix = group_suffix[:150]\n",
    "    filename = f\"{x_key}_vs_{y_key}.png\"\n",
    "    full_path = os.path.join(file_path_out, filename)\n",
    "\n",
    "    if save_data:\n",
    "        plt.savefig(full_path)\n",
    "        plt.close()\n",
    "    else:\n",
    "        plt.show()\n",
    "\n",
    "def plot_param_history(params_history, param_list, param_labels, params_true, file_path_out, save_data=True):\n",
    "    \"\"\"\n",
    "    Plots the evolution of selected parameters over training epochs.\n",
    "\n",
    "    Parameters:\n",
    "    - params_history (dict): Dictionary mapping param names to arrays of shape (n_runs, n_epochs).\n",
    "    - param_list (list of str): Keys of the parameters to plot.\n",
    "    - param_labels (dict): Mapping from param keys to display labels.\n",
    "    - file_path_out (str): Directory to save plots.\n",
    "    - save_data (bool): Whether to save the plots.\n",
    "    \"\"\"\n",
    "\n",
    "    n_params = len(param_list)\n",
    "    n_cols = min(n_params, 3)\n",
    "    n_rows = int(np.ceil(n_params / n_cols))\n",
    "\n",
    "    fig, axes = plt.subplots(n_rows, n_cols, figsize=(6 * n_cols, 4 * n_rows), squeeze=False)\n",
    "    axes = axes.flatten()\n",
    "\n",
    "    for i, param_key in enumerate(param_list):\n",
    "        if param_key not in params_history:\n",
    "            continue\n",
    "        ax = axes[i]\n",
    "        data = np.array(params_history[param_key])  # Shape: (n_runs, n_epochs)\n",
    "        if param_key == 'D':\n",
    "            data = (params_history['D'] / params_history['spacing']**2)\n",
    "        max_run = 40 \n",
    "        if data.shape[0] > max_run:\n",
    "            data = data[:max_run]\n",
    "        for run in range(data.shape[0]):\n",
    "            ax.plot(data[run] / params_true[param_key], alpha=0.7)\n",
    "        ax.set_title(param_labels.get(param_key, param_key))\n",
    "        ax.set_xlabel('Epoch/10')\n",
    "        ax.set_ylim(0, 2)\n",
    "\n",
    "        \n",
    "        # Set y-axis label only for first column of each row\n",
    "        if i % n_cols == 0:\n",
    "            ax.set_ylabel('Value / True Value')\n",
    "        else:\n",
    "            ax.set_ylabel('')\n",
    "            ax.tick_params(axis='y', labelleft=False)\n",
    "\n",
    "        ax.grid(True, linestyle='--', alpha=0.5)\n",
    "\n",
    "    for j in range(n_params, len(axes)):\n",
    "        axes[j].axis('off')\n",
    "        axes[j].set_ylabel('')\n",
    "\n",
    "    plt.tight_layout()\n",
    "    if save_data:\n",
    "        os.makedirs(file_path_out, exist_ok=True)\n",
    "        plt.savefig(os.path.join(file_path_out, f'param_history_plot{param_list[0]}.png'))\n",
    "        plt.close()\n",
    "    else:\n",
    "        plt.show()\n",
    "\n",
    "def plot_angle_field(eta_dist, file_path_out=None, scale=20, step=5, save_data=False):\n",
    "    \"\"\"\n",
    "    Plot a quiver plot showing orientation of angles in eta_dist.\n",
    "\n",
    "    Parameters:\n",
    "    - eta_dist: 2D numpy array of angles in radians (shape: [100, 100])\n",
    "    - file_path_out: Path to save the figure (include filename, e.g. \"out.png\")\n",
    "    - scale: scale for quiver arrow length (adjust for visualization)\n",
    "    - step: stride to reduce number of arrows for clarity\n",
    "    - save_data: whether to save the figure to file_path_out\n",
    "    \"\"\"\n",
    "    eta_dist = -np.arctan(np.abs(eta_dist-1/2)*2)\n",
    "    ny, nx = eta_dist.shape\n",
    "    Y, X = np.mgrid[0:ny, 0:nx]\n",
    "\n",
    "    U = np.cos(eta_dist)\n",
    "    V = np.sin(eta_dist)\n",
    "\n",
    "    plt.figure(figsize=(8, 8))\n",
    "    plt.quiver(X[::step, ::step], Y[::step, ::step],\n",
    "               U[::step, ::step], V[::step, ::step],\n",
    "               pivot='middle', color='black', scale=scale)\n",
    "    plt.gca().invert_yaxis()\n",
    "    plt.axis('equal')\n",
    "    # plt.title('Orientation field')\n",
    "    plt.tight_layout()\n",
    "\n",
    "    if save_data and file_path_out:\n",
    "        plt.savefig(file_path_out+'eta_angle_field.png')\n",
    "        plt.close()\n",
    "    else:\n",
    "        plt.show()"
   ]
  },
  {
   "cell_type": "code",
   "execution_count": null,
   "metadata": {},
   "outputs": [],
   "source": [
    "keys =['k_T','k_ij','k_ij_pad','k_j','k_a','k_a_pad','c_a','m','c_damp','n_0','l_0','spacing','D','a','k','mu_1','mu_2','epsilon_0','spacing']\n",
    "N,size,params_true = read_config(['k_T','k_ij','k_ij_pad','k_j','k_a','k_a_pad','c_a','m','c_damp','n_0','l_0','spacing','D','a','k','mu_1','mu_2','epsilon_0','spacing'],mode = 'chaos')\n",
    "params_true = dict(zip(keys,params_true))\n",
    "params_true|{'D/spacing2': params_true['D']/params_true['spacing']**2}\n",
    "keys =['k_T','k_ij','k_ij_pad','k_j','k_a','k_a_pad','c_a','m','c_damp','n_0','l_0','spacing','D','a','k','mu_1','mu_2','epsilon_0','spacing']\n",
    "N_scroll,size_scroll,params_true_scroll = read_config(['k_T','k_ij','k_ij_pad','k_j','k_a','k_a_pad','c_a','m','c_damp','n_0','l_0','spacing','D','a','k','mu_1','mu_2','epsilon_0','spacing'],mode = 'scroll')\n",
    "params_true_scroll = dict(zip(keys,params_true_scroll))\n",
    "param_labels = {\n",
    "    'k_ij': r'$k_{\\mathrm{struct}}/m$',\n",
    "    'k_a': r'$k_{\\mathrm{act}}/m$',\n",
    "    'k_j': r'$k_{\\mathrm{pas}}/m$',\n",
    "    'l_0': r'$l_0$',\n",
    "    'c_damp': r'$c_{\\mathrm{damp}}/m$',\n",
    "    'c_a': r'$c_{a}$',\n",
    "    'k_T': r'$k_{T}$',\n",
    "    'n_0': r'$\\eta$',\n",
    "    'D': r'$D/\\Delta x^2$',\n",
    "    'D1': r'$D_1$',\n",
    "    'D2': r'$D_2$',\n",
    "    'a': r'$a$',\n",
    "    'k': r'$k$',\n",
    "    'mu_1': r'$\\mu_1$',\n",
    "    'mu_2': r'$\\mu_2$',\n",
    "    'epsilon_0': r'$\\epsilon_0$',\n",
    "    'spacing': r'$\\Delta x$',\n",
    "    'Amp00': r'$A_{00}$',\n",
    "    'Amp01': r'$A_{01}$',\n",
    "    'Amp02': r'$A_{02}$',\n",
    "    'Amp10': r'$A_{10}$',\n",
    "    'Amp11': r'$A_{11}$',\n",
    "    'Amp12': r'$A_{12}$',\n",
    "    'Amp20': r'$A_{20}$',\n",
    "    'Amp21': r'$A_{21}$',   \n",
    "    'Amp22': r'$A_{22}$',\n",
    "}\n",
    "\n",
    "params_true['D1'] = params_true['D'] *1/3\n",
    "params_true['D2'] = params_true['D'] \n",
    "mech_keys = ['k_ij','k_a','k_j','l_0','c_damp','c_a','k_T','n_0']\n",
    "electric_keys = ['D','a','k','mu_1','mu_2','epsilon_0']\n",
    "electric_keys_2diff = ['D1','D2','a','k','mu_1','mu_2','epsilon_0','spacing']\n",
    "\n",
    "gaussian_keys = [f'Amp{i}{j}' for i in range(3) for j in range(3)]\n",
    "for key in gaussian_keys:\n",
    "    params_true[key] = 1 "
   ]
  },
  {
   "cell_type": "markdown",
   "metadata": {},
   "source": [
    "# Isotropic Fiber Orientation"
   ]
  },
  {
   "cell_type": "code",
   "execution_count": 209,
   "metadata": {},
   "outputs": [
    {
     "name": "stdout",
     "output_type": "stream",
     "text": [
      "Available runs: 57\n",
      "Normalized Mean Squared Errors:\n",
      "u: 0.024706068651808168\n",
      "v: 0.18471642040276873\n",
      "T: 0.12067957025638991\n"
     ]
    }
   ],
   "source": [
    "file_path_APAP_eta05_in = '../data/SpringMassModel/FullDomain/FitAllParams/Stats/FullDomain_len15_lr15_tol099_keepdataTrue_keepparamsTrue_etavarFalse_modechaos_l.h5'\n",
    "mode = 'AP_AP'\n",
    "file_path_APAP_eta05_out = '../Presentation/images/results/IsotropicFiberOrientationChaos/'\n",
    "u_sol, u_sim, v_sol, v_sim, T_sol, T_sim, x_sol, x_sim,losses, params, param_history = load_stat_data(file_path_APAP_eta05_in, mode)\n",
    "print(\"Normalized Mean Squared Errors:\")\n",
    "print(\"u:\", np.mean((u_sol - u_sim)**2)/np.mean(u_sol**2))\n",
    "print(\"v:\", np.mean((v_sol - v_sim)**2)/np.mean(v_sol**2))\n",
    "print(\"T:\", np.mean((T_sol - T_sim)**2)/np.mean(T_sol**2))"
   ]
  },
  {
   "cell_type": "code",
   "execution_count": 210,
   "metadata": {},
   "outputs": [],
   "source": [
    "plot_param_history(param_history, ['k_ij','k_a','c_damp','l_0','n_0'], param_labels, params_true,file_path_APAP_eta05_out, save_data=True)\n",
    "plot_param_history(param_history, electric_keys, param_labels, params_true,file_path_APAP_eta05_out, save_data=True)"
   ]
  },
  {
   "cell_type": "code",
   "execution_count": 211,
   "metadata": {},
   "outputs": [],
   "source": [
    "plot_param_vs_param_multi_subplots(params, selected_key_groups=[['k_ij','k_a'],['k_a','c_damp'],['k_ij','c_damp']], param_labels=param_labels, file_path_out=file_path_APAP_eta05_out,\n",
    "                                params_true=params_true, save_data=True)\n",
    "plot_loss_curves(losses, file_path_APAP_eta05_out)"
   ]
  },
  {
   "cell_type": "code",
   "execution_count": 212,
   "metadata": {},
   "outputs": [
    {
     "name": "stdout",
     "output_type": "stream",
     "text": [
      "Available runs: 57\n",
      "frame_indices: [ 0  7 14]\n",
      "Available runs: 57\n"
     ]
    },
    {
     "name": "stderr",
     "output_type": "stream",
     "text": [
      "/tmp/ipykernel_178468/3194059580.py:294: UserWarning: This figure includes Axes that are not compatible with tight_layout, so results might be incorrect.\n",
      "  plt.tight_layout(rect=[0, 0.08, 1, 0.97])\n"
     ]
    },
    {
     "name": "stdout",
     "output_type": "stream",
     "text": [
      "Available runs: 57\n",
      "vmin: 0.013418054208159447, vmax: 0.4999998292962339\n",
      "l_a_sim: 0.5, l_a_sol: 0.49988794326782227\n"
     ]
    },
    {
     "name": "stderr",
     "output_type": "stream",
     "text": [
      "/tmp/ipykernel_178468/3194059580.py:269: UserWarning: This figure includes Axes that are not compatible with tight_layout, so results might be incorrect.\n",
      "  plt.tight_layout(rect=[0, 0.08, 1, 0.97])\n"
     ]
    }
   ],
   "source": [
    "run=3\n",
    "plot_dA_error(file_path_APAP_eta05_in, run, file_path_APAP_eta05_out)\n",
    "plot_u_error(file_path_APAP_eta05_in, run, file_path_APAP_eta05_out)\n",
    "plot_T_error(file_path_APAP_eta05_in, run, params, params_true, file_path_APAP_eta05_out)\n"
   ]
  },
  {
   "cell_type": "code",
   "execution_count": 213,
   "metadata": {},
   "outputs": [
    {
     "name": "stdout",
     "output_type": "stream",
     "text": [
      "Available runs: 57\n",
      "Available runs: 57\n"
     ]
    },
    {
     "name": "stderr",
     "output_type": "stream",
     "text": [
      "/tmp/ipykernel_178468/3194059580.py:219: UserWarning: set_ticklabels() should only be used with a fixed number of ticks, i.e. after set_ticks() or using a FixedLocator.\n",
      "  ax.set_xticklabels(xticklabels)\n"
     ]
    },
    {
     "name": "stdout",
     "output_type": "stream",
     "text": [
      "Available runs: 57\n"
     ]
    },
    {
     "name": "stderr",
     "output_type": "stream",
     "text": [
      "/tmp/ipykernel_178468/3194059580.py:219: UserWarning: set_ticklabels() should only be used with a fixed number of ticks, i.e. after set_ticks() or using a FixedLocator.\n",
      "  ax.set_xticklabels(xticklabels)\n"
     ]
    }
   ],
   "source": [
    "plot_u_mse_over_time(file_path_APAP_eta05_in, file_path_APAP_eta05_out)\n",
    "violin_plot(file_path_APAP_eta05_in, mode=\"AP_AP\", selected_keys=mech_keys,params_true=params_true, param_labels=param_labels,file_path_out= file_path_APAP_eta05_out, title = 'MechanicParameters')\n",
    "violin_plot(file_path_APAP_eta05_in, mode=\"AP_AP\", selected_keys=electric_keys,params_true=params_true, param_labels=param_labels, file_path_out=file_path_APAP_eta05_out,title  = 'ElectricParameters')"
   ]
  },
  {
   "cell_type": "code",
   "execution_count": 214,
   "metadata": {},
   "outputs": [],
   "source": [
    "plot_loss_vs_param_error_multi_subplots(\n",
    "    losses,\n",
    "    params,\n",
    "    params_true,\n",
    "    selected_key_groups=[\n",
    "        ['k_ij', 'k_a'],\n",
    "        ['k_j']\n",
    "    ],\n",
    "    param_labels= param_labels,\n",
    "    file_path_out= file_path_APAP_eta05_out\n",
    ")\n",
    "plot_loss_vs_param_error_multi_subplots(\n",
    "    losses,\n",
    "    params,\n",
    "    params_true,\n",
    "    selected_key_groups=[\n",
    "        ['k_T', 'c_a'],electric_keys\n",
    "    ],\n",
    "    param_labels= param_labels,\n",
    "    file_path_out= file_path_APAP_eta05_out\n",
    ")\n"
   ]
  },
  {
   "cell_type": "markdown",
   "metadata": {},
   "source": [
    "# non-Isotropic Fiber Orientation"
   ]
  },
  {
   "cell_type": "code",
   "execution_count": 215,
   "metadata": {},
   "outputs": [
    {
     "name": "stdout",
     "output_type": "stream",
     "text": [
      "Available runs: 39\n",
      "(39, 15, 100, 100)\n",
      "Mean Squared Errors:\n",
      "u: 0.14366247507047\n",
      "v: 0.3266824810851931\n",
      "T: 0.3911207099349939\n"
     ]
    }
   ],
   "source": [
    "file_path_APAP_etavar_in = '../data/SpringMassModel/FullDomain/FitAllParams/Stats/FullDomain_len15_lr15_tol099_keepdataTrue_keepparamsTrue_etavarTrue_modechaos.h5'\n",
    "file_path_APAP_etavar_out = '../Presentation/images/results/NonIsotropicFiberOrientationChaos/'\n",
    "n_dist = np.load('../data/SpringMassModel/FiberOrientation/fiber_orientation.npy')\n",
    "\n",
    "mode = 'AP_AP'\n",
    "u_sol, u_sim, v_sol, v_sim, T_sol, T_sim, x_sol, x_sim,losses, params, param_history= load_stat_data(file_path_APAP_etavar_in, mode)\n",
    "print(u_sol.shape)\n",
    "print(\"Mean Squared Errors:\")\n",
    "print(\"u:\", np.mean((u_sol - u_sim)**2)/np.mean(u_sol**2))\n",
    "print(\"v:\", np.mean((v_sol - v_sim)**2)/np.mean(v_sol**2))\n",
    "print(\"T:\", np.mean((T_sol - T_sim)**2)/np.mean(T_sol**2))"
   ]
  },
  {
   "cell_type": "code",
   "execution_count": 216,
   "metadata": {},
   "outputs": [],
   "source": [
    "plot_angle_field(n_dist,file_path_out=file_path_APAP_etavar_out, scale=20, step=5,save_data=True)"
   ]
  },
  {
   "cell_type": "code",
   "execution_count": 217,
   "metadata": {},
   "outputs": [],
   "source": [
    "plot_param_vs_param_multi_subplots(params, selected_key_groups=[['k_ij','k_a'],['k_a','c_damp'],['k_ij','c_damp']], param_labels=param_labels, file_path_out=file_path_APAP_etavar_out,\n",
    "                                params_true=params_true, save_data=True)"
   ]
  },
  {
   "cell_type": "code",
   "execution_count": 218,
   "metadata": {},
   "outputs": [],
   "source": [
    "plot_param_history(param_history, ['k_ij','k_a','c_damp','l_0'], param_labels, params_true,file_path_APAP_etavar_out, save_data=True)\n",
    "plot_param_history(param_history, electric_keys, param_labels, params_true,file_path_APAP_etavar_out, save_data=True)"
   ]
  },
  {
   "cell_type": "code",
   "execution_count": 219,
   "metadata": {},
   "outputs": [
    {
     "name": "stdout",
     "output_type": "stream",
     "text": [
      "Available runs: 39\n",
      "vmin: 0.01779078038467106, vmax: 0.504631519317627\n",
      "l_a_sim: 0.5, l_a_sol: 0.504631519317627\n"
     ]
    },
    {
     "name": "stderr",
     "output_type": "stream",
     "text": [
      "/tmp/ipykernel_178468/3194059580.py:269: UserWarning: This figure includes Axes that are not compatible with tight_layout, so results might be incorrect.\n",
      "  plt.tight_layout(rect=[0, 0.08, 1, 0.97])\n"
     ]
    },
    {
     "name": "stdout",
     "output_type": "stream",
     "text": [
      "Available runs: 39\n"
     ]
    },
    {
     "name": "stderr",
     "output_type": "stream",
     "text": [
      "/tmp/ipykernel_178468/3194059580.py:294: UserWarning: This figure includes Axes that are not compatible with tight_layout, so results might be incorrect.\n",
      "  plt.tight_layout(rect=[0, 0.08, 1, 0.97])\n"
     ]
    },
    {
     "name": "stdout",
     "output_type": "stream",
     "text": [
      "Available runs: 39\n",
      "frame_indices: [ 0  7 14]\n"
     ]
    }
   ],
   "source": [
    "plot_T_error(file_path_APAP_etavar_in, run=4, params=params, params_true=params_true,file_path_out=file_path_APAP_etavar_out, mode='AP_AP')\n",
    "plot_u_error(file_path_APAP_etavar_in, run=4,file_path_out=file_path_APAP_etavar_out, mode='AP_AP')\n",
    "plot_dA_error(file_path_APAP_etavar_in, run, file_path_APAP_etavar_out)"
   ]
  },
  {
   "cell_type": "code",
   "execution_count": 220,
   "metadata": {},
   "outputs": [],
   "source": [
    "plot_loss_curves(losses,file_path_out=file_path_APAP_etavar_out)"
   ]
  },
  {
   "cell_type": "code",
   "execution_count": 221,
   "metadata": {},
   "outputs": [
    {
     "name": "stdout",
     "output_type": "stream",
     "text": [
      "Available runs: 39\n"
     ]
    },
    {
     "name": "stderr",
     "output_type": "stream",
     "text": [
      "/tmp/ipykernel_178468/3194059580.py:219: UserWarning: set_ticklabels() should only be used with a fixed number of ticks, i.e. after set_ticks() or using a FixedLocator.\n",
      "  ax.set_xticklabels(xticklabels)\n"
     ]
    },
    {
     "name": "stdout",
     "output_type": "stream",
     "text": [
      "Available runs: 39\n"
     ]
    },
    {
     "name": "stderr",
     "output_type": "stream",
     "text": [
      "/tmp/ipykernel_178468/3194059580.py:219: UserWarning: set_ticklabels() should only be used with a fixed number of ticks, i.e. after set_ticks() or using a FixedLocator.\n",
      "  ax.set_xticklabels(xticklabels)\n"
     ]
    },
    {
     "name": "stdout",
     "output_type": "stream",
     "text": [
      "Available runs: 39\n"
     ]
    },
    {
     "name": "stderr",
     "output_type": "stream",
     "text": [
      "/tmp/ipykernel_178468/3194059580.py:219: UserWarning: set_ticklabels() should only be used with a fixed number of ticks, i.e. after set_ticks() or using a FixedLocator.\n",
      "  ax.set_xticklabels(xticklabels)\n"
     ]
    }
   ],
   "source": [
    "# plot_u_mse_over_time(file_path_APAP_etavar)\n",
    "new_mech_keys = [k for k in mech_keys if k != 'n_0']\n",
    "violin_plot(file_path_APAP_etavar_in, mode=\"AP_AP\", selected_keys=new_mech_keys,params_true=params_true,param_labels=param_labels,file_path_out=file_path_APAP_etavar_out, title = 'MechanicParameters')\n",
    "violin_plot(file_path_APAP_etavar_in, mode=\"AP_AP\", selected_keys=electric_keys,params_true=params_true,param_labels=param_labels,file_path_out=file_path_APAP_etavar_out, title  = 'ElectricParameters')\n",
    "violin_plot(file_path_APAP_etavar_in, mode=\"AP_AP\", selected_keys=gaussian_keys,params_true=params_true,param_labels=param_labels,file_path_out=file_path_APAP_etavar_out, title  = 'GaussianAmplitudes')"
   ]
  },
  {
   "cell_type": "code",
   "execution_count": 222,
   "metadata": {},
   "outputs": [],
   "source": [
    "plot_gaussian_dist(params, run, file_path_out=file_path_APAP_etavar_out, save_data=True)"
   ]
  },
  {
   "cell_type": "markdown",
   "metadata": {},
   "source": [
    "# 2 Diffusion directions Isotropic"
   ]
  },
  {
   "cell_type": "code",
   "execution_count": 223,
   "metadata": {},
   "outputs": [],
   "source": [
    "# file_path_APAP_2Diff_in = '../data/SpringMassModel/FullDomain/FastSlowDiffIsotropic/Stats/FullDomain_len15_lr15_tol099_keepdataTrue_keepparamsTrue_etavarFalse_modechaos.h5'\n",
    "# file_path_APAP_2Diff_out = '../Presentation/images/results/D1D2IsotropicChaos/'\n",
    "# mode = 'AP_AP'\n",
    "# u_sol, u_sim, v_sol, v_sim, T_sol, T_sim, x_sol, x_sim, losses , params, param_history= load_stat_data(file_path_APAP_2Diff_in, mode)\n",
    "# print(\"Normalized Mean Squared Errors:\")\n",
    "# print(\"u:\", np.mean((u_sol - u_sim)**2)/np.mean(u_sol**2))\n",
    "# print(\"v:\", np.mean((v_sol - v_sim)**2)/np.mean(v_sol**2))\n",
    "# print(\"T:\", np.mean((T_sol - T_sim)**2)/np.mean(T_sol**2))\n"
   ]
  },
  {
   "cell_type": "code",
   "execution_count": 224,
   "metadata": {},
   "outputs": [],
   "source": [
    "# run = 5\n",
    "# plot_u_error(file_path_APAP_2Diff_in, run, file_path_out=file_path_APAP_2Diff_out)\n",
    "# plot_T_error(file_path_APAP_2Diff_in, run, params, params_true, file_path_out=file_path_APAP_2Diff_out)\n",
    "# plot_loss_curves(losses, file_path_out=file_path_APAP_2Diff_out)"
   ]
  },
  {
   "cell_type": "code",
   "execution_count": 225,
   "metadata": {},
   "outputs": [],
   "source": [
    "# plot_u_mse_over_time(file_path_APAP_2Diff_in, file_path_APAP_2Diff_out)\n",
    "# violin_plot(file_path_APAP_2Diff_in, mode=\"AP_AP\", selected_keys=mech_keys,params_true=params_true,param_labels=param_labels, file_path_out=file_path_APAP_2Diff_out,title = 'MechanicParameters')\n",
    "# violin_plot(file_path_APAP_2Diff_in, mode=\"AP_AP\", selected_keys=electric_keys_2diff,params_true=params_true,param_labels=param_labels,file_path_out=file_path_APAP_2Diff_out ,title  = 'ElectricParameters')"
   ]
  },
  {
   "cell_type": "markdown",
   "metadata": {},
   "source": [
    "# Single Spiral wave"
   ]
  },
  {
   "cell_type": "code",
   "execution_count": null,
   "metadata": {},
   "outputs": [],
   "source": [
    "file_path_APAP_spiral_in = '../data/SpringMassModel/FullDomain/Scroll/Stats/FullDomain_len15_30_lr15_tol099_keepdataTrue_keepparamsTrue_etavarFalse_modescroll.h5'\n",
    "file_path_APAP_spiral_out = '../Presentation/images/results/Spiral/'"
   ]
  },
  {
   "cell_type": "code",
   "execution_count": null,
   "metadata": {},
   "outputs": [
    {
     "name": "stdout",
     "output_type": "stream",
     "text": [
      "Available runs: 14\n",
      "Normalized Mean Squared Errors:\n",
      "u: 0.0010846867207639046\n",
      "v: 0.0018710557640735349\n",
      "T: 0.07205028493893238\n"
     ]
    }
   ],
   "source": [
    "mode = 'AP_AP'\n",
    "u_sol, u_sim, v_sol, v_sim, T_sol, T_sim, x_sol, x_sim, losses, params, param_history = load_stat_data(file_path_APAP_spiral_in, mode)\n",
    "print(\"Normalized Mean Squared Errors:\")\n",
    "print(\"u:\", np.mean((u_sol - u_sim)**2)/np.mean(u_sol**2))\n",
    "print(\"v:\", np.mean((v_sol - v_sim)**2)/np.mean(v_sol**2))          \n",
    "print(\"T:\", np.mean((T_sol - T_sim)**2)/np.mean(T_sol**2))"
   ]
  },
  {
   "cell_type": "code",
   "execution_count": null,
   "metadata": {},
   "outputs": [],
   "source": [
    "plot_param_vs_param_multi_subplots(params, selected_key_groups=[['k_ij','k_a'],['k_a','c_damp'],['k_ij','c_damp']], param_labels=param_labels, file_path_out=file_path_APAP_spiral_out,\n",
    "                                params_true=params_true_scroll, save_data=True)\n",
    "plot_param_vs_param_multi_subplots(params, selected_key_groups=[['spacing','D']], param_labels=param_labels, file_path_out=file_path_APAP_spiral_out,\n",
    "                                params_true=params_true_scroll, save_data=True)\n"
   ]
  },
  {
   "cell_type": "code",
   "execution_count": null,
   "metadata": {},
   "outputs": [],
   "source": [
    "plot_param_history(param_history, ['k_ij','k_a','c_damp','l_0'], param_labels, params_true_scroll,file_path_APAP_spiral_out, save_data=True)\n",
    "plot_param_history(param_history, electric_keys, param_labels, params_true_scroll,file_path_APAP_spiral_out, save_data=True)"
   ]
  },
  {
   "cell_type": "code",
   "execution_count": null,
   "metadata": {},
   "outputs": [],
   "source": [
    "plot_loss_curves(losses,file_path_out=file_path_APAP_spiral_out, save_data=True)"
   ]
  },
  {
   "cell_type": "code",
   "execution_count": null,
   "metadata": {},
   "outputs": [
    {
     "name": "stdout",
     "output_type": "stream",
     "text": [
      "Available runs: 14\n",
      "frame_indices: [ 0 14 28]\n",
      "Available runs: 14\n"
     ]
    },
    {
     "name": "stderr",
     "output_type": "stream",
     "text": [
      "/tmp/ipykernel_178468/3194059580.py:294: UserWarning: This figure includes Axes that are not compatible with tight_layout, so results might be incorrect.\n",
      "  plt.tight_layout(rect=[0, 0.08, 1, 0.97])\n"
     ]
    },
    {
     "name": "stdout",
     "output_type": "stream",
     "text": [
      "Available runs: 14\n",
      "vmin: 0.019933083301683818, vmax: 0.5000268816947937\n",
      "l_a_sim: 0.5, l_a_sol: 0.5000268816947937\n"
     ]
    },
    {
     "name": "stderr",
     "output_type": "stream",
     "text": [
      "/tmp/ipykernel_178468/3194059580.py:269: UserWarning: This figure includes Axes that are not compatible with tight_layout, so results might be incorrect.\n",
      "  plt.tight_layout(rect=[0, 0.08, 1, 0.97])\n"
     ]
    }
   ],
   "source": [
    "run = 6\n",
    "plot_dA_error(file_path_APAP_spiral_in, run,file_path_out=file_path_APAP_spiral_out,mode='scroll',save_data=True)\n",
    "plot_u_error(file_path_APAP_spiral_in, run,file_path_out=file_path_APAP_spiral_out,save_data=True)\n",
    "plot_T_error(file_path_APAP_spiral_in, run,params,params_true_scroll,file_path_out=file_path_APAP_spiral_out,save_data=True)"
   ]
  },
  {
   "cell_type": "code",
   "execution_count": null,
   "metadata": {},
   "outputs": [
    {
     "name": "stdout",
     "output_type": "stream",
     "text": [
      "Available runs: 14\n",
      "Available runs: 14\n"
     ]
    },
    {
     "name": "stderr",
     "output_type": "stream",
     "text": [
      "/tmp/ipykernel_178468/3194059580.py:219: UserWarning: set_ticklabels() should only be used with a fixed number of ticks, i.e. after set_ticks() or using a FixedLocator.\n",
      "  ax.set_xticklabels(xticklabels)\n"
     ]
    },
    {
     "name": "stdout",
     "output_type": "stream",
     "text": [
      "Available runs: 14\n"
     ]
    },
    {
     "name": "stderr",
     "output_type": "stream",
     "text": [
      "/tmp/ipykernel_178468/3194059580.py:219: UserWarning: set_ticklabels() should only be used with a fixed number of ticks, i.e. after set_ticks() or using a FixedLocator.\n",
      "  ax.set_xticklabels(xticklabels)\n"
     ]
    }
   ],
   "source": [
    "plot_u_mse_over_time(file_path_APAP_spiral_in,file_path_APAP_spiral_out,save_data=True)\n",
    "violin_plot(file_path_APAP_spiral_in, mode=\"AP_AP\", selected_keys=mech_keys,params_true=params_true_scroll, param_labels = param_labels,file_path_out=file_path_APAP_spiral_out,title = 'MechanicParameters',save_data=True)\n",
    "violin_plot(file_path_APAP_spiral_in, mode=\"AP_AP\", selected_keys=electric_keys,params_true=params_true_scroll, param_labels = param_labels,file_path_out=file_path_APAP_spiral_out,title  = 'ElectricParameters',save_data=True)"
   ]
  },
  {
   "cell_type": "code",
   "execution_count": null,
   "metadata": {},
   "outputs": [
    {
     "data": {
      "image/png": "[encoded data removed]",
      "text/plain": [
       "<Figure size 1800x1200 with 6 Axes>"
      ]
     },
     "metadata": {},
     "output_type": "display_data"
    }
   ],
   "source": [
    "plot_loss_vs_param_error_multi_subplots(\n",
    "    losses,\n",
    "    params,\n",
    "    params_true_scroll,\n",
    "    selected_key_groups=[\n",
    "        ['D'],\n",
    "        ['k','a'],\n",
    "        ['mu_1','mu_2'],\n",
    "        ['epsilon_0'],\n",
    "        ['spacing']\n",
    "    ],\n",
    "    param_labels= param_labels,\n",
    "    file_path_out= file_path_APAP_spiral_out,save_data=False\n",
    ")\n"
   ]
  },
  {
   "cell_type": "code",
   "execution_count": null,
   "metadata": {},
   "outputs": [],
   "source": []
  }
 ],
 "metadata": {
  "kernelspec": {
   "display_name": ".myvenv",
   "language": "python",
   "name": "python3"
  },
  "language_info": {
   "codemirror_mode": {
    "name": "ipython",
    "version": 3
   },
   "file_extension": ".py",
   "mimetype": "text/x-python",
   "name": "python",
   "nbconvert_exporter": "python",
   "pygments_lexer": "ipython3",
   "version": "3.9.13"
  }
 },
 "nbformat": 4,
 "nbformat_minor": 2
}
