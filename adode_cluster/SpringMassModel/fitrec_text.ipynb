{
 "cells": [
  {
   "cell_type": "code",
   "execution_count": 7,
   "metadata": {},
   "outputs": [],
   "source": [
    "import jax.numpy as jnp\n",
    "from jax import jit \n",
    "from jax.flatten_util import ravel_pytree\n",
    "\n",
    "import numpy as np\n",
    "import scipy\n",
    "import matplotlib.pyplot as plt\n",
    "import interpax\n",
    "\n",
    "from scipy.signal import find_peaks\n",
    "from adoptODE import train_adoptODE, simple_simulation, dataset_adoptODE\n",
    "from HelperAndMechanics import *\n",
    "import progressbar\n",
    "import h5py\n",
    "import argparse\n",
    "import sys"
   ]
  },
  {
   "cell_type": "code",
   "execution_count": 8,
   "metadata": {},
   "outputs": [],
   "source": [
    "\"\"\"\n",
    "    Reads in necessary parameters from config.ini\n",
    "\"\"\"\n",
    "N,size,[] = read_config([],mode = 'chaos')\n",
    "\n",
    "# Load from HDF5\n",
    "with h5py.File('../data/SpringMassModel/MechanicalData/data_eta_var_xl.h5', 'r') as f:\n",
    "    x_temp = f['x_temp'][:]\n",
    "    x_cm_temp = f['x_cm_temp'][:]\n",
    "    T = f['T'][:]\n",
    "    dA = f['dA'][:]\n",
    "    f.close()\n",
    "N = T.shape[0]"
   ]
  },
  {
   "cell_type": "code",
   "execution_count": 9,
   "metadata": {},
   "outputs": [],
   "source": [
    "def sm_model(**kwargs_sys):\n",
    "\n",
    "    #bounds for parameters\n",
    "    nu_min, nu_max = kwargs_sys['nu_min'], kwargs_sys['nu_max']\n",
    "    m_min, m_max = kwargs_sys['m_min'], kwargs_sys['m_max']\n",
    "    l_g_min, l_g_max = kwargs_sys['l_g_min'], kwargs_sys['l_g_max']\n",
    "    k_g_min, k_g_max = kwargs_sys['k_g_min'], kwargs_sys['k_g_max']\n",
    "    k_a_min, k_a_max = kwargs_sys['k_a_min'], kwargs_sys['k_a_max']\n",
    "    k_p_min, k_p_max = kwargs_sys['k_p_min'], kwargs_sys['k_p_max']\n",
    "    eta_min, eta_max = kwargs_sys['eta_min'], kwargs_sys['eta_max']\n",
    "    c_a_min, c_a_max = kwargs_sys['c_a_min'], kwargs_sys['c_a_max']\n",
    "    \n",
    "    # Interpolated params and coresponding time ,\n",
    "    x_cm_arr = kwargs_sys['x_cm']\n",
    "    x_j_arr = kwargs_sys['x_j']\n",
    "    T_arr = kwargs_sys['T']\n",
    "    t_interp = kwargs_sys['t_interp']\n",
    "\n",
    "    def gen_y0():\n",
    "\n",
    "        #takes initial conditions from kwargs(data)\n",
    "        x1_0 = kwargs_sys['x1_0']\n",
    "        x2_0 = kwargs_sys['x2_0']\n",
    "        y1_0 = kwargs_sys['y1_0']\n",
    "        y2_0 = kwargs_sys['y2_0']\n",
    "\n",
    "        return {'x1':x1_0, 'x2':x2_0, 'y1':y1_0, 'y2':y2_0}\n",
    "\n",
    "    def gen_params():\n",
    "        # seed for reproducibility\n",
    "        #np.random.seed(0)\n",
    "\n",
    "        nu = nu_min + (nu_max - nu_min) * np.random.rand()\n",
    "        m = m_min + (m_max - m_min) * np.random.rand()\n",
    "\n",
    "        l_g = l_g_min + (l_g_max - l_g_min) * np.random.rand()\n",
    "        # l_ax = l_ax_min + (l_ax_max - l_ax_min) * np.random.rand()\n",
    "\n",
    "        c_a = c_a_min + (c_a_max - c_a_min) * np.random.rand()\n",
    "        \n",
    "        k_g = k_g_min + (k_g_max - k_g_min) * np.random.rand()\n",
    "        k_a = k_a_min + (k_a_max - k_a_min) * np.random.rand()\n",
    "        k_p = k_p_min + (k_p_max - k_p_min) * np.random.rand()\n",
    "        \n",
    "        eta0 = eta_min + (eta_max - eta_min) * np.random.rand()\n",
    "        eta1 = eta_min + (eta_max - eta_min) * np.random.rand()\n",
    "        eta2 = eta_min + (eta_max - eta_min) * np.random.rand()\n",
    "        eta3 = eta_min + (eta_max - eta_min) * np.random.rand()\n",
    "\n",
    "        return {'nu':nu,'m':m,'l_g':l_g,'k_g':k_g, 'k_a':k_a,'k_p':k_p, 'eta0':eta0 ,'eta1':eta1,'eta2':eta2,'eta3':eta3,'c_a':c_a}, {}, {}\n",
    "\n",
    "        \n",
    "    @jit\n",
    "    def eom(xy, t, params, iparams, exparams):\n",
    "        x = jnp.array([xy['x1'], xy['x2']])\n",
    "        # get interpolated parameters at corresponding time\n",
    "        x_cm = t_to_value_x(x_cm_arr,t_interp,t)\n",
    "        x_j = t_to_value_x(x_j_arr,t_interp,t)\n",
    "        l_ax =  ((jnp.array([params['eta0'],params['eta1'],params['eta2'],params['eta3']])-1/2)**2+1/2**2)**(1/2)\n",
    "        l_a = t_to_value_l(l_ax.reshape(4,1)/(1 + params['c_a'] * T_arr),t_interp,t)\n",
    "\n",
    "        #initialize total force\n",
    "        f = total_force(x, x_j, x_cm,l_a ,t, params)\n",
    "\n",
    "        #initialize eom\n",
    "        dx1 = xy['y1']\n",
    "        dx2 = xy['y2']\n",
    "        dy1 = 1/params['m'] * (f[0] - params['nu'] * xy['y1'])\n",
    "        dy2 = 1/params['m'] * (f[1] - params['nu'] * xy['y2'])\n",
    "\n",
    "        return {'x1':dx1, 'x2':dx2, 'y1':dy1, 'y2':dy2}\n",
    "\n",
    "    @jit\n",
    "    def loss(xy, params, iparams, exparams, targets):\n",
    "        \n",
    "        x1 = xy['x1']\n",
    "        x2 = xy['x2']\n",
    "        y1 = xy['y1']\n",
    "        y2 = xy['y2']\n",
    "        t_x1 = targets['x1']\n",
    "        t_x2 = targets['x2']\n",
    "        t_y1 = targets['y1']\n",
    "        t_y2 = targets['y2']\n",
    "        eta_diff = jnp.std(jnp.array([params['eta0'],params['eta1'],params['eta2'],params['eta3']]))\n",
    "        return jnp.nanmean((x1-t_x1)**2 + (x2-t_x2)**2 +(y1 - t_y1)**2 + (y2 - t_y2)**2  + .001*eta_diff)\n",
    "\n",
    "    return eom, loss, gen_params, gen_y0, {}"
   ]
  },
  {
   "cell_type": "code",
   "execution_count": 10,
   "metadata": {},
   "outputs": [],
   "source": [
    "i,j = 5 + 0 * 10, 5 + 1 * 10\n",
    "\n",
    "N,size,ls = read_config([\"l_0\",\"c_a\",\"k_ij\",\"k_j\",\"k_a\",\"m\",\"c_damp\",\"n_0\",\"delta_t_m\",\"it_m\",\"pad\"])\n",
    "l_0, c_a0, k_g0, k_p0, k_a0, m0, nu0, eta0, delta_t_m, it_m, pad = ls\n",
    "eta_arr = 1 - np.load('../data/SpringMassModel/FiberOrientation/fiber_orientation.npy')\n",
    "eta0,eta1,eta2,eta3= eta_arr[i-1,j-1],eta_arr[i-1,j],eta_arr[i,j],eta_arr[i,j-1]\n",
    "\n",
    "real_params = {'l_g':l_0,'k_g':k_g0,'k_p':k_p0,'k_a':k_a0,'m':m0,'nu':nu0,'eta0':eta0,'eta1':eta1,'eta2':eta2,'eta3':eta3,'c_a': c_a0 }#,'dt':0}\n",
    "\n",
    "delta_t = delta_t_m * it_m\n",
    "t_evals = np.linspace(0,N*delta_t,N)\n",
    "N_interp = int(it_m)*5\n",
    "\n",
    "t_start_training,t_stop_training = 0,12000"
   ]
  },
  {
   "cell_type": "code",
   "execution_count": 11,
   "metadata": {},
   "outputs": [
    {
     "name": "stdout",
     "output_type": "stream",
     "text": [
      "753\n",
      "13556 15509\n",
      "753\n",
      "13556 15509\n",
      "753\n",
      "13556 15509\n",
      "1104\n",
      "13930 16234\n"
     ]
    }
   ],
   "source": [
    "diff = 0\n",
    "start_indx = 0\n",
    "T_arr = np.array([T[:,i-1,j-1],T[:,i-1,j],T[:,i,j],T[:,i,j-1]])\n",
    "while diff < 1000: \n",
    "    dA_test = dA[t_stop_training+500:,i,j]\n",
    "    T_test = T[t_stop_training+500:,i,j]\n",
    "    maxima_temp0, _ = find_peaks(dA_test,prominence=.0007)#,height=.001\n",
    "    minima_temp0, _ = find_peaks(-dA_test,prominence=.0007)#,height=.001\n",
    "    max_indx, min_indx = index_finder(maxima_temp0, minima_temp0, dA_test,start_indx)\n",
    "    diff = minima_temp0[min_indx+1]-maxima_temp0[max_indx]\n",
    "    print(diff)\n",
    "    start_indx += 1\n",
    "    \n",
    "    t_start = t_stop_training + 500 + maxima_temp0[max_indx] - 400\n",
    "    t_stop = t_stop_training + 500+ minima_temp0[min_indx+1] + 800\n",
    "    print(t_start,t_stop)\n"
   ]
  },
  {
   "cell_type": "code",
   "execution_count": 12,
   "metadata": {},
   "outputs": [],
   "source": [
    "# dA_test = dA[t_stop_training+500:,i,j]\n",
    "# T_test = T[t_stop_training+500:,i,j]\n",
    "# T_arr = np.array([T[:,i-1,j-1],T[:,i-1,j],T[:,i,j],T[:,i,j-1]])\n",
    "# dA_arr = np.array([dA[:,i-1,j-1],dA[:,i-1,j],dA[:,i,j],dA[:,i,j-1]])\n",
    "\n",
    "# maxima_temp0, _ = find_peaks(dA_test,prominence=.0007)#,height=.001\n",
    "# minima_temp0, _ = find_peaks(-dA_test,prominence=.0007)#,height=.001\n",
    "# max_indx, min_indx = index_finder(maxima_temp0, minima_temp0, dA_test,start_indx=0)\n",
    "\n",
    "# t_start = t_stop_training + 500 + maxima_temp0[max_indx] - 300\n",
    "# t_stop = t_stop_training + 500+ minima_temp0[min_indx+1] + 700"
   ]
  },
  {
   "cell_type": "code",
   "execution_count": null,
   "metadata": {},
   "outputs": [],
   "source": []
  },
  {
   "cell_type": "code",
   "execution_count": 13,
   "metadata": {},
   "outputs": [
    {
     "name": "stdout",
     "output_type": "stream",
     "text": [
      "x_arr_train_flattended.shape= (1, 41, 82, 12000)\n",
      "calculating element 0\n"
     ]
    },
    {
     "name": "stderr",
     "output_type": "stream",
     "text": [
      "An NVIDIA GPU may be present on this machine, but a CUDA-enabled jaxlib is not installed. Falling back to cpu.\n",
      "[                                                                        ]   0%\r"
     ]
    },
    {
     "name": "stdout",
     "output_type": "stream",
     "text": [
      "x_arr_train_flattended.shape= (1, 41, 82, 12000)\n",
      "calculating element 1\n"
     ]
    },
    {
     "name": "stderr",
     "output_type": "stream",
     "text": [
      "[======================================================================= ]  98%\r"
     ]
    },
    {
     "name": "stdout",
     "output_type": "stream",
     "text": [
      "x_arr_train_flattended.shape= (1, 41, 82, 12000)\n",
      "calculating element 2\n"
     ]
    },
    {
     "name": "stderr",
     "output_type": "stream",
     "text": [
      "[                                                                        ]   0%\r"
     ]
    },
    {
     "name": "stdout",
     "output_type": "stream",
     "text": [
      "x_arr_train_flattended.shape= (1, 41, 82, 12000)\n",
      "calculating element 3\n"
     ]
    },
    {
     "name": "stderr",
     "output_type": "stream",
     "text": [
      "[======================================================================= ]  98%\r"
     ]
    }
   ],
   "source": [
    "T_rec_raw = np.zeros((4,t_stop-t_start))\n",
    "T_arr_indx = [[i-1,j-1],[i-1,j],[i,j],[i,j-1]]\n",
    "\n",
    "#define Hyperparameters\n",
    "no_dt,no_points = 40,10\n",
    "delta_t_rec = 10\n",
    "for indx in range(4):\n",
    "    i_temp,j_temp = T_arr_indx[indx]\n",
    "    dA_r_0_der_raw = np.append(np.diff(dA[t_start:t_stop,i_temp,j_temp],axis = 0),np.diff(dA[t_start:t_stop,i_temp,j_temp],axis = 0)[-1])\n",
    "    \n",
    "    x_train,x_fit,y_train = shape_data(x_temp,x_cm_temp,dA[t_start_training:t_stop_training,:,:],T[t_start_training:t_stop_training,:,:],dA_r_0_der_raw,i_temp,j_temp,no_dt,no_points,delta_t_rec,key = \"dA_r_0_derivative\")\n",
    "    print('calculating element',indx)\n",
    "    y_out_diff = euclidean_distance_trajectory(x_fit, x_train,y_train)\n",
    "\n",
    "    T_rec_raw[indx,:] = y_out_diff"
   ]
  },
  {
   "cell_type": "code",
   "execution_count": 14,
   "metadata": {},
   "outputs": [],
   "source": [
    "t_evals = np.linspace(0,N*delta_t,N)\n",
    "t_evals = t_evals[t_start:t_stop] - t_evals[t_start]\n",
    "x_i,x_j,x_cm,l_a = shape_input_for_adoptode(x_temp[t_start:t_stop,:], x_cm_temp[t_start:t_stop,:],T[t_start:t_stop,:],i,j,1) # i and j specify the cell taken from the grid \n",
    "x_i_dot = np.append(np.diff(x_i,axis=0),np.diff(x_i,axis=0)[-1].reshape(1,2),axis=0)/(delta_t)\n",
    "#T_model = create_T(T_standard, t_evals, t_start, delta_t, t_peak_start,t_peak_stop)\n",
    "T_model = T_arr[:,t_start:t_stop]\n",
    "#T_rec = np.load('T_rec_test.npy')\n",
    "\n",
    "start = int((t_stop - t_start - 1000)/2)\n",
    "end = start + 1000\n",
    "\n",
    "x_i,x_j,x_cm = x_i[start:end,:],x_j[:,start:end,:],x_cm[:,start:end,:]\n",
    "x_i_dot = x_i_dot[start:end,:]\n",
    "t_evals = t_evals[start:end]\n",
    "T_model = T_model[:,start:end]\n",
    "T_rec = T_rec_raw[:,start:end]\n",
    "\n",
    "#arrays interpolieren\n",
    "t_interp, x_cm_interp = interpolate_x(x_cm,t_evals,N_interp)\n",
    "t_interp, x_j_interp = interpolate_x(x_j,t_evals,N_interp)\n",
    "t_interp, T_interp = interpolate_scalar(T_rec,t_evals,N_interp)\n",
    "\n",
    "y0 = {\"x1\":x_i[0,0],'x2':x_i[0,1],'y1':(x_i[1,0]-x_i[0,0])/delta_t,'y2':(x_i[1,1]-x_i[0,1])/delta_t,'x_cm':x_cm[:,0,:],'x_j':x_j[:,0,:]}"
   ]
  },
  {
   "cell_type": "code",
   "execution_count": 15,
   "metadata": {},
   "outputs": [
    {
     "data": {
      "text/plain": [
       "[<matplotlib.lines.Line2D at 0x7ad46eae6040>]"
      ]
     },
     "execution_count": 15,
     "metadata": {},
     "output_type": "execute_result"
    },
    {
     "data": {
      "image/png": "[encoded data removed]",
      "text/plain": [
       "<Figure size 640x480 with 1 Axes>"
      ]
     },
     "metadata": {},
     "output_type": "display_data"
    }
   ],
   "source": [
    "plt.plot( T_rec[0,:])\n",
    "plt.plot( T_model[0,:])"
   ]
  },
  {
   "cell_type": "code",
   "execution_count": 16,
   "metadata": {},
   "outputs": [],
   "source": [
    "rel_err = 1        \n",
    "kwargs_sys = { \n",
    "    'nu_min': nu0 - nu0 *rel_err,'nu_max': nu0 + nu0 *rel_err,\n",
    "    'm_min': m0 - m0 *rel_err,'m_max' : m0 + m0 *rel_err,\n",
    "    'l_g_min': l_0 - l_0 *rel_err,'l_g_max': l_0 + l_0 *rel_err,\n",
    "    'k_g_min': k_g0 - k_g0 *rel_err,'k_g_max': k_g0 + k_g0 *rel_err,\n",
    "    'k_p_min': k_p0 - k_p0 *rel_err,'k_p_max': k_p0 + k_p0 *rel_err,\n",
    "    'k_a_min': k_a0 - k_a0 *rel_err,'k_a_max': k_a0 + k_a0 *rel_err,\n",
    "    'c_a_min': c_a0 - c_a0 *rel_err,'c_a_max': c_a0 + c_a0 *rel_err,\n",
    "    'eta_min': 0,'eta_max': 1,\n",
    "    't_interp': t_interp,\n",
    "    'N_interp': N_interp,\n",
    "    'x_cm':x_cm_interp,\n",
    "    'x_j':x_j_interp,\n",
    "    'T':T_interp,\n",
    "    'x1_0':x_i[0,0],\n",
    "    'x2_0':x_i[0,1],\n",
    "    'y1_0':x_i_dot[0,0],\n",
    "    'y2_0':x_i_dot[0,1],\n",
    "    'N_sys': 1    \n",
    "}\n",
    "\n",
    "#upper and lower bounds for parameters\n",
    "tol = 1\n",
    "real_params_low = {'l_g':l_0- l_0*tol,\n",
    "                   'k_g':k_g0- k_g0*tol,'k_p':k_p0- k_p0*tol,\n",
    "                   'k_a':k_a0- k_a0*tol,'m':m0- m0*tol,'nu':nu0- nu0*tol,'c_a': c_a0 - c_a0*tol ,'eta0':0,'eta1':0,'eta2':0,'eta3':0}\n",
    "real_params_up = {'l_g':l_0+ l_0*tol,\n",
    "                  'k_g':k_g0+ k_g0*tol,'k_p':k_p0+ k_p0*tol,\n",
    "                  'k_a':k_a0+ k_a0*tol,'m':m0+ m0*tol,'nu':nu0+ nu0*tol,'c_a': c_a0 + c_a0*tol ,'eta':1,'eta1':1,'eta2':1,'eta3':1}"
   ]
  },
  {
   "cell_type": "code",
   "execution_count": 17,
   "metadata": {},
   "outputs": [],
   "source": [
    "\n",
    "targets = {\"x1\":x_i[:,0].reshape((1,len(x_i[:,0]))),'x2':x_i[:,1].reshape((1,len(x_i[:,0]))),'y1':x_i_dot[:,0].reshape((1,len(x_i_dot[:,0]))),'y2':x_i_dot[:,1].reshape((1,len(x_i_dot[:,1])))}\n",
    "reset_every = 300\n",
    "t_reset_idcs = tuple([\n",
    "    reset_every * i\n",
    "    for i in range(int(np.ceil((len(t_evals) - 1) / reset_every)))\n",
    "])\n",
    "\n",
    "kwargs_adoptODE = {'lr':.9e-2, 'epochs':100,'N_backups':1,\n",
    "                #    't_reset_idcs': t_reset_idcs,\n",
    "                   'lower_b_y0':{'x1':y0['x1'],'x2':y0['x2'],'y1':y0['y1']-0*y0['y1'],'y2':y0['y2']-0*y0['y2'] },\n",
    "                   'upper_b_y0':{'x1':y0['x1'],'x2':y0['x2'],'y1':y0['y1']+0*y0['y1'],'y2':y0['y2']+0*y0['y2'] },\n",
    "                   'lower_b': real_params_low,\n",
    "                   'upper_b': real_params_up}\n",
    "\n",
    "\n",
    "dataset2 = dataset_adoptODE(sm_model,\n",
    "                                targets,\n",
    "                                t_evals, \n",
    "                                kwargs_sys,\n",
    "                                kwargs_adoptODE, \n",
    "                                true_params = real_params\n",
    "                                )"
   ]
  },
  {
   "cell_type": "code",
   "execution_count": 18,
   "metadata": {},
   "outputs": [
    {
     "name": "stdout",
     "output_type": "stream",
     "text": [
      "Epoch 000:  Loss: 1.3e-02,  Params Err.: 1.1e+01, y0 error: nan, Params Norm: 2.8e+01, iParams Err.: 0.0e+00, iParams Norm: 0.0e+00, \n",
      "Epoch 010:  Loss: 2.2e-03,  Params Err.: 1.1e+01, y0 error: nan, Params Norm: 2.8e+01, iParams Err.: 0.0e+00, iParams Norm: 0.0e+00, \n",
      "Epoch 020:  Loss: 1.5e-03,  Params Err.: 1.1e+01, y0 error: nan, Params Norm: 2.8e+01, iParams Err.: 0.0e+00, iParams Norm: 0.0e+00, \n",
      "Epoch 030:  Loss: 1.2e-03,  Params Err.: 1.1e+01, y0 error: nan, Params Norm: 2.8e+01, iParams Err.: 0.0e+00, iParams Norm: 0.0e+00, \n",
      "Epoch 040:  Loss: 1.1e-03,  Params Err.: 1.1e+01, y0 error: nan, Params Norm: 2.8e+01, iParams Err.: 0.0e+00, iParams Norm: 0.0e+00, \n",
      "Epoch 050:  Loss: 8.4e-04,  Params Err.: 1.1e+01, y0 error: nan, Params Norm: 2.8e+01, iParams Err.: 0.0e+00, iParams Norm: 0.0e+00, \n",
      "Epoch 060:  Loss: 5.9e-04,  Params Err.: 1.1e+01, y0 error: nan, Params Norm: 2.8e+01, iParams Err.: 0.0e+00, iParams Norm: 0.0e+00, \n",
      "Epoch 070:  Loss: 3.9e-04,  Params Err.: 1.0e+01, y0 error: nan, Params Norm: 2.8e+01, iParams Err.: 0.0e+00, iParams Norm: 0.0e+00, \n",
      "Epoch 080:  Loss: 2.3e-04,  Params Err.: 1.0e+01, y0 error: nan, Params Norm: 2.8e+01, iParams Err.: 0.0e+00, iParams Norm: 0.0e+00, \n",
      "Epoch 090:  Loss: 1.6e-04,  Params Err.: 1.0e+01, y0 error: nan, Params Norm: 2.8e+01, iParams Err.: 0.0e+00, iParams Norm: 0.0e+00, \n",
      "Epoch 099:  Loss: 1.3e-04,  Params Err.: 1.0e+01, y0 error: nan, Params Norm: 2.8e+01, iParams Err.: 0.0e+00, iParams Norm: 0.0e+00, \n"
     ]
    }
   ],
   "source": [
    "params_final, losses, errors, params_history = train_adoptODE(dataset2,save_interval=100)"
   ]
  },
  {
   "cell_type": "code",
   "execution_count": 19,
   "metadata": {},
   "outputs": [
    {
     "data": {
      "image/png": "[encoded data removed]",
      "text/plain": [
       "<Figure size 1000x300 with 1 Axes>"
      ]
     },
     "metadata": {},
     "output_type": "display_data"
    }
   ],
   "source": [
    "# Get the parameter names\n",
    "param_names = list(real_params.keys())\n",
    "\n",
    "# Calculate the relative error for each parameter\n",
    "relative_errors = []\n",
    "for param_name in param_names:\n",
    "    real_value = real_params.get(param_name, np.nan)\n",
    "    train_value = dataset2.params_train.get(param_name, np.nan)\n",
    "    if np.isnan(real_value) or np.isnan(train_value):\n",
    "        relative_errors.append(np.nan)\n",
    "    else:\n",
    "        relative_error = np.abs((train_value - real_value) / real_value)\n",
    "        relative_errors.append(relative_error)\n",
    "\n",
    "# Plot the relative errors\n",
    "plt.figure(figsize=(10, 3))\n",
    "plt.bar(param_names, relative_errors)\n",
    "plt.xlabel('Parameter')\n",
    "plt.ylabel('Relative Error')\n",
    "plt.title('Relative Error of Parameters')\n",
    "plt.xticks(rotation=45)\n",
    "plt.show()"
   ]
  },
  {
   "cell_type": "code",
   "execution_count": 20,
   "metadata": {},
   "outputs": [
    {
     "name": "stdout",
     "output_type": "stream",
     "text": [
      "0.022139156 0.05792862 0.024743428 0.052464016\n",
      "0.119591296 0.121208906 0.12246919 0.12079996\n"
     ]
    }
   ],
   "source": [
    "print(dataset2.params_train['eta0'],dataset2.params_train['eta1'],dataset2.params_train['eta2'],dataset2.params_train['eta3'])\n",
    "print(real_params['eta0'],real_params['eta1'],real_params['eta2'],real_params['eta3'])"
   ]
  },
  {
   "cell_type": "code",
   "execution_count": 21,
   "metadata": {},
   "outputs": [],
   "source": [
    "losses = np.load('../data/SpringMassModel/EtaSweep/eta_sweepT_rec_xl.npy')"
   ]
  },
  {
   "cell_type": "code",
   "execution_count": 22,
   "metadata": {},
   "outputs": [
    {
     "name": "stderr",
     "output_type": "stream",
     "text": [
      "/tmp/ipykernel_162046/1836111402.py:31: UserWarning: This figure includes Axes that are not compatible with tight_layout, so results might be incorrect.\n",
      "  plt.tight_layout(rect=[0, 0, 0.8, 1])  # Adjust layout to make space for the colorbar\n"
     ]
    },
    {
     "data": {
      "image/png": "[encoded data removed]",
      "text/plain": [
       "<Figure size 1000x800 with 5 Axes>"
      ]
     },
     "metadata": {},
     "output_type": "display_data"
    }
   ],
   "source": [
    "fig, axs = plt.subplots(2, 2, figsize=(10, 8))\n",
    "\n",
    "# Find the global vmin and vmax for consistent color scaling\n",
    "vmin = np.nanmin(losses[:, :, :, 0])\n",
    "vmax = np.nanmax(losses[:, :, :, 0])\n",
    "\n",
    "# Create the subplots and use a single colorbar\n",
    "for i in range(2):\n",
    "    for j in range(2):\n",
    "        im = axs[i, j].imshow(\n",
    "            losses[:, :, i + j * 2, 0],\n",
    "            cmap='viridis',\n",
    "            interpolation='nearest',\n",
    "            vmin=vmin,\n",
    "            vmax=vmax\n",
    "        )\n",
    "        axs[i, j].set_title(f'$\\eta_{i + j * 2}$')\n",
    "        axs[i, j].set_xlabel('x')\n",
    "        axs[i, j].set_ylabel('y')\n",
    "\n",
    "# Add a single colorbar outside the figure\n",
    "cbar = fig.colorbar(\n",
    "    im,\n",
    "    ax=axs,\n",
    "    orientation='vertical',  # 'horizontal' for below the figure\n",
    "    fraction=0.08,           # Fraction of original axes height\n",
    "    pad=0.1                  # Padding between the figure and the colorbar\n",
    ")\n",
    "cbar.set_label('Loss Value')\n",
    "\n",
    "plt.tight_layout(rect=[0, 0, 0.8, 1])  # Adjust layout to make space for the colorbar\n",
    "plt.show()"
   ]
  }
 ],
 "metadata": {
  "kernelspec": {
   "display_name": ".myvenv",
   "language": "python",
   "name": "python3"
  },
  "language_info": {
   "codemirror_mode": {
    "name": "ipython",
    "version": 3
   },
   "file_extension": ".py",
   "mimetype": "text/x-python",
   "name": "python",
   "nbconvert_exporter": "python",
   "pygments_lexer": "ipython3",
   "version": "3.9.13"
  }
 },
 "nbformat": 4,
 "nbformat_minor": 2
}
