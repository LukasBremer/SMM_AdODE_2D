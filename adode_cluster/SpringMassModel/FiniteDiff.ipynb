{
 "cells": [
  {
   "cell_type": "code",
   "execution_count": 1,
   "metadata": {},
   "outputs": [],
   "source": [
    "#import jax and other libraries for computation\n",
    "import jax.numpy as jnp\n",
    "from jax import jit\n",
    "from jax.scipy.signal import convolve2d\n",
    "from jax.flatten_util import ravel_pytree\n",
    "from jax.experimental.ode import odeint\n",
    "from jax import tree_util\n",
    "import jax.random as random\n",
    "import numpy as np\n",
    "#for visulization\n",
    "import os\n",
    "import matplotlib.pyplot as plt\n",
    "import ipywidgets as widgets\n",
    "from IPython.display import display\n",
    "# Set Palatino as the default font\n",
    "font = {'family': 'serif', 'serif': ['Palatino'], 'size': 20}\n",
    "plt.rc('font', **font)\n",
    "plt.rc('text', usetex=True)\n",
    "# import AdoptODE\n",
    "from adoptODE import train_adoptODE, simple_simulation, dataset_adoptODE\n",
    "#import the MSD mechanics\n",
    "from HelperAndMechanics import *\n",
    "import h5py"
   ]
  },
  {
   "cell_type": "code",
   "execution_count": 2,
   "metadata": {},
   "outputs": [
    {
     "name": "stdout",
     "output_type": "stream",
     "text": [
      "max_v =  2.14554 \n",
      "max_u = 0.988905  \n",
      "max_T =  2.71647\n"
     ]
    }
   ],
   "source": [
    "# Load from HDF5\n",
    "with h5py.File('../data/SpringMassModel/MechanicalData/data_eta_05_uvx.h5', 'r') as f:\n",
    "    v = f['v'][:1000]\n",
    "    u = f['u'][:1000]\n",
    "    T = f['T'][:1000]\n",
    "    x = f['x'][:1000]\n",
    "    f.close()\n",
    "print('max_v = ',np.max(v),'\\nmax_u =',np.max(u),' \\nmax_T = ',np.max(T))\n",
    "N = T.shape[0]\n"
   ]
  },
  {
   "cell_type": "code",
   "execution_count": null,
   "metadata": {},
   "outputs": [],
   "source": [
    "def define_NavierCauchy(**kwargs_sys):\n",
    "    N_sys = kwargs_sys['N_sys']\n",
    "\n",
    "    def gen_params():\n",
    "        return {key:value + kwargs_sys['par_tol']*value*np.random.uniform(-1.0, 1.0) for key,value in kwargs_sys['params_true'].items()}, {}, {}\n",
    "    \n",
    "    def gen_y0():\n",
    "        return {'u':kwargs_sys['u0'],'v':kwargs_sys['v0'],'T':kwargs_sys['T0'],'U':kwargs_sys['U0'],'V':kwargs_sys['V0']}\n",
    "    \n",
    "    # electric model\n",
    "    @jit\n",
    "    def kernel(spacing):\n",
    "        kernel = np.array([[1, 4, 1], [4, -20.0, 4], [1, 4, 1]]) / (spacing* spacing * 6)\n",
    "        return kernel\n",
    "    @jit\n",
    "    def laplace(f,spacing):  #laplace of scalar\n",
    "        f_ext = jnp.concatenate((f[0:1], f, f[-1:]), axis=0)\n",
    "        f_ext = jnp.concatenate((f_ext[:, 0:1], f_ext, f_ext[:, -1:]), axis=1)\n",
    "        return convolve2d(f_ext, kernel(spacing), mode='valid')\n",
    "    @jit\n",
    "    def epsilon(u,v,params):\n",
    "        return params['epsilon_0']+params['mu_1']*v/(u+params['mu_2'])\n",
    "    @jit\n",
    "    def epsilon_T(u):\n",
    "        return 1 - 0.9*jnp.exp(-jnp.exp(-30*(jnp.abs(u) - 0.1)))    \n",
    "\n",
    "    @jit\n",
    "    def gradient(field, dx):\n",
    "        \"\"\"Compute the gradient of a scalar field field(x, y) in 2D.\"\"\"\n",
    "        grad_x = jnp.gradient(field, axis=0) / dx  \n",
    "        grad_y = jnp.gradient(field, axis=1) / dx  \n",
    "        return jnp.stack([grad_x, grad_y], axis=-1)  # Shape: (N, N, 2)\n",
    "    # Define Laplacian operator\n",
    "    def laplacian(U,dx):\n",
    "        return (\n",
    "            -4 * U\n",
    "            + jnp.roll(U, shift=1, axis=0) + jnp.roll(U, shift=-1, axis=0)\n",
    "            + jnp.roll(U, shift=1, axis=1) + jnp.roll(U, shift=-1, axis=1)\n",
    "        ) / dx**2\n",
    "\n",
    "    # Compute divergence\n",
    "    def divergence(U,dx):\n",
    "        return jnp.gradient(U[..., 0], axis=0)/dx + jnp.gradient(U[..., 1], axis=1)/dx\n",
    "\n",
    "    # Compute stress tensor\n",
    "    def stress(U, params):\n",
    "        div_U = divergence(U,params['dx'])\n",
    "        return (params['lmbda'] + params['mu']) * gradient(div_U,params['dx']) + params['mu'] * laplacian(U,params['dx'])\n",
    "    #Full Model\n",
    "    @jit\n",
    "    def eom(y, t, params, iparams, exparams):\n",
    "        par=params\n",
    "        u=y['u']\n",
    "        v=y['v']\n",
    "        T=y['T']\n",
    "        U=y['U']\n",
    "        V=y['V']\n",
    "\n",
    "        dudt = par['D']*laplace(u,par['spacing'])-(par['k'])*u*(u-par['a'])*(u-1) - u*v\n",
    "        dvdt = epsilon(u,v,par)*(-v-(par['k'])*u*(u-par['a']-1))\n",
    "        dTdt = epsilon_T(u)*(par['k_T']*jnp.abs(u)-T)\n",
    "        dU = V \n",
    "        dV = (1 / par['rho']) * (stress(U,par) + gradient(T,par['dx']))  # Update velocity\n",
    "        \n",
    "        return {'u':dudt, 'v':dvdt, 'T':dTdt, 'U':zero_out_edgesFD(dU), 'V':zero_out_edgesFD(dV)}\n",
    "    @jit\n",
    "    def loss(ys, params, iparams, exparams, targets):\n",
    "        # u = ys['u']\n",
    "        # u_target = targets['u']\n",
    "        U = ys['U']\n",
    "        U_target = targets['U']\n",
    "        V = ys['V']\n",
    "        V_target = targets['V']\n",
    "        \n",
    "        return  jnp.nanmean((U - U_target)**2 + (V-V_target)**2) #jnp.nanmean((u - u_target)**2) +\n",
    "            \n",
    "    return eom, loss, gen_params, gen_y0, {}\n"
   ]
  },
  {
   "cell_type": "code",
   "execution_count": 22,
   "metadata": {},
   "outputs": [
    {
     "name": "stdout",
     "output_type": "stream",
     "text": [
      "3.0\n"
     ]
    }
   ],
   "source": [
    "\n",
    "\"\"\"\n",
    "    Reads in necessary parameters from config.ini\n",
    "\"\"\"\n",
    "\n",
    "N,size,params_electric = read_config(['D','a','k','epsilon_0','mu_1','mu_2','k_T','delta_t_e','spacing'],mode = 'chaos')\n",
    "keys_electric =['D','a','k','epsilon_0','mu_1','mu_2','k_T','delta_t_e','spacing']\n",
    "\n",
    "params_true_mechanic = {'lmbda': 1.25, 'mu': 1, 'rho': 1.0, 'dx': 1.0}\n",
    "tol = 0\n",
    "params_true = dict(zip(keys_electric,params_electric))|params_true_mechanic\n",
    "print(params_true['k_T'])\n",
    "\n",
    "params_low = {key: value - value*tol for key, value in params_true.items()}\n",
    "params_high = {key: value + value*tol for key, value in params_true.items()}\n",
    "\n",
    "length,sampling_rate = 20,10\n",
    "\n",
    "u0,v0,T0,U0,V0,t_evals = u[0],v[0],T[0],jnp.zeros((100,100,2)),jnp.zeros((100,100,2)),np.linspace(0, params_true['delta_t_e']*sampling_rate*length, length)\n",
    "\n",
    "kwargs_sys = {'size': 100,\n",
    "              'spacing': 1,\n",
    "              'N_sys': 1,\n",
    "              'par_tol': 0,\n",
    "              'params_true': params_true,\n",
    "              'u0': u0,'v0': v0,'T0': T0,'U0': U0,'V0': V0}\n",
    "kwargs_adoptODE = {'epochs': 10,'N_backups': 1,'lr': 1e-3}"
   ]
  },
  {
   "cell_type": "code",
   "execution_count": 23,
   "metadata": {},
   "outputs": [],
   "source": [
    "# Setting up a dataset via simulation\n",
    "Simulation_MSD = simple_simulation(define_NavierCauchy,\n",
    "                            t_evals,\n",
    "                            kwargs_sys,\n",
    "                            kwargs_adoptODE)"
   ]
  },
  {
   "cell_type": "code",
   "execution_count": null,
   "metadata": {},
   "outputs": [
    {
     "name": "stdout",
     "output_type": "stream",
     "text": [
      "(20, 100, 100)\n"
     ]
    },
    {
     "data": {
      "application/vnd.jupyter.widget-view+json": {
       "model_id": "ddef7b8067fd442797e79d69697eaf7c",
       "version_major": 2,
       "version_minor": 0
      },
      "text/plain": [
       "IntSlider(value=0, description='Frame', max=19)"
      ]
     },
     "metadata": {},
     "output_type": "display_data"
    },
    {
     "data": {
      "application/vnd.jupyter.widget-view+json": {
       "model_id": "8fbbbfde53ef4ed1ab565758794692ad",
       "version_major": 2,
       "version_minor": 0
      },
      "text/plain": [
       "Output()"
      ]
     },
     "metadata": {},
     "output_type": "display_data"
    }
   ],
   "source": [
    "#plot u_err = np.abs(u_sim-u_sol)\n",
    "Ux_sim = Simulation_MSD.ys['U'][0, :, :, :, 0]\n",
    "Uy_sim = Simulation_MSD.ys['U'][0, :, :, :, 1]\n",
    "u_sim = Simulation_MSD.ys['u'][0]\n",
    "T_sim = Simulation_MSD.ys['T'][0]\n",
    "print(Ux_sim.shape)\n",
    "vmin,vmax =  0,1\n",
    "pad = 10\n",
    "\n",
    "\n",
    "# Function to update the plot\n",
    "def update_plot(frame):\n",
    "    fig, axes = plt.subplots(1, 2, figsize=(16, 4))  # Create 2 side-by-side subplots\n",
    "    \n",
    "    # Plot dA_fit\n",
    "    im1 = axes[0].matshow(Ux_sim[frame], cmap='coolwarm', vmin=Ux_sim.min(), vmax=Ux_sim.max())\n",
    "    # im1 = axes[0].matshow(dA_rec[frame, pad:-pad, pad:-pad], cmap='coolwarm', vmin=vmin, vmax=vmax)\n",
    "    axes[0].set_title(f\"reconstruction\")\n",
    "    \n",
    "    # Plot dA_sim\n",
    "    im2 = axes[1].matshow(T_sim[frame], cmap='coolwarm', vmin=vmin, vmax=vmax)\n",
    "    # im2 = axes[1].matshow(dA_sim[frame, pad:-pad, pad:-pad], cmap='coolwarm', vmin=vmin, vmax=vmax)\n",
    "    axes[1].set_title(f\"simulation\")\n",
    "    \n",
    "    # Add colorbars\n",
    "    fig.colorbar(im1, ax=axes[0])\n",
    "    fig.colorbar(im2, ax=axes[1])\n",
    "\n",
    "    plt.show()\n",
    "def update_single_plot(frame):\n",
    "    fig,axes = plt.subplots(1, 1, figsize=(10,8))\n",
    "\n",
    "    # Plot dA_fit\n",
    "    im1 = axes.matshow(Ux_sim[frame], cmap='coolwarm', vmin=vmin, vmax=vmax)\n",
    "    # im1 = axes.matshow(dA_err[frame, pad:-pad, pad:-pad], cmap='coolwarm', vmin=vmin, vmax=vmax)\n",
    "    axes.set_title(f\"U \")\n",
    "\n",
    "    # Add colorbars\n",
    "    fig.colorbar(im1, ax=axes)\n",
    "\n",
    "    plt.show()\n",
    "\n",
    "# Create interactive slider\n",
    "frame_slider = widgets.IntSlider(min=0, max=Ux_sim.shape[0]-1, step=1, value=0, description=\"Frame\")\n",
    "\n",
    "# Use interactive_output instead of interactive\n",
    "out = widgets.interactive_output(update_plot, {'frame': frame_slider})\n",
    "\n",
    "# Display slider and output\n",
    "display(frame_slider, out)"
   ]
  },
  {
   "cell_type": "code",
   "execution_count": null,
   "metadata": {},
   "outputs": [],
   "source": []
  },
  {
   "cell_type": "code",
   "execution_count": null,
   "metadata": {},
   "outputs": [],
   "source": []
  }
 ],
 "metadata": {
  "kernelspec": {
   "display_name": ".myvenv",
   "language": "python",
   "name": "python3"
  },
  "language_info": {
   "codemirror_mode": {
    "name": "ipython",
    "version": 3
   },
   "file_extension": ".py",
   "mimetype": "text/x-python",
   "name": "python",
   "nbconvert_exporter": "python",
   "pygments_lexer": "ipython3",
   "version": "3.9.13"
  }
 },
 "nbformat": 4,
 "nbformat_minor": 2
}
