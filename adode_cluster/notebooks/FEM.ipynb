{
 "cells": [
  {
   "cell_type": "code",
   "execution_count": null,
   "id": "43bb0a28",
   "metadata": {},
   "outputs": [
    {
     "ename": "ModuleNotFoundError",
     "evalue": "No module named 'dolfinx'",
     "output_type": "error",
     "traceback": [
      "\u001b[0;31m---------------------------------------------------------------------------\u001b[0m",
      "\u001b[0;31mModuleNotFoundError\u001b[0m                       Traceback (most recent call last)",
      "Cell \u001b[0;32mIn[1], line 8\u001b[0m\n\u001b[1;32m      6\u001b[0m \u001b[38;5;28;01mfrom\u001b[39;00m \u001b[38;5;21;01mmpi4py\u001b[39;00m \u001b[38;5;28;01mimport\u001b[39;00m MPI\n\u001b[1;32m      7\u001b[0m \u001b[38;5;28;01mfrom\u001b[39;00m \u001b[38;5;21;01mpetsc4py\u001b[39;00m\u001b[38;5;21;01m.\u001b[39;00m\u001b[38;5;21;01mPETSc\u001b[39;00m \u001b[38;5;28;01mimport\u001b[39;00m ScalarType\n\u001b[0;32m----> 8\u001b[0m \u001b[38;5;28;01mfrom\u001b[39;00m \u001b[38;5;21;01mdolfinx\u001b[39;00m \u001b[38;5;28;01mimport\u001b[39;00m mesh, fem, plot, io\n",
      "\u001b[0;31mModuleNotFoundError\u001b[0m: No module named 'dolfinx'"
     ]
    }
   ],
   "source": [
    "import h5py as h5\n",
    "\n",
    "import numpy as np\n",
    "import ufl\n",
    "\n",
    "from mpi4py import MPI\n",
    "from petsc4py.PETSc import ScalarType\n",
    "from dolfinx import mesh, fem, plot, io\n",
    "print(dolfin.__version__)"
   ]
  },
  {
   "cell_type": "code",
   "execution_count": null,
   "id": "6fc3a02d",
   "metadata": {},
   "outputs": [
    {
     "ename": "NameError",
     "evalue": "name 'stem' is not defined",
     "output_type": "error",
     "traceback": [
      "\u001b[0;31m---------------------------------------------------------------------------\u001b[0m",
      "\u001b[0;31mNameError\u001b[0m                                 Traceback (most recent call last)",
      "Cell \u001b[0;32mIn[2], line 3\u001b[0m\n\u001b[1;32m      1\u001b[0m \u001b[38;5;66;03m# Things that stay the same throughout time loop in fenicsx\u001b[39;00m\n\u001b[0;32m----> 3\u001b[0m filename_deformation \u001b[38;5;241m=\u001b[39m \u001b[38;5;124m\"\u001b[39m\u001b[38;5;124mdata/mechanical_data/test_\u001b[39m\u001b[38;5;132;01m{}\u001b[39;00m\u001b[38;5;124m_deformation_times.xdmf\u001b[39m\u001b[38;5;124m\"\u001b[39m\u001b[38;5;241m.\u001b[39mformat(\u001b[43mstem\u001b[49m,full_stem)\n\u001b[1;32m      4\u001b[0m filename_T_a \u001b[38;5;241m=\u001b[39m \u001b[38;5;124m\"\u001b[39m\u001b[38;5;124mdata/mechanical_data/test_\u001b[39m\u001b[38;5;132;01m{}\u001b[39;00m\u001b[38;5;124m_active_tension_times.xdmf\u001b[39m\u001b[38;5;124m\"\u001b[39m\u001b[38;5;241m.\u001b[39mformat(stem,full_stem)\n\u001b[1;32m      6\u001b[0m N \u001b[38;5;241m=\u001b[39m \u001b[38;5;28mlen\u001b[39m(data[\u001b[38;5;241m-\u001b[39m\u001b[38;5;241m1\u001b[39m])\n",
      "\u001b[0;31mNameError\u001b[0m: name 'stem' is not defined"
     ]
    }
   ],
   "source": [
    "# # Things that stay the same throughout time loop in fenicsx\n",
    "\n",
    "# filename_deformation = \"data/mechanical_data/test_{}_deformation_times.xdmf\".format(stem,full_stem)\n",
    "# filename_T_a = \"data/mechanical_data/test_{}_active_tension_times.xdmf\".format(stem,full_stem)\n",
    "\n",
    "N = len(data[-1])\n",
    "L = np.max(data[-1])\n",
    "\n",
    "mu = 1\n",
    "beta = 1.25\n",
    "lambda_ = beta\n",
    "\n",
    "mesh_points = [np.array([0,0]), np.array([L,L])]\n",
    "\n",
    "# 2d domain\n",
    "domain = mesh.create_rectangle(MPI.COMM_WORLD,mesh_points,[N-1,N-1],mesh.CellType.quadrilateral)\n",
    "V = fem.VectorFunctionSpace(domain, (\"CG\", 1))\n",
    "F = fem.FunctionSpace(domain, (\"CG\", 1))\n",
    "\n",
    "# boundary u = 0\n",
    "def clamped_boundary_x0(x):\n",
    "    return np.isclose(x[0], 0)\n",
    "def clamped_boundary_x1(x):\n",
    "    return np.isclose(x[0], L)\n",
    "def clamped_boundary_y0(x):\n",
    "    return np.isclose(x[1], 0)\n",
    "def clamped_boundary_y1(x):\n",
    "    return np.isclose(x[1], L)\n",
    "\n",
    "fdim = domain.topology.dim - 1\n",
    "boundary_facets_x0 = mesh.locate_entities_boundary(domain, fdim, clamped_boundary_x0)\n",
    "boundary_facets_x1 = mesh.locate_entities_boundary(domain, fdim, clamped_boundary_x1)\n",
    "boundary_facets_y0 = mesh.locate_entities_boundary(domain, fdim, clamped_boundary_y0)\n",
    "boundary_facets_y1 = mesh.locate_entities_boundary(domain, fdim, clamped_boundary_y1)\n",
    "total_boundary_facets = np.concatenate((boundary_facets_x0, boundary_facets_x1,boundary_facets_y0,boundary_facets_y1))\n",
    "u_D = np.array([0,0], dtype=ScalarType)\n",
    "bc = fem.dirichletbc(u_D, fem.locate_dofs_topological(V, fdim, total_boundary_facets), V)\n",
    "\n",
    "# functions to solve the finite element system\n",
    "def epsilon(u):\n",
    "    return ufl.sym(ufl.grad(u)) # Equivalent to 0.5*(ufl.nabla_grad(u) + ufl.nabla_grad(u).T)\n",
    "def sigma(u):\n",
    "    return lambda_ * ufl.nabla_div(u) * ufl.Identity(u.geometric_dimension()) + 2*mu*epsilon(u)\n",
    "\n",
    "dof_coordinates = V.tabulate_dof_coordinates()\n",
    "coord = data[-1]\n",
    "\n",
    "# open files\n",
    "xdmf = io.XDMFFile(domain.comm, filename_deformation, \"w\")\n",
    "xdmf.write_mesh(domain)\n",
    "xdmf_T_a = io.XDMFFile(domain.comm, filename_T_a, \"w\")\n",
    "xdmf_T_a.write_mesh(domain)"
   ]
  },
  {
   "cell_type": "code",
   "execution_count": null,
   "id": "74a39ed0",
   "metadata": {},
   "outputs": [],
   "source": [
    "fenicsx\n",
    "\n",
    "for t in range(len(T)):\n",
    "\n",
    "    # putting T in finite function\n",
    "    f = fem.Function(F)\n",
    "    value_t = T[t,:,:]\n",
    "\n",
    "    coord_flatten = coord.reshape(-1, coord.shape[-1])\n",
    "    value_flatten = value_t.flatten()\n",
    "\n",
    "    for i,dc in enumerate(dof_coordinates):\n",
    "        for j,c in enumerate(coord_flatten):\n",
    "            if abs(dc[0] - c[0]) < 10**(-3) and abs(dc[1] - c[1]) < 10**(-3):\n",
    "                f.vector[i] = value_flatten[j]\n",
    "                        \n",
    "    T_finite = ufl.grad(f)\n",
    "\n",
    "    u = ufl.TrialFunction(V)\n",
    "    v = ufl.TestFunction(V)\n",
    "    a = ufl.inner(sigma(u), epsilon(v)) * ufl.dx\n",
    "    L = ufl.dot(T_finite, v) * ufl.dx\n",
    "\n",
    "    problem = fem.petsc.LinearProblem(a, L, bcs=[bc], petsc_options={\"ksp_type\": \"preonly\", \"pc_type\": \"lu\"})\n",
    "    uh = problem.solve()\n",
    "    uh.name = \"Deformation\"\n",
    "    f.name =\"Active_Tension\"\n",
    "\n",
    "    xdmf.write_function(uh, t)\n",
    "    xdmf_T_a.write_function(f, t)\n",
    "\n",
    "    print('timestep {}/{}'.format(t,len(T)))\n",
    "\n",
    "xdmf.close()\n",
    "xdmf_T_a.close()"
   ]
  }
 ],
 "metadata": {
  "kernelspec": {
   "display_name": "Python 3",
   "language": "python",
   "name": "python3"
  },
  "language_info": {
   "codemirror_mode": {
    "name": "ipython",
    "version": 3
   },
   "file_extension": ".py",
   "mimetype": "text/x-python",
   "name": "python",
   "nbconvert_exporter": "python",
   "pygments_lexer": "ipython3",
   "version": "3.9.13"
  }
 },
 "nbformat": 4,
 "nbformat_minor": 5
}
